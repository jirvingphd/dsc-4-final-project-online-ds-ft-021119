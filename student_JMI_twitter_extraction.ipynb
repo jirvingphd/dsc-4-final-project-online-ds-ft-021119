{
 "cells": [
  {
   "cell_type": "markdown",
   "metadata": {},
   "source": [
    "# 3 - Million Russian Troll Tweets - Part I\n",
    "- James M Irving, Ph.D.\n",
    "- Mod 4 Project\n",
    "- Flatiron Full Time Data Science Bootcamp - 02/2019 Cohort\n",
    "\n",
    "## GOAL: Using Twitter API to Extract Control Tweets\n",
    "\n",
    "- *IF I can get a control dataset* of non-Troll tweets from same time period with similar hashtags:*\n",
    "    - Use NLP to predict of a tweet is from an authentic user or a Russian troll.\n",
    "- *If no control tweets to compare to*\n",
    "    - Use NLP to predict how many retweets a Troll tweet will get.\n",
    "    - Consider both raw # of retweets, as well as a normalized # of retweets/# of followers.\n",
    "        - The latter would give better indication of language's effect on propagation. \n",
    "        "
   ]
  },
  {
   "cell_type": "markdown",
   "metadata": {},
   "source": [
    "# INSPECTING TROLL TWEETS ~~FROM KAGGLE~~ From FiveThirtyEight\n"
   ]
  },
  {
   "cell_type": "markdown",
   "metadata": {},
   "source": [
    "- GitHub Repository with FiveThirtyEight's version of russian troll tweets: https://github.com/fivethirtyeight/russian-troll-tweets/"
   ]
  },
  {
   "cell_type": "code",
   "execution_count": 3,
   "metadata": {
    "execution": {
     "iopub.execute_input": "2024-05-21T22:28:31.565647Z",
     "iopub.status.busy": "2024-05-21T22:28:31.565060Z",
     "iopub.status.idle": "2024-05-21T22:28:37.458735Z",
     "shell.execute_reply": "2024-05-21T22:28:37.458347Z",
     "shell.execute_reply.started": "2024-05-21T22:28:31.565614Z"
    },
    "scrolled": true
   },
   "outputs": [
    {
     "name": "stdout",
     "output_type": "stream",
     "text": [
      "dojo_ds v1.1.8 loaded.\n"
     ]
    },
    {
     "data": {
      "text/html": [
       "<style type=\"text/css\">\n",
       "#T_760ff_row0_col0, #T_760ff_row0_col2, #T_760ff_row0_col3, #T_760ff_row1_col0, #T_760ff_row1_col2, #T_760ff_row1_col3, #T_760ff_row2_col0, #T_760ff_row2_col2, #T_760ff_row2_col3, #T_760ff_row3_col0, #T_760ff_row3_col2, #T_760ff_row3_col3, #T_760ff_row4_col0, #T_760ff_row4_col2, #T_760ff_row4_col3, #T_760ff_row5_col0, #T_760ff_row5_col2, #T_760ff_row5_col3, #T_760ff_row6_col0, #T_760ff_row6_col2, #T_760ff_row6_col3 {\n",
       "  text-align: left;\n",
       "}\n",
       "#T_760ff_row0_col1, #T_760ff_row0_col4, #T_760ff_row1_col1, #T_760ff_row1_col4, #T_760ff_row2_col1, #T_760ff_row2_col4, #T_760ff_row3_col1, #T_760ff_row3_col4, #T_760ff_row4_col1, #T_760ff_row4_col4, #T_760ff_row5_col1, #T_760ff_row5_col4, #T_760ff_row6_col1, #T_760ff_row6_col4 {\n",
       "  text-align: left;\n",
       "  text-align: center;\n",
       "}\n",
       "</style>\n",
       "<table id=\"T_760ff\">\n",
       "  <caption>Loaded Packages & Info</caption>\n",
       "  <thead>\n",
       "    <tr>\n",
       "      <th id=\"T_760ff_level0_col0\" class=\"col_heading level0 col0\" >Package</th>\n",
       "      <th id=\"T_760ff_level0_col1\" class=\"col_heading level0 col1\" >Handle</th>\n",
       "      <th id=\"T_760ff_level0_col2\" class=\"col_heading level0 col2\" >Version</th>\n",
       "      <th id=\"T_760ff_level0_col3\" class=\"col_heading level0 col3\" >Documentation</th>\n",
       "      <th id=\"T_760ff_level0_col4\" class=\"col_heading level0 col4\" >Imported</th>\n",
       "    </tr>\n",
       "  </thead>\n",
       "  <tbody>\n",
       "    <tr>\n",
       "      <td id=\"T_760ff_row0_col0\" class=\"data row0 col0\" >dojo_ds</td>\n",
       "      <td id=\"T_760ff_row0_col1\" class=\"data row0 col1\" >ds</td>\n",
       "      <td id=\"T_760ff_row0_col2\" class=\"data row0 col2\" >1.1.8</td>\n",
       "      <td id=\"T_760ff_row0_col3\" class=\"data row0 col3\" ><a href=\"https://fs-ds.readthedocs.io/en/latest/\">https://fs-ds.readthedocs.io/en/latest/</a></td>\n",
       "      <td id=\"T_760ff_row0_col4\" class=\"data row0 col4\" >Y</td>\n",
       "    </tr>\n",
       "    <tr>\n",
       "      <td id=\"T_760ff_row1_col0\" class=\"data row1 col0\" >matplotlib</td>\n",
       "      <td id=\"T_760ff_row1_col1\" class=\"data row1 col1\" >mpl</td>\n",
       "      <td id=\"T_760ff_row1_col2\" class=\"data row1 col2\" >3.8.4</td>\n",
       "      <td id=\"T_760ff_row1_col3\" class=\"data row1 col3\" ><a href=\"https://matplotlib.org/stable/api/index.html\">https://matplotlib.org/stable/api/index.html</a></td>\n",
       "      <td id=\"T_760ff_row1_col4\" class=\"data row1 col4\" >Y</td>\n",
       "    </tr>\n",
       "    <tr>\n",
       "      <td id=\"T_760ff_row2_col0\" class=\"data row2 col0\" >matplotlib.pyplot</td>\n",
       "      <td id=\"T_760ff_row2_col1\" class=\"data row2 col1\" >plt</td>\n",
       "      <td id=\"T_760ff_row2_col2\" class=\"data row2 col2\" ></td>\n",
       "      <td id=\"T_760ff_row2_col3\" class=\"data row2 col3\" ><a href=\"https://matplotlib.org/stable/api/_as_gen/matplotlib.pyplot.html#module-matplotlib.pyplot\">https://matplotlib.org/stable/api/_as_gen/matplotlib.pyplot.html#module-matplotlib.pyplot</a></td>\n",
       "      <td id=\"T_760ff_row2_col4\" class=\"data row2 col4\" >Y</td>\n",
       "    </tr>\n",
       "    <tr>\n",
       "      <td id=\"T_760ff_row3_col0\" class=\"data row3 col0\" >numpy</td>\n",
       "      <td id=\"T_760ff_row3_col1\" class=\"data row3 col1\" >np</td>\n",
       "      <td id=\"T_760ff_row3_col2\" class=\"data row3 col2\" >1.26.4</td>\n",
       "      <td id=\"T_760ff_row3_col3\" class=\"data row3 col3\" ><a href=\"https://numpy.org/doc/stable/reference/\">https://numpy.org/doc/stable/reference/</a></td>\n",
       "      <td id=\"T_760ff_row3_col4\" class=\"data row3 col4\" >Y</td>\n",
       "    </tr>\n",
       "    <tr>\n",
       "      <td id=\"T_760ff_row4_col0\" class=\"data row4 col0\" >pandas</td>\n",
       "      <td id=\"T_760ff_row4_col1\" class=\"data row4 col1\" >pd</td>\n",
       "      <td id=\"T_760ff_row4_col2\" class=\"data row4 col2\" >2.2.2</td>\n",
       "      <td id=\"T_760ff_row4_col3\" class=\"data row4 col3\" ><a href=\"https://pandas.pydata.org/docs/\">https://pandas.pydata.org/docs/</a></td>\n",
       "      <td id=\"T_760ff_row4_col4\" class=\"data row4 col4\" >Y</td>\n",
       "    </tr>\n",
       "    <tr>\n",
       "      <td id=\"T_760ff_row5_col0\" class=\"data row5 col0\" >seaborn</td>\n",
       "      <td id=\"T_760ff_row5_col1\" class=\"data row5 col1\" >sns</td>\n",
       "      <td id=\"T_760ff_row5_col2\" class=\"data row5 col2\" >0.13.2</td>\n",
       "      <td id=\"T_760ff_row5_col3\" class=\"data row5 col3\" ><a href=\"https://seaborn.pydata.org/api.html\">https://seaborn.pydata.org/api.html</a></td>\n",
       "      <td id=\"T_760ff_row5_col4\" class=\"data row5 col4\" >Y</td>\n",
       "    </tr>\n",
       "    <tr>\n",
       "      <td id=\"T_760ff_row6_col0\" class=\"data row6 col0\" >sklearn</td>\n",
       "      <td id=\"T_760ff_row6_col1\" class=\"data row6 col1\" ></td>\n",
       "      <td id=\"T_760ff_row6_col2\" class=\"data row6 col2\" >1.4.1.post1</td>\n",
       "      <td id=\"T_760ff_row6_col3\" class=\"data row6 col3\" ><a href=\"\"></a></td>\n",
       "      <td id=\"T_760ff_row6_col4\" class=\"data row6 col4\" >N</td>\n",
       "    </tr>\n",
       "  </tbody>\n",
       "</table>\n"
      ],
      "text/plain": [
       "<pandas.io.formats.style.Styler at 0x318458eb0>"
      ]
     },
     "metadata": {},
     "output_type": "display_data"
    }
   ],
   "source": [
    "# import bs_ds as bs\n",
    "# from bs_ds.imports import *\n",
    "\n",
    "!pip install -U dojo_ds #-q\n",
    "import dojo_ds as ds\n",
    "from dojo_ds.imports import *"
   ]
  },
  {
   "cell_type": "code",
   "execution_count": 4,
   "metadata": {
    "execution": {
     "iopub.execute_input": "2024-05-21T22:28:37.459902Z",
     "iopub.status.busy": "2024-05-21T22:28:37.459699Z",
     "iopub.status.idle": "2024-05-21T22:28:37.461886Z",
     "shell.execute_reply": "2024-05-21T22:28:37.461555Z",
     "shell.execute_reply.started": "2024-05-21T22:28:37.459890Z"
    }
   },
   "outputs": [],
   "source": [
    "pd.set_option('display.max_columns', 50)"
   ]
  },
  {
   "cell_type": "code",
   "execution_count": 5,
   "metadata": {
    "execution": {
     "iopub.execute_input": "2024-05-21T22:28:37.462721Z",
     "iopub.status.busy": "2024-05-21T22:28:37.462591Z",
     "iopub.status.idle": "2024-05-21T22:28:37.466817Z",
     "shell.execute_reply": "2024-05-21T22:28:37.466399Z",
     "shell.execute_reply.started": "2024-05-21T22:28:37.462710Z"
    }
   },
   "outputs": [
    {
     "data": {
      "text/plain": [
       "['russian-troll-tweets/IRAhandle_tweets_1.csv',\n",
       " 'russian-troll-tweets/IRAhandle_tweets_10.csv',\n",
       " 'russian-troll-tweets/IRAhandle_tweets_11.csv',\n",
       " 'russian-troll-tweets/IRAhandle_tweets_12.csv',\n",
       " 'russian-troll-tweets/IRAhandle_tweets_13.csv',\n",
       " 'russian-troll-tweets/IRAhandle_tweets_2.csv',\n",
       " 'russian-troll-tweets/IRAhandle_tweets_3.csv',\n",
       " 'russian-troll-tweets/IRAhandle_tweets_4.csv',\n",
       " 'russian-troll-tweets/IRAhandle_tweets_5.csv',\n",
       " 'russian-troll-tweets/IRAhandle_tweets_6.csv',\n",
       " 'russian-troll-tweets/IRAhandle_tweets_7.csv',\n",
       " 'russian-troll-tweets/IRAhandle_tweets_8.csv',\n",
       " 'russian-troll-tweets/IRAhandle_tweets_9.csv']"
      ]
     },
     "execution_count": 5,
     "metadata": {},
     "output_type": "execute_result"
    }
   ],
   "source": [
    "import os, glob\n",
    "root_dir = 'russian-troll-tweets/'\n",
    "# os.listdir('russian-troll-tweets/')\n",
    "\n",
    "filelist = sorted(glob.glob(root_dir+'*.csv'))\n",
    "# filelist = [os.path.join(root_dir,file) for file in os.listdir(root_dir) if file.endswith('.csv')]\n",
    "filelist"
   ]
  },
  {
   "cell_type": "code",
   "execution_count": 6,
   "metadata": {
    "execution": {
     "iopub.execute_input": "2024-05-21T22:28:37.467592Z",
     "iopub.status.busy": "2024-05-21T22:28:37.467425Z",
     "iopub.status.idle": "2024-05-21T22:28:53.394130Z",
     "shell.execute_reply": "2024-05-21T22:28:53.393748Z",
     "shell.execute_reply.started": "2024-05-21T22:28:37.467571Z"
    }
   },
   "outputs": [
    {
     "name": "stdout",
     "output_type": "stream",
     "text": [
      "<class 'pandas.core.frame.DataFrame'>\n",
      "Index: 2946207 entries, 0 to 233539\n",
      "Data columns (total 21 columns):\n",
      " #   Column              Dtype \n",
      "---  ------              ----- \n",
      " 0   external_author_id  object\n",
      " 1   author              object\n",
      " 2   content             object\n",
      " 3   region              object\n",
      " 4   language            object\n",
      " 5   publish_date        object\n",
      " 6   harvested_date      object\n",
      " 7   following           int64 \n",
      " 8   followers           int64 \n",
      " 9   updates             int64 \n",
      " 10  post_type           object\n",
      " 11  account_type        object\n",
      " 12  retweet             int64 \n",
      " 13  account_category    object\n",
      " 14  new_june_2018       int64 \n",
      " 15  alt_external_id     object\n",
      " 16  tweet_id            int64 \n",
      " 17  article_url         object\n",
      " 18  tco1_step1          object\n",
      " 19  tco2_step1          object\n",
      " 20  tco3_step1          object\n",
      "dtypes: int64(6), object(15)\n",
      "memory usage: 494.5+ MB\n"
     ]
    }
   ],
   "source": [
    "# Vertically concatenate \n",
    "df_list = []\n",
    "for file in filelist:\n",
    "    df_new = pd.read_csv(file, low_memory=False)\n",
    "    df_list.append(df_new)\n",
    "\n",
    "df = pd.concat(df_list, axis=0)\n",
    "df.info()"
   ]
  },
  {
   "cell_type": "code",
   "execution_count": 7,
   "metadata": {
    "execution": {
     "iopub.execute_input": "2024-05-21T22:28:53.396057Z",
     "iopub.status.busy": "2024-05-21T22:28:53.395872Z",
     "iopub.status.idle": "2024-05-21T22:28:53.410716Z",
     "shell.execute_reply": "2024-05-21T22:28:53.410408Z",
     "shell.execute_reply.started": "2024-05-21T22:28:53.396040Z"
    },
    "scrolled": true
   },
   "outputs": [
    {
     "data": {
      "text/html": [
       "<div>\n",
       "<style scoped>\n",
       "    .dataframe tbody tr th:only-of-type {\n",
       "        vertical-align: middle;\n",
       "    }\n",
       "\n",
       "    .dataframe tbody tr th {\n",
       "        vertical-align: top;\n",
       "    }\n",
       "\n",
       "    .dataframe thead th {\n",
       "        text-align: right;\n",
       "    }\n",
       "</style>\n",
       "<table border=\"1\" class=\"dataframe\">\n",
       "  <thead>\n",
       "    <tr style=\"text-align: right;\">\n",
       "      <th></th>\n",
       "      <th>external_author_id</th>\n",
       "      <th>author</th>\n",
       "      <th>content</th>\n",
       "      <th>region</th>\n",
       "      <th>language</th>\n",
       "      <th>publish_date</th>\n",
       "      <th>harvested_date</th>\n",
       "      <th>following</th>\n",
       "      <th>followers</th>\n",
       "      <th>updates</th>\n",
       "      <th>post_type</th>\n",
       "      <th>account_type</th>\n",
       "      <th>retweet</th>\n",
       "      <th>account_category</th>\n",
       "      <th>new_june_2018</th>\n",
       "      <th>alt_external_id</th>\n",
       "      <th>tweet_id</th>\n",
       "      <th>article_url</th>\n",
       "      <th>tco1_step1</th>\n",
       "      <th>tco2_step1</th>\n",
       "      <th>tco3_step1</th>\n",
       "    </tr>\n",
       "  </thead>\n",
       "  <tbody>\n",
       "    <tr>\n",
       "      <th>0</th>\n",
       "      <td>906000000000000000</td>\n",
       "      <td>10_GOP</td>\n",
       "      <td>\"We have a sitting Democrat US Senator on tria...</td>\n",
       "      <td>Unknown</td>\n",
       "      <td>English</td>\n",
       "      <td>10/1/2017 19:58</td>\n",
       "      <td>10/1/2017 19:59</td>\n",
       "      <td>1052</td>\n",
       "      <td>9636</td>\n",
       "      <td>253</td>\n",
       "      <td>NaN</td>\n",
       "      <td>Right</td>\n",
       "      <td>0</td>\n",
       "      <td>RightTroll</td>\n",
       "      <td>0</td>\n",
       "      <td>905874659358453760</td>\n",
       "      <td>914580356430536707</td>\n",
       "      <td>http://twitter.com/905874659358453760/statuses...</td>\n",
       "      <td>https://twitter.com/10_gop/status/914580356430...</td>\n",
       "      <td>NaN</td>\n",
       "      <td>NaN</td>\n",
       "    </tr>\n",
       "    <tr>\n",
       "      <th>1</th>\n",
       "      <td>906000000000000000</td>\n",
       "      <td>10_GOP</td>\n",
       "      <td>Marshawn Lynch arrives to game in anti-Trump s...</td>\n",
       "      <td>Unknown</td>\n",
       "      <td>English</td>\n",
       "      <td>10/1/2017 22:43</td>\n",
       "      <td>10/1/2017 22:43</td>\n",
       "      <td>1054</td>\n",
       "      <td>9637</td>\n",
       "      <td>254</td>\n",
       "      <td>NaN</td>\n",
       "      <td>Right</td>\n",
       "      <td>0</td>\n",
       "      <td>RightTroll</td>\n",
       "      <td>0</td>\n",
       "      <td>905874659358453760</td>\n",
       "      <td>914621840496189440</td>\n",
       "      <td>http://twitter.com/905874659358453760/statuses...</td>\n",
       "      <td>https://twitter.com/damienwoody/status/9145685...</td>\n",
       "      <td>NaN</td>\n",
       "      <td>NaN</td>\n",
       "    </tr>\n",
       "  </tbody>\n",
       "</table>\n",
       "</div>"
      ],
      "text/plain": [
       "   external_author_id  author  \\\n",
       "0  906000000000000000  10_GOP   \n",
       "1  906000000000000000  10_GOP   \n",
       "\n",
       "                                             content   region language  \\\n",
       "0  \"We have a sitting Democrat US Senator on tria...  Unknown  English   \n",
       "1  Marshawn Lynch arrives to game in anti-Trump s...  Unknown  English   \n",
       "\n",
       "      publish_date   harvested_date  following  followers  updates post_type  \\\n",
       "0  10/1/2017 19:58  10/1/2017 19:59       1052       9636      253       NaN   \n",
       "1  10/1/2017 22:43  10/1/2017 22:43       1054       9637      254       NaN   \n",
       "\n",
       "  account_type  retweet account_category  new_june_2018     alt_external_id  \\\n",
       "0        Right        0       RightTroll              0  905874659358453760   \n",
       "1        Right        0       RightTroll              0  905874659358453760   \n",
       "\n",
       "             tweet_id                                        article_url  \\\n",
       "0  914580356430536707  http://twitter.com/905874659358453760/statuses...   \n",
       "1  914621840496189440  http://twitter.com/905874659358453760/statuses...   \n",
       "\n",
       "                                          tco1_step1 tco2_step1 tco3_step1  \n",
       "0  https://twitter.com/10_gop/status/914580356430...        NaN        NaN  \n",
       "1  https://twitter.com/damienwoody/status/9145685...        NaN        NaN  "
      ]
     },
     "execution_count": 7,
     "metadata": {},
     "output_type": "execute_result"
    }
   ],
   "source": [
    "df.head(2)"
   ]
  },
  {
   "cell_type": "markdown",
   "metadata": {},
   "source": [
    "## Dataset Features:\n",
    "- Kaggle Dataset published by FiveThirtyEight\n",
    "    - https://www.kaggle.com/fivethirtyeight/russian-troll-tweets/downloads/russian-troll-tweets.zip/2\n",
    "<br>    \n",
    "- Data is split into 9 .csv files\n",
    "    - 'IRAhandle_tweets_1.csv' to 9\n",
    "\n",
    "- **Variables:**\n",
    "    - ~~`external_author_id` | An author account ID from Twitter~~\n",
    "    - `author` | The handle sending the tweet\n",
    "    - `content` | The text of the tweet\n",
    "    - `region` | A region classification, as [determined by Social Studio](https://help.salesforce.com/articleView?   id=000199367&type=1)\n",
    "    - `language` | The language of the tweet\n",
    "    - `publish_date` | The date and time the tweet was sent\n",
    "    - ~~`harvested_date` | The date and time the tweet was collected by Social Studio~~\n",
    "    - `following` | The number of accounts the handle was following at the time of the tweet\n",
    "    - `followers` | The number of followers the handle had at the time of the tweet\n",
    "    - `updates` | The number of “update actions” on the account that authored the tweet, including tweets, retweets and likes\n",
    "    - `post_type` | Indicates if the tweet was a retweet or a quote-tweet *[Whats a quote-tweet?]*\n",
    "    - `account_type` | Specific account theme, as coded by Linvill and Warren\n",
    "    - `retweet` | A binary indicator of whether or not the tweet is a retweet [?]\n",
    "    - `account_category` | General account theme, as coded by Linvill and Warren\n",
    "    - `new_june_2018` | A binary indicator of whether the handle was newly listed in June 2018\n",
    "    \n",
    "### **Classification of account_type**\n",
    "Taken from: [rcmediafreedom.eu summary](https://www.rcmediafreedom.eu/Publications/Academic-sources/Troll-Factories-The-Internet-Research-Agency-and-State-Sponsored-Agenda-Building)\n",
    "\n",
    ">- **They identified five categories of IRA-associated Twitter accounts, each with unique patterns of behaviors:**\n",
    "    - **Right Troll**, spreading nativist and right-leaning populist messages. It supported the candidacy and Presidency of Donald Trump and denigrated the Democratic Party. It often sent divisive messages about mainstream and moderate Republicans.\n",
    "    - **Left Troll**, sending socially liberal messages and discussing gender, sexual, religious, and -especially- racial identity. Many tweets seemed intentionally divisive, attacking mainstream Democratic politicians, particularly Hillary Clinton, while supporting Bernie Sanders prior to the election.\n",
    "    - **News Feed**, overwhelmingly presenting themselves as U.S. local news aggregators, linking to legitimate regional news sources and tweeting about issues of local interest.\n",
    "    - **Hashtag Gamer**, dedicated almost exclusively to playing hashtag games.\n",
    "    - **Fearmonger**: spreading a hoax about poisoned turkeys near the 2015 Thanksgiving holiday.\n",
    "\n",
    ">The different types of account were used differently and their efforts were conducted systematically, with different allocation when faced with different political circumstances or shifting goals. E.g.: there was a spike of activity by right and left troll accounts before the publication of John Podesta's emails by WikiLeaks. According to the authors, this activity can be characterised as “industrialized political warfare”.\n",
    "\n",
    "___"
   ]
  },
  {
   "cell_type": "markdown",
   "metadata": {},
   "source": [
    "# SCRUB / EDA"
   ]
  },
  {
   "cell_type": "code",
   "execution_count": 8,
   "metadata": {
    "execution": {
     "iopub.execute_input": "2024-05-21T22:28:53.411522Z",
     "iopub.status.busy": "2024-05-21T22:28:53.411355Z",
     "iopub.status.idle": "2024-05-21T22:28:53.413356Z",
     "shell.execute_reply": "2024-05-21T22:28:53.412991Z",
     "shell.execute_reply.started": "2024-05-21T22:28:53.411511Z"
    }
   },
   "outputs": [],
   "source": [
    "# from pandas_profiling import ProfileReport\n",
    "# ProfileReport(df)"
   ]
  },
  {
   "cell_type": "markdown",
   "metadata": {},
   "source": [
    "## Observations from Inspection / Pandas_Profiling ProfileReport\n",
    "\n",
    "- **Language to Analyze is in `Content`:**\n",
    "    - Actual tweet contents. \n",
    " \n",
    "- **Classification/Analysis Thoughts:**\n",
    "    - **Variables should be considered in 2 ways:**\n",
    "        - First, the tweet contents. \n",
    "            - Use NLP to engineer features to feed into deep learning.\n",
    "                - Sentiment analysis, named-entity frequency/types, most-similar words. \n",
    "        - Second, the tweet metadata. \n",
    "        \n",
    "### Thoughts on specific features:\n",
    "- `language`\n",
    "    - There are 56 unique languages. \n",
    "    - 2.4 million are English, 670 K are in Russian, etc.\n",
    "\n",
    "### Questions to answer:\n",
    "- [x] Why are so many post_types missing? (55%?)\n",
    "    - Because they were added 'new_june_2018' and were not classified by the original scientists. \n",
    "- [x] How many tweets were written by a russian troll account?\n",
    "    - After removing retweets, there are 1,272,848 original tweets. \n",
    "    \n",
    "### Scrubing to Perform\n",
    "- **Recast Columns:**\n",
    "    - [ ] `publish_date` to datetime. \n",
    "- **Columns to Discard:**\n",
    "    - [ ] `harvested_date` (we care about publish_date, if anything, time-wise)\n",
    "    - [ ] `language`: remove all non-english tweets and drop column\n",
    "    - [ ] `new_june_2018`"
   ]
  },
  {
   "cell_type": "markdown",
   "metadata": {},
   "source": [
    "### Reducing Targeted Tweets to Language=English and Retweet=0 Only\n",
    "\n",
    "- Since the goal is to use NLP to detect which tweets came from Russian trolls, we will only analyze the tweets that were originally created by a known Russian troll account"
   ]
  },
  {
   "cell_type": "code",
   "execution_count": 9,
   "metadata": {
    "execution": {
     "iopub.execute_input": "2024-05-21T22:28:53.414425Z",
     "iopub.status.busy": "2024-05-21T22:28:53.414225Z",
     "iopub.status.idle": "2024-05-21T22:28:54.279453Z",
     "shell.execute_reply": "2024-05-21T22:28:54.279157Z",
     "shell.execute_reply.started": "2024-05-21T22:28:53.414413Z"
    }
   },
   "outputs": [
    {
     "data": {
      "text/plain": [
       "0.19708526929709963"
      ]
     },
     "execution_count": 9,
     "metadata": {},
     "output_type": "execute_result"
    }
   ],
   "source": [
    "# Identify duplicate tweets\n",
    "is_duplicate = df.duplicated(subset=['content'])\n",
    "is_duplicate.sum() / len(is_duplicate)"
   ]
  },
  {
   "cell_type": "code",
   "execution_count": 10,
   "metadata": {
    "execution": {
     "iopub.execute_input": "2024-05-21T22:28:54.279991Z",
     "iopub.status.busy": "2024-05-21T22:28:54.279888Z",
     "iopub.status.idle": "2024-05-21T22:28:54.398659Z",
     "shell.execute_reply": "2024-05-21T22:28:54.398165Z",
     "shell.execute_reply.started": "2024-05-21T22:28:54.279980Z"
    }
   },
   "outputs": [
    {
     "data": {
      "text/plain": [
       "0.7185058619438485"
      ]
     },
     "execution_count": 10,
     "metadata": {},
     "output_type": "execute_result"
    }
   ],
   "source": [
    "# Filter for english tweets\n",
    "is_english = df['language'] == \"English\"\n",
    "is_english.sum() / len(is_english)"
   ]
  },
  {
   "cell_type": "code",
   "execution_count": 11,
   "metadata": {
    "execution": {
     "iopub.execute_input": "2024-05-21T22:28:54.399479Z",
     "iopub.status.busy": "2024-05-21T22:28:54.399284Z",
     "iopub.status.idle": "2024-05-21T22:28:54.404396Z",
     "shell.execute_reply": "2024-05-21T22:28:54.403936Z",
     "shell.execute_reply.started": "2024-05-21T22:28:54.399461Z"
    }
   },
   "outputs": [
    {
     "data": {
      "text/plain": [
       "0.44042458659557865"
      ]
     },
     "execution_count": 11,
     "metadata": {},
     "output_type": "execute_result"
    }
   ],
   "source": [
    "# Checking distribution of retweet column\n",
    "is_retweet = df['retweet'] == 1\n",
    "# df['retweet'].value_counts(normalize=True, dropna=False)\n",
    "is_retweet.sum() / len(is_retweet)"
   ]
  },
  {
   "cell_type": "code",
   "execution_count": 12,
   "metadata": {
    "execution": {
     "iopub.execute_input": "2024-05-21T22:28:54.405337Z",
     "iopub.status.busy": "2024-05-21T22:28:54.405171Z",
     "iopub.status.idle": "2024-05-21T22:28:54.410213Z",
     "shell.execute_reply": "2024-05-21T22:28:54.409886Z",
     "shell.execute_reply.started": "2024-05-21T22:28:54.405325Z"
    }
   },
   "outputs": [
    {
     "data": {
      "text/plain": [
       "0.4291385500068393"
      ]
     },
     "execution_count": 12,
     "metadata": {},
     "output_type": "execute_result"
    }
   ],
   "source": [
    "## Combine filters to remove unwanted rows \n",
    "is_english_original = is_english & ~is_retweet\n",
    "is_english_original.sum() / len(is_english_original)"
   ]
  },
  {
   "cell_type": "code",
   "execution_count": 13,
   "metadata": {
    "execution": {
     "iopub.execute_input": "2024-05-21T22:28:54.410916Z",
     "iopub.status.busy": "2024-05-21T22:28:54.410788Z",
     "iopub.status.idle": "2024-05-21T22:28:54.586135Z",
     "shell.execute_reply": "2024-05-21T22:28:54.585732Z",
     "shell.execute_reply.started": "2024-05-21T22:28:54.410905Z"
    }
   },
   "outputs": [
    {
     "data": {
      "text/html": [
       "<div>\n",
       "<style scoped>\n",
       "    .dataframe tbody tr th:only-of-type {\n",
       "        vertical-align: middle;\n",
       "    }\n",
       "\n",
       "    .dataframe tbody tr th {\n",
       "        vertical-align: top;\n",
       "    }\n",
       "\n",
       "    .dataframe thead th {\n",
       "        text-align: right;\n",
       "    }\n",
       "</style>\n",
       "<table border=\"1\" class=\"dataframe\">\n",
       "  <thead>\n",
       "    <tr style=\"text-align: right;\">\n",
       "      <th></th>\n",
       "      <th>external_author_id</th>\n",
       "      <th>author</th>\n",
       "      <th>content</th>\n",
       "      <th>region</th>\n",
       "      <th>language</th>\n",
       "      <th>publish_date</th>\n",
       "      <th>harvested_date</th>\n",
       "      <th>following</th>\n",
       "      <th>followers</th>\n",
       "      <th>updates</th>\n",
       "      <th>post_type</th>\n",
       "      <th>account_type</th>\n",
       "      <th>retweet</th>\n",
       "      <th>account_category</th>\n",
       "      <th>new_june_2018</th>\n",
       "      <th>alt_external_id</th>\n",
       "      <th>tweet_id</th>\n",
       "      <th>article_url</th>\n",
       "      <th>tco1_step1</th>\n",
       "      <th>tco2_step1</th>\n",
       "      <th>tco3_step1</th>\n",
       "    </tr>\n",
       "  </thead>\n",
       "  <tbody>\n",
       "    <tr>\n",
       "      <th>0</th>\n",
       "      <td>906000000000000000</td>\n",
       "      <td>10_GOP</td>\n",
       "      <td>\"We have a sitting Democrat US Senator on tria...</td>\n",
       "      <td>Unknown</td>\n",
       "      <td>English</td>\n",
       "      <td>10/1/2017 19:58</td>\n",
       "      <td>10/1/2017 19:59</td>\n",
       "      <td>1052</td>\n",
       "      <td>9636</td>\n",
       "      <td>253</td>\n",
       "      <td>NaN</td>\n",
       "      <td>Right</td>\n",
       "      <td>0</td>\n",
       "      <td>RightTroll</td>\n",
       "      <td>0</td>\n",
       "      <td>905874659358453760</td>\n",
       "      <td>914580356430536707</td>\n",
       "      <td>http://twitter.com/905874659358453760/statuses...</td>\n",
       "      <td>https://twitter.com/10_gop/status/914580356430...</td>\n",
       "      <td>NaN</td>\n",
       "      <td>NaN</td>\n",
       "    </tr>\n",
       "    <tr>\n",
       "      <th>1</th>\n",
       "      <td>906000000000000000</td>\n",
       "      <td>10_GOP</td>\n",
       "      <td>Marshawn Lynch arrives to game in anti-Trump s...</td>\n",
       "      <td>Unknown</td>\n",
       "      <td>English</td>\n",
       "      <td>10/1/2017 22:43</td>\n",
       "      <td>10/1/2017 22:43</td>\n",
       "      <td>1054</td>\n",
       "      <td>9637</td>\n",
       "      <td>254</td>\n",
       "      <td>NaN</td>\n",
       "      <td>Right</td>\n",
       "      <td>0</td>\n",
       "      <td>RightTroll</td>\n",
       "      <td>0</td>\n",
       "      <td>905874659358453760</td>\n",
       "      <td>914621840496189440</td>\n",
       "      <td>http://twitter.com/905874659358453760/statuses...</td>\n",
       "      <td>https://twitter.com/damienwoody/status/9145685...</td>\n",
       "      <td>NaN</td>\n",
       "      <td>NaN</td>\n",
       "    </tr>\n",
       "    <tr>\n",
       "      <th>3</th>\n",
       "      <td>906000000000000000</td>\n",
       "      <td>10_GOP</td>\n",
       "      <td>JUST IN: President Trump dedicates Presidents ...</td>\n",
       "      <td>Unknown</td>\n",
       "      <td>English</td>\n",
       "      <td>10/1/2017 23:52</td>\n",
       "      <td>10/1/2017 23:52</td>\n",
       "      <td>1062</td>\n",
       "      <td>9642</td>\n",
       "      <td>256</td>\n",
       "      <td>NaN</td>\n",
       "      <td>Right</td>\n",
       "      <td>0</td>\n",
       "      <td>RightTroll</td>\n",
       "      <td>0</td>\n",
       "      <td>905874659358453760</td>\n",
       "      <td>914639143690555392</td>\n",
       "      <td>http://twitter.com/905874659358453760/statuses...</td>\n",
       "      <td>https://twitter.com/10_gop/status/914639143690...</td>\n",
       "      <td>NaN</td>\n",
       "      <td>NaN</td>\n",
       "    </tr>\n",
       "    <tr>\n",
       "      <th>5</th>\n",
       "      <td>906000000000000000</td>\n",
       "      <td>10_GOP</td>\n",
       "      <td>Dan Bongino: \"Nobody trolls liberals better th...</td>\n",
       "      <td>Unknown</td>\n",
       "      <td>English</td>\n",
       "      <td>10/1/2017 2:47</td>\n",
       "      <td>10/1/2017 2:47</td>\n",
       "      <td>1050</td>\n",
       "      <td>9644</td>\n",
       "      <td>247</td>\n",
       "      <td>NaN</td>\n",
       "      <td>Right</td>\n",
       "      <td>0</td>\n",
       "      <td>RightTroll</td>\n",
       "      <td>0</td>\n",
       "      <td>905874659358453760</td>\n",
       "      <td>914320835325853696</td>\n",
       "      <td>http://twitter.com/905874659358453760/statuses...</td>\n",
       "      <td>https://twitter.com/FoxNews/status/91423949678...</td>\n",
       "      <td>NaN</td>\n",
       "      <td>NaN</td>\n",
       "    </tr>\n",
       "    <tr>\n",
       "      <th>7</th>\n",
       "      <td>906000000000000000</td>\n",
       "      <td>10_GOP</td>\n",
       "      <td>'@SenatorMenendez @CarmenYulinCruz Doesn't mat...</td>\n",
       "      <td>Unknown</td>\n",
       "      <td>English</td>\n",
       "      <td>10/1/2017 2:52</td>\n",
       "      <td>10/1/2017 2:53</td>\n",
       "      <td>1050</td>\n",
       "      <td>9644</td>\n",
       "      <td>249</td>\n",
       "      <td>NaN</td>\n",
       "      <td>Right</td>\n",
       "      <td>0</td>\n",
       "      <td>RightTroll</td>\n",
       "      <td>0</td>\n",
       "      <td>905874659358453760</td>\n",
       "      <td>914322215537119234</td>\n",
       "      <td>http://twitter.com/905874659358453760/statuses...</td>\n",
       "      <td>NaN</td>\n",
       "      <td>NaN</td>\n",
       "      <td>NaN</td>\n",
       "    </tr>\n",
       "    <tr>\n",
       "      <th>...</th>\n",
       "      <td>...</td>\n",
       "      <td>...</td>\n",
       "      <td>...</td>\n",
       "      <td>...</td>\n",
       "      <td>...</td>\n",
       "      <td>...</td>\n",
       "      <td>...</td>\n",
       "      <td>...</td>\n",
       "      <td>...</td>\n",
       "      <td>...</td>\n",
       "      <td>...</td>\n",
       "      <td>...</td>\n",
       "      <td>...</td>\n",
       "      <td>...</td>\n",
       "      <td>...</td>\n",
       "      <td>...</td>\n",
       "      <td>...</td>\n",
       "      <td>...</td>\n",
       "      <td>...</td>\n",
       "      <td>...</td>\n",
       "      <td>...</td>\n",
       "    </tr>\n",
       "    <tr>\n",
       "      <th>230905</th>\n",
       "      <td>2260338140</td>\n",
       "      <td>POLITICS_T0DAY</td>\n",
       "      <td>Watch \"Missile launch over San Francisco\" by @...</td>\n",
       "      <td>United States</td>\n",
       "      <td>English</td>\n",
       "      <td>11/9/2015 14:42</td>\n",
       "      <td>11/9/2015 14:42</td>\n",
       "      <td>92</td>\n",
       "      <td>898</td>\n",
       "      <td>9502</td>\n",
       "      <td>NaN</td>\n",
       "      <td>Russian</td>\n",
       "      <td>0</td>\n",
       "      <td>NonEnglish</td>\n",
       "      <td>0</td>\n",
       "      <td>2260338140</td>\n",
       "      <td>663728439766204416</td>\n",
       "      <td>http://twitter.com/politics_t0day/statuses/663...</td>\n",
       "      <td>https://vimeo.com/145029572?ref=tw-share</td>\n",
       "      <td>NaN</td>\n",
       "      <td>NaN</td>\n",
       "    </tr>\n",
       "    <tr>\n",
       "      <th>230973</th>\n",
       "      <td>2260338140</td>\n",
       "      <td>POLITICS_T0DAY</td>\n",
       "      <td>Boeing Pieces Together the Last C-17 on the Li...</td>\n",
       "      <td>United States</td>\n",
       "      <td>English</td>\n",
       "      <td>12/1/2015 13:42</td>\n",
       "      <td>12/1/2015 13:42</td>\n",
       "      <td>92</td>\n",
       "      <td>919</td>\n",
       "      <td>10148</td>\n",
       "      <td>NaN</td>\n",
       "      <td>Russian</td>\n",
       "      <td>0</td>\n",
       "      <td>NonEnglish</td>\n",
       "      <td>0</td>\n",
       "      <td>2260338140</td>\n",
       "      <td>671685764418281472</td>\n",
       "      <td>http://twitter.com/politics_t0day/statuses/671...</td>\n",
       "      <td>https://youtu.be/90daE-lAQo0</td>\n",
       "      <td>NaN</td>\n",
       "      <td>NaN</td>\n",
       "    </tr>\n",
       "    <tr>\n",
       "      <th>232028</th>\n",
       "      <td>2260338140</td>\n",
       "      <td>POLITICS_T0DAY</td>\n",
       "      <td>Satanic Temple Performs the Nation's First Sta...</td>\n",
       "      <td>United States</td>\n",
       "      <td>English</td>\n",
       "      <td>12/23/2015 9:57</td>\n",
       "      <td>12/23/2015 9:57</td>\n",
       "      <td>92</td>\n",
       "      <td>900</td>\n",
       "      <td>10961</td>\n",
       "      <td>NaN</td>\n",
       "      <td>Russian</td>\n",
       "      <td>0</td>\n",
       "      <td>NonEnglish</td>\n",
       "      <td>0</td>\n",
       "      <td>2260338140</td>\n",
       "      <td>679601725314076672</td>\n",
       "      <td>http://twitter.com/politics_t0day/statuses/679...</td>\n",
       "      <td>https://youtu.be/nBufzUH-RpQ</td>\n",
       "      <td>NaN</td>\n",
       "      <td>NaN</td>\n",
       "    </tr>\n",
       "    <tr>\n",
       "      <th>232955</th>\n",
       "      <td>2260338140</td>\n",
       "      <td>POLITICS_T0DAY</td>\n",
       "      <td>Eagles of Death Metal Join U2 on Paris Stage h...</td>\n",
       "      <td>United States</td>\n",
       "      <td>English</td>\n",
       "      <td>12/8/2015 7:50</td>\n",
       "      <td>12/8/2015 7:51</td>\n",
       "      <td>92</td>\n",
       "      <td>935</td>\n",
       "      <td>10370</td>\n",
       "      <td>NaN</td>\n",
       "      <td>Russian</td>\n",
       "      <td>0</td>\n",
       "      <td>NonEnglish</td>\n",
       "      <td>0</td>\n",
       "      <td>2260338140</td>\n",
       "      <td>674134049749889024</td>\n",
       "      <td>http://twitter.com/politics_t0day/statuses/674...</td>\n",
       "      <td>https://youtu.be/JpgpkXdoCGc</td>\n",
       "      <td>NaN</td>\n",
       "      <td>NaN</td>\n",
       "    </tr>\n",
       "    <tr>\n",
       "      <th>233514</th>\n",
       "      <td>2260338140</td>\n",
       "      <td>POLITICS_T0DAY</td>\n",
       "      <td>Hillary Clinton barks like a dog to make a poi...</td>\n",
       "      <td>United States</td>\n",
       "      <td>English</td>\n",
       "      <td>2/16/2016 11:58</td>\n",
       "      <td>2/16/2016 11:58</td>\n",
       "      <td>92</td>\n",
       "      <td>886</td>\n",
       "      <td>12912</td>\n",
       "      <td>NaN</td>\n",
       "      <td>Russian</td>\n",
       "      <td>0</td>\n",
       "      <td>NonEnglish</td>\n",
       "      <td>0</td>\n",
       "      <td>2260338140</td>\n",
       "      <td>699563577355534336</td>\n",
       "      <td>http://twitter.com/politics_t0day/statuses/699...</td>\n",
       "      <td>https://youtu.be/u45DXyLyp_0</td>\n",
       "      <td>NaN</td>\n",
       "      <td>NaN</td>\n",
       "    </tr>\n",
       "  </tbody>\n",
       "</table>\n",
       "<p>1264331 rows × 21 columns</p>\n",
       "</div>"
      ],
      "text/plain": [
       "        external_author_id          author  \\\n",
       "0       906000000000000000          10_GOP   \n",
       "1       906000000000000000          10_GOP   \n",
       "3       906000000000000000          10_GOP   \n",
       "5       906000000000000000          10_GOP   \n",
       "7       906000000000000000          10_GOP   \n",
       "...                    ...             ...   \n",
       "230905          2260338140  POLITICS_T0DAY   \n",
       "230973          2260338140  POLITICS_T0DAY   \n",
       "232028          2260338140  POLITICS_T0DAY   \n",
       "232955          2260338140  POLITICS_T0DAY   \n",
       "233514          2260338140  POLITICS_T0DAY   \n",
       "\n",
       "                                                  content         region  \\\n",
       "0       \"We have a sitting Democrat US Senator on tria...        Unknown   \n",
       "1       Marshawn Lynch arrives to game in anti-Trump s...        Unknown   \n",
       "3       JUST IN: President Trump dedicates Presidents ...        Unknown   \n",
       "5       Dan Bongino: \"Nobody trolls liberals better th...        Unknown   \n",
       "7       '@SenatorMenendez @CarmenYulinCruz Doesn't mat...        Unknown   \n",
       "...                                                   ...            ...   \n",
       "230905  Watch \"Missile launch over San Francisco\" by @...  United States   \n",
       "230973  Boeing Pieces Together the Last C-17 on the Li...  United States   \n",
       "232028  Satanic Temple Performs the Nation's First Sta...  United States   \n",
       "232955  Eagles of Death Metal Join U2 on Paris Stage h...  United States   \n",
       "233514  Hillary Clinton barks like a dog to make a poi...  United States   \n",
       "\n",
       "       language     publish_date   harvested_date  following  followers  \\\n",
       "0       English  10/1/2017 19:58  10/1/2017 19:59       1052       9636   \n",
       "1       English  10/1/2017 22:43  10/1/2017 22:43       1054       9637   \n",
       "3       English  10/1/2017 23:52  10/1/2017 23:52       1062       9642   \n",
       "5       English   10/1/2017 2:47   10/1/2017 2:47       1050       9644   \n",
       "7       English   10/1/2017 2:52   10/1/2017 2:53       1050       9644   \n",
       "...         ...              ...              ...        ...        ...   \n",
       "230905  English  11/9/2015 14:42  11/9/2015 14:42         92        898   \n",
       "230973  English  12/1/2015 13:42  12/1/2015 13:42         92        919   \n",
       "232028  English  12/23/2015 9:57  12/23/2015 9:57         92        900   \n",
       "232955  English   12/8/2015 7:50   12/8/2015 7:51         92        935   \n",
       "233514  English  2/16/2016 11:58  2/16/2016 11:58         92        886   \n",
       "\n",
       "        updates post_type account_type  retweet account_category  \\\n",
       "0           253       NaN        Right        0       RightTroll   \n",
       "1           254       NaN        Right        0       RightTroll   \n",
       "3           256       NaN        Right        0       RightTroll   \n",
       "5           247       NaN        Right        0       RightTroll   \n",
       "7           249       NaN        Right        0       RightTroll   \n",
       "...         ...       ...          ...      ...              ...   \n",
       "230905     9502       NaN      Russian        0       NonEnglish   \n",
       "230973    10148       NaN      Russian        0       NonEnglish   \n",
       "232028    10961       NaN      Russian        0       NonEnglish   \n",
       "232955    10370       NaN      Russian        0       NonEnglish   \n",
       "233514    12912       NaN      Russian        0       NonEnglish   \n",
       "\n",
       "        new_june_2018     alt_external_id            tweet_id  \\\n",
       "0                   0  905874659358453760  914580356430536707   \n",
       "1                   0  905874659358453760  914621840496189440   \n",
       "3                   0  905874659358453760  914639143690555392   \n",
       "5                   0  905874659358453760  914320835325853696   \n",
       "7                   0  905874659358453760  914322215537119234   \n",
       "...               ...                 ...                 ...   \n",
       "230905              0          2260338140  663728439766204416   \n",
       "230973              0          2260338140  671685764418281472   \n",
       "232028              0          2260338140  679601725314076672   \n",
       "232955              0          2260338140  674134049749889024   \n",
       "233514              0          2260338140  699563577355534336   \n",
       "\n",
       "                                              article_url  \\\n",
       "0       http://twitter.com/905874659358453760/statuses...   \n",
       "1       http://twitter.com/905874659358453760/statuses...   \n",
       "3       http://twitter.com/905874659358453760/statuses...   \n",
       "5       http://twitter.com/905874659358453760/statuses...   \n",
       "7       http://twitter.com/905874659358453760/statuses...   \n",
       "...                                                   ...   \n",
       "230905  http://twitter.com/politics_t0day/statuses/663...   \n",
       "230973  http://twitter.com/politics_t0day/statuses/671...   \n",
       "232028  http://twitter.com/politics_t0day/statuses/679...   \n",
       "232955  http://twitter.com/politics_t0day/statuses/674...   \n",
       "233514  http://twitter.com/politics_t0day/statuses/699...   \n",
       "\n",
       "                                               tco1_step1 tco2_step1  \\\n",
       "0       https://twitter.com/10_gop/status/914580356430...        NaN   \n",
       "1       https://twitter.com/damienwoody/status/9145685...        NaN   \n",
       "3       https://twitter.com/10_gop/status/914639143690...        NaN   \n",
       "5       https://twitter.com/FoxNews/status/91423949678...        NaN   \n",
       "7                                                     NaN        NaN   \n",
       "...                                                   ...        ...   \n",
       "230905           https://vimeo.com/145029572?ref=tw-share        NaN   \n",
       "230973                       https://youtu.be/90daE-lAQo0        NaN   \n",
       "232028                       https://youtu.be/nBufzUH-RpQ        NaN   \n",
       "232955                       https://youtu.be/JpgpkXdoCGc        NaN   \n",
       "233514                       https://youtu.be/u45DXyLyp_0        NaN   \n",
       "\n",
       "       tco3_step1  \n",
       "0             NaN  \n",
       "1             NaN  \n",
       "3             NaN  \n",
       "5             NaN  \n",
       "7             NaN  \n",
       "...           ...  \n",
       "230905        NaN  \n",
       "230973        NaN  \n",
       "232028        NaN  \n",
       "232955        NaN  \n",
       "233514        NaN  \n",
       "\n",
       "[1264331 rows x 21 columns]"
      ]
     },
     "execution_count": 13,
     "metadata": {},
     "output_type": "execute_result"
    }
   ],
   "source": [
    "# Save filtered df\n",
    "df = df[is_english_original]\n",
    "df"
   ]
  },
  {
   "cell_type": "code",
   "execution_count": 14,
   "metadata": {
    "execution": {
     "iopub.execute_input": "2024-05-21T22:28:54.586872Z",
     "iopub.status.busy": "2024-05-21T22:28:54.586747Z",
     "iopub.status.idle": "2024-05-21T22:28:54.968573Z",
     "shell.execute_reply": "2024-05-21T22:28:54.968210Z",
     "shell.execute_reply.started": "2024-05-21T22:28:54.586861Z"
    }
   },
   "outputs": [
    {
     "name": "stdout",
     "output_type": "stream",
     "text": [
      "<class 'pandas.core.frame.DataFrame'>\n",
      "Index: 1264331 entries, 0 to 233514\n",
      "Data columns (total 21 columns):\n",
      " #   Column              Non-Null Count    Dtype \n",
      "---  ------              --------------    ----- \n",
      " 0   external_author_id  1264331 non-null  object\n",
      " 1   author              1264331 non-null  object\n",
      " 2   content             1264330 non-null  object\n",
      " 3   region              1263195 non-null  object\n",
      " 4   language            1264331 non-null  object\n",
      " 5   publish_date        1264331 non-null  object\n",
      " 6   harvested_date      1264331 non-null  object\n",
      " 7   following           1264331 non-null  int64 \n",
      " 8   followers           1264331 non-null  int64 \n",
      " 9   updates             1264331 non-null  int64 \n",
      " 10  post_type           0 non-null        object\n",
      " 11  account_type        1264331 non-null  object\n",
      " 12  retweet             1264331 non-null  int64 \n",
      " 13  account_category    1264331 non-null  object\n",
      " 14  new_june_2018       1264331 non-null  int64 \n",
      " 15  alt_external_id     1264331 non-null  object\n",
      " 16  tweet_id            1264331 non-null  int64 \n",
      " 17  article_url         1264331 non-null  object\n",
      " 18  tco1_step1          801529 non-null   object\n",
      " 19  tco2_step1          340820 non-null   object\n",
      " 20  tco3_step1          11543 non-null    object\n",
      "dtypes: int64(6), object(15)\n",
      "memory usage: 212.2+ MB\n"
     ]
    }
   ],
   "source": [
    "# # Drop non-english rows\n",
    "# df = df.loc[df['language'] =='English']\n",
    "# df = df.loc[df.retweet==0]\n",
    "df.info()"
   ]
  },
  {
   "cell_type": "code",
   "execution_count": 15,
   "metadata": {
    "execution": {
     "iopub.execute_input": "2024-05-21T22:28:54.969157Z",
     "iopub.status.busy": "2024-05-21T22:28:54.969046Z",
     "iopub.status.idle": "2024-05-21T22:28:55.313854Z",
     "shell.execute_reply": "2024-05-21T22:28:55.313453Z",
     "shell.execute_reply.started": "2024-05-21T22:28:54.969146Z"
    }
   },
   "outputs": [
    {
     "name": "stdout",
     "output_type": "stream",
     "text": [
      "<class 'pandas.core.frame.DataFrame'>\n",
      "Index: 1264331 entries, 0 to 233514\n",
      "Data columns (total 14 columns):\n",
      " #   Column              Non-Null Count    Dtype \n",
      "---  ------              --------------    ----- \n",
      " 0   external_author_id  1264331 non-null  object\n",
      " 1   author              1264331 non-null  object\n",
      " 2   content             1264330 non-null  object\n",
      " 3   region              1263195 non-null  object\n",
      " 4   language            1264331 non-null  object\n",
      " 5   publish_date        1264331 non-null  object\n",
      " 6   following           1264331 non-null  int64 \n",
      " 7   followers           1264331 non-null  int64 \n",
      " 8   updates             1264331 non-null  int64 \n",
      " 9   retweet             1264331 non-null  int64 \n",
      " 10  account_category    1264331 non-null  object\n",
      " 11  alt_external_id     1264331 non-null  object\n",
      " 12  tweet_id            1264331 non-null  int64 \n",
      " 13  article_url         1264331 non-null  object\n",
      "dtypes: int64(5), object(9)\n",
      "memory usage: 144.7+ MB\n"
     ]
    }
   ],
   "source": [
    "# Drop harvested_date and new_june_2018\n",
    "cols_to_drop = ['harvested_date','new_june_2018','tco1_step1','tco2_step1','tco3_step1',\n",
    "                'account_type','post_type']\n",
    "\n",
    "# for col in cols_to_drop:\n",
    "#     df.drop(col, axis=1, inplace=True)\n",
    "df = df.drop(columns=cols_to_drop, errors='ignore')\n",
    "df.info()"
   ]
  },
  {
   "cell_type": "markdown",
   "metadata": {},
   "source": [
    "___\n",
    "## Save/Load and Resume"
   ]
  },
  {
   "cell_type": "code",
   "execution_count": 16,
   "metadata": {
    "execution": {
     "iopub.execute_input": "2024-05-21T22:28:55.316741Z",
     "iopub.status.busy": "2024-05-21T22:28:55.316576Z",
     "iopub.status.idle": "2024-05-21T22:28:55.319648Z",
     "shell.execute_reply": "2024-05-21T22:28:55.319319Z",
     "shell.execute_reply.started": "2024-05-21T22:28:55.316729Z"
    }
   },
   "outputs": [
    {
     "data": {
      "text/plain": [
       "'data/russian-troll-tweets_enlgish-only_no-retweets.csv.gz'"
      ]
     },
     "execution_count": 16,
     "metadata": {},
     "output_type": "execute_result"
    }
   ],
   "source": [
    "import os\n",
    "folder = \"data/\"\n",
    "os.makedirs(folder, exist_ok=True)\n",
    "\n",
    "fpath_out = os.path.join(folder, \"russian-troll-tweets_enlgish-only_no-retweets.csv.gz\")\n",
    "fpath_out"
   ]
  },
  {
   "cell_type": "code",
   "execution_count": 17,
   "metadata": {
    "execution": {
     "iopub.execute_input": "2024-05-21T22:28:55.320453Z",
     "iopub.status.busy": "2024-05-21T22:28:55.320345Z",
     "iopub.status.idle": "2024-05-21T22:28:55.323284Z",
     "shell.execute_reply": "2024-05-21T22:28:55.322977Z",
     "shell.execute_reply.started": "2024-05-21T22:28:55.320442Z"
    }
   },
   "outputs": [
    {
     "data": {
      "text/plain": [
       "Index([     0,      1,      3,      5,      7,      8,      9,     10,     11,\n",
       "           12,\n",
       "       ...\n",
       "       229186, 229470, 229869, 229891, 230601, 230905, 230973, 232028, 232955,\n",
       "       233514],\n",
       "      dtype='int64', length=1264331)"
      ]
     },
     "execution_count": 17,
     "metadata": {},
     "output_type": "execute_result"
    }
   ],
   "source": [
    "df.index"
   ]
  },
  {
   "cell_type": "code",
   "execution_count": 18,
   "metadata": {
    "execution": {
     "iopub.execute_input": "2024-05-21T22:28:55.324023Z",
     "iopub.status.busy": "2024-05-21T22:28:55.323865Z",
     "iopub.status.idle": "2024-05-21T22:29:10.138681Z",
     "shell.execute_reply": "2024-05-21T22:29:10.138337Z",
     "shell.execute_reply.started": "2024-05-21T22:28:55.324006Z"
    }
   },
   "outputs": [],
   "source": [
    "# Save smaller filtered dataset \n",
    "compression_kws = {'method':'gzip',\n",
    "                  'compresslevel':9}\n",
    "df.to_csv(fpath_out, compression=compression_kws, index=False)"
   ]
  },
  {
   "cell_type": "code",
   "execution_count": 19,
   "metadata": {
    "execution": {
     "iopub.execute_input": "2024-05-21T22:29:10.139382Z",
     "iopub.status.busy": "2024-05-21T22:29:10.139280Z",
     "iopub.status.idle": "2024-05-21T22:29:14.687390Z",
     "shell.execute_reply": "2024-05-21T22:29:14.686835Z",
     "shell.execute_reply.started": "2024-05-21T22:29:10.139372Z"
    }
   },
   "outputs": [
    {
     "name": "stdout",
     "output_type": "stream",
     "text": [
      "<class 'pandas.core.frame.DataFrame'>\n",
      "RangeIndex: 1264331 entries, 0 to 1264330\n",
      "Data columns (total 14 columns):\n",
      " #   Column              Non-Null Count    Dtype \n",
      "---  ------              --------------    ----- \n",
      " 0   external_author_id  1264331 non-null  int64 \n",
      " 1   author              1264331 non-null  object\n",
      " 2   content             1264330 non-null  object\n",
      " 3   region              1263195 non-null  object\n",
      " 4   language            1264331 non-null  object\n",
      " 5   publish_date        1264331 non-null  object\n",
      " 6   following           1264331 non-null  int64 \n",
      " 7   followers           1264331 non-null  int64 \n",
      " 8   updates             1264331 non-null  int64 \n",
      " 9   retweet             1264331 non-null  int64 \n",
      " 10  account_category    1264331 non-null  object\n",
      " 11  alt_external_id     1264331 non-null  int64 \n",
      " 12  tweet_id            1264331 non-null  int64 \n",
      " 13  article_url         1264331 non-null  object\n",
      "dtypes: int64(7), object(7)\n",
      "memory usage: 135.0+ MB\n"
     ]
    },
    {
     "data": {
      "text/html": [
       "<div>\n",
       "<style scoped>\n",
       "    .dataframe tbody tr th:only-of-type {\n",
       "        vertical-align: middle;\n",
       "    }\n",
       "\n",
       "    .dataframe tbody tr th {\n",
       "        vertical-align: top;\n",
       "    }\n",
       "\n",
       "    .dataframe thead th {\n",
       "        text-align: right;\n",
       "    }\n",
       "</style>\n",
       "<table border=\"1\" class=\"dataframe\">\n",
       "  <thead>\n",
       "    <tr style=\"text-align: right;\">\n",
       "      <th></th>\n",
       "      <th>external_author_id</th>\n",
       "      <th>author</th>\n",
       "      <th>content</th>\n",
       "      <th>region</th>\n",
       "      <th>language</th>\n",
       "      <th>publish_date</th>\n",
       "      <th>following</th>\n",
       "      <th>followers</th>\n",
       "      <th>updates</th>\n",
       "      <th>retweet</th>\n",
       "      <th>account_category</th>\n",
       "      <th>alt_external_id</th>\n",
       "      <th>tweet_id</th>\n",
       "      <th>article_url</th>\n",
       "    </tr>\n",
       "  </thead>\n",
       "  <tbody>\n",
       "    <tr>\n",
       "      <th>0</th>\n",
       "      <td>906000000000000000</td>\n",
       "      <td>10_GOP</td>\n",
       "      <td>\"We have a sitting Democrat US Senator on tria...</td>\n",
       "      <td>Unknown</td>\n",
       "      <td>English</td>\n",
       "      <td>10/1/2017 19:58</td>\n",
       "      <td>1052</td>\n",
       "      <td>9636</td>\n",
       "      <td>253</td>\n",
       "      <td>0</td>\n",
       "      <td>RightTroll</td>\n",
       "      <td>905874659358453760</td>\n",
       "      <td>914580356430536707</td>\n",
       "      <td>http://twitter.com/905874659358453760/statuses...</td>\n",
       "    </tr>\n",
       "    <tr>\n",
       "      <th>1</th>\n",
       "      <td>906000000000000000</td>\n",
       "      <td>10_GOP</td>\n",
       "      <td>Marshawn Lynch arrives to game in anti-Trump s...</td>\n",
       "      <td>Unknown</td>\n",
       "      <td>English</td>\n",
       "      <td>10/1/2017 22:43</td>\n",
       "      <td>1054</td>\n",
       "      <td>9637</td>\n",
       "      <td>254</td>\n",
       "      <td>0</td>\n",
       "      <td>RightTroll</td>\n",
       "      <td>905874659358453760</td>\n",
       "      <td>914621840496189440</td>\n",
       "      <td>http://twitter.com/905874659358453760/statuses...</td>\n",
       "    </tr>\n",
       "  </tbody>\n",
       "</table>\n",
       "</div>"
      ],
      "text/plain": [
       "   external_author_id  author  \\\n",
       "0  906000000000000000  10_GOP   \n",
       "1  906000000000000000  10_GOP   \n",
       "\n",
       "                                             content   region language  \\\n",
       "0  \"We have a sitting Democrat US Senator on tria...  Unknown  English   \n",
       "1  Marshawn Lynch arrives to game in anti-Trump s...  Unknown  English   \n",
       "\n",
       "      publish_date  following  followers  updates  retweet account_category  \\\n",
       "0  10/1/2017 19:58       1052       9636      253        0       RightTroll   \n",
       "1  10/1/2017 22:43       1054       9637      254        0       RightTroll   \n",
       "\n",
       "      alt_external_id            tweet_id  \\\n",
       "0  905874659358453760  914580356430536707   \n",
       "1  905874659358453760  914621840496189440   \n",
       "\n",
       "                                         article_url  \n",
       "0  http://twitter.com/905874659358453760/statuses...  \n",
       "1  http://twitter.com/905874659358453760/statuses...  "
      ]
     },
     "execution_count": 19,
     "metadata": {},
     "output_type": "execute_result"
    }
   ],
   "source": [
    "# Loading in saved dataframe\n",
    "df = pd.read_csv(fpath_out)\n",
    "df.info()\n",
    "df.head(2)"
   ]
  },
  {
   "cell_type": "code",
   "execution_count": 20,
   "metadata": {
    "execution": {
     "iopub.execute_input": "2024-05-21T22:29:14.688336Z",
     "iopub.status.busy": "2024-05-21T22:29:14.688124Z",
     "iopub.status.idle": "2024-05-21T22:29:14.735132Z",
     "shell.execute_reply": "2024-05-21T22:29:14.734503Z",
     "shell.execute_reply.started": "2024-05-21T22:29:14.688319Z"
    }
   },
   "outputs": [
    {
     "data": {
      "text/plain": [
       "account_category\n",
       "NewsFeed        595561\n",
       "RightTroll      399850\n",
       "Commercial      105928\n",
       "LeftTroll        76365\n",
       "HashtagGamer     67387\n",
       "Fearmonger        9549\n",
       "NonEnglish        5768\n",
       "Unknown           3923\n",
       "Name: count, dtype: int64"
      ]
     },
     "execution_count": 20,
     "metadata": {},
     "output_type": "execute_result"
    }
   ],
   "source": [
    "# Checking labeled account category\n",
    "df['account_category'].value_counts()"
   ]
  },
  {
   "cell_type": "code",
   "execution_count": 21,
   "metadata": {
    "execution": {
     "iopub.execute_input": "2024-05-21T22:29:14.736098Z",
     "iopub.status.busy": "2024-05-21T22:29:14.735942Z",
     "iopub.status.idle": "2024-05-21T22:29:14.738379Z",
     "shell.execute_reply": "2024-05-21T22:29:14.737720Z",
     "shell.execute_reply.started": "2024-05-21T22:29:14.736083Z"
    }
   },
   "outputs": [],
   "source": [
    "# df['account_type'].value_counts()"
   ]
  },
  {
   "cell_type": "code",
   "execution_count": 22,
   "metadata": {
    "execution": {
     "iopub.execute_input": "2024-05-21T22:29:14.739251Z",
     "iopub.status.busy": "2024-05-21T22:29:14.739073Z",
     "iopub.status.idle": "2024-05-21T22:29:14.741186Z",
     "shell.execute_reply": "2024-05-21T22:29:14.740858Z",
     "shell.execute_reply.started": "2024-05-21T22:29:14.739231Z"
    }
   },
   "outputs": [],
   "source": [
    "# save_or_load = input('Would you like to \"save\" or \"load\" dataframe?\\n(\"save\",\"load\",\"no\"):')\n",
    "\n",
    "# if save_or_load.lower()=='save':\n",
    "#     # Save csv\n",
    "#     df.to_csv('russian_troll_tweets_eng_only_date_pub_index.csv')\n",
    "    \n",
    "# if save_or_load.lower()=='load':\n",
    "#     import bs_ds as bs\n",
    "#     from bs_ds.imports import *\n",
    "#     # Load csva\n",
    "#     df = pd.read_csv('russian_troll_tweets_eng_only_date_pub_index.csv')    "
   ]
  },
  {
   "cell_type": "code",
   "execution_count": 23,
   "metadata": {
    "execution": {
     "iopub.execute_input": "2024-05-21T22:29:14.741928Z",
     "iopub.status.busy": "2024-05-21T22:29:14.741775Z",
     "iopub.status.idle": "2024-05-21T22:29:14.743674Z",
     "shell.execute_reply": "2024-05-21T22:29:14.743316Z",
     "shell.execute_reply.started": "2024-05-21T22:29:14.741913Z"
    }
   },
   "outputs": [],
   "source": [
    "# for i in range(10):\n",
    "#     print(i,'\\t',np.random.choice(df['content']))"
   ]
  },
  {
   "cell_type": "markdown",
   "metadata": {},
   "source": [
    "# Using TwitterAPI to Harvest Control Tweets\n",
    "\n",
    "## My Search Strategy\n",
    "\n",
    "- **We need non-troll Tweets to use as a control for the Troll tweets. Ideally, these would be from the same time period covered by the Troll tweets.**\n",
    "\n",
    "    - However, extracting batch historical tweets from the same time period is not an option. This would **require Twitter Enterprise level** Developer Membership (which costs **\\\\$2,000 per month**)\n",
    "    - The free Twitter developer account access allows extracting Tweets from the last 7 days. We will have to work within this limitation for harvesting control tweets.\n",
    "    - Due to the temporal difference, extra care must be put into Tweet search strategy.\n",
    "\n",
    "\n",
    "\n",
    "**Inspect Data to get search parameters:**\n",
    "- [X] Get the date range for the English tweets in the original dataset<br>\n",
    "    - **Tweet date range:**\n",
    "        - **2012-02-06** to **2018-05-30**\n",
    "\n",
    "- [X] Get a list of the hash tags (and their frequencies from the dataframe\n"
   ]
  },
  {
   "cell_type": "markdown",
   "metadata": {},
   "source": [
    "### Recasting Publish date as datetime column (date_published)"
   ]
  },
  {
   "cell_type": "code",
   "execution_count": 24,
   "metadata": {
    "execution": {
     "iopub.execute_input": "2024-05-21T22:29:14.744383Z",
     "iopub.status.busy": "2024-05-21T22:29:14.744233Z",
     "iopub.status.idle": "2024-05-21T22:29:16.521999Z",
     "shell.execute_reply": "2024-05-21T22:29:16.521628Z",
     "shell.execute_reply.started": "2024-05-21T22:29:14.744372Z"
    }
   },
   "outputs": [
    {
     "name": "stdout",
     "output_type": "stream",
     "text": [
      "Changed index to datetime \"date_published\".\n"
     ]
    },
    {
     "data": {
      "text/plain": [
       "DatetimeIndex(['2017-10-01 19:58:00', '2017-10-01 22:43:00',\n",
       "               '2017-10-01 23:52:00', '2017-10-01 02:47:00',\n",
       "               '2017-10-01 02:52:00', '2017-10-01 03:47:00',\n",
       "               '2017-10-01 03:51:00', '2017-10-01 03:58:00',\n",
       "               '2017-10-01 04:11:00', '2017-10-10 20:57:00',\n",
       "               ...\n",
       "               '2015-10-09 12:43:00', '2015-11-12 08:10:00',\n",
       "               '2015-11-19 09:10:00', '2015-11-02 11:49:00',\n",
       "               '2015-11-30 10:16:00', '2015-11-09 14:42:00',\n",
       "               '2015-12-01 13:42:00', '2015-12-23 09:57:00',\n",
       "               '2015-12-08 07:50:00', '2016-02-16 11:58:00'],\n",
       "              dtype='datetime64[ns]', name='date_published', length=1264331, freq=None)"
      ]
     },
     "execution_count": 24,
     "metadata": {},
     "output_type": "execute_result"
    }
   ],
   "source": [
    "# Recast date_published as datetime and make index\n",
    "df['date_published'] = pd.to_datetime(df['publish_date'])\n",
    "df = df.set_index('date_published')\n",
    "print('Changed index to datetime \"date_published\".')\n",
    "df.index"
   ]
  },
  {
   "cell_type": "code",
   "execution_count": 25,
   "metadata": {
    "execution": {
     "iopub.execute_input": "2024-05-21T22:29:16.522685Z",
     "iopub.status.busy": "2024-05-21T22:29:16.522583Z",
     "iopub.status.idle": "2024-05-21T22:29:16.527321Z",
     "shell.execute_reply": "2024-05-21T22:29:16.526993Z",
     "shell.execute_reply.started": "2024-05-21T22:29:16.522674Z"
    }
   },
   "outputs": [
    {
     "name": "stdout",
     "output_type": "stream",
     "text": [
      "Tweet dates from 2012-02-06 20:24:00  to  2018-05-30 20:58:00\n"
     ]
    }
   ],
   "source": [
    "# Convert publish_date to datetime\n",
    "# df['date_published'] = pd.to_datetime(df.publish_date)\n",
    "print(f'Tweet dates from {np.min(df.index)}  to  {np.max(df.index)}')"
   ]
  },
  {
   "cell_type": "code",
   "execution_count": 26,
   "metadata": {
    "execution": {
     "iopub.execute_input": "2024-05-21T22:29:16.528225Z",
     "iopub.status.busy": "2024-05-21T22:29:16.527887Z",
     "iopub.status.idle": "2024-05-21T22:29:16.534028Z",
     "shell.execute_reply": "2024-05-21T22:29:16.533640Z",
     "shell.execute_reply.started": "2024-05-21T22:29:16.528213Z"
    }
   },
   "outputs": [
    {
     "name": "stdout",
     "output_type": "stream",
     "text": [
      "Tweet date range:\n",
      " - 02/06/2012 to 05/30/2018\n",
      "Total days:\n",
      " - 2305\n"
     ]
    }
   ],
   "source": [
    "# Inspect Data to get search parameters:\n",
    "time_fmt = \"%m/%d/%Y\"\n",
    "first_tweet = df.index.min()\n",
    "last_tweet = df.index.max()\n",
    "print(f'Tweet date range:\\n - {first_tweet.strftime(time_fmt)} to {last_tweet.strftime(time_fmt)}')\n",
    "print(f'Total days:\\n - {(last_tweet-first_tweet).days}')"
   ]
  },
  {
   "cell_type": "markdown",
   "metadata": {},
   "source": [
    "## Determining Hashtags & @'s to search for\n",
    "\n",
    "- Use regular expressions to extract the hashtags #words and @handles.\n",
    "- Use the top X many tags as search terms for twitter API\n",
    "    - There are _1,678,170 unique hashtags_ and _1,165,744 unique @'s_"
   ]
  },
  {
   "cell_type": "code",
   "execution_count": 27,
   "metadata": {
    "execution": {
     "iopub.execute_input": "2024-05-21T22:29:16.534729Z",
     "iopub.status.busy": "2024-05-21T22:29:16.534600Z",
     "iopub.status.idle": "2024-05-21T22:29:18.406236Z",
     "shell.execute_reply": "2024-05-21T22:29:18.405820Z",
     "shell.execute_reply.started": "2024-05-21T22:29:16.534718Z"
    }
   },
   "outputs": [],
   "source": [
    "# NEW: Make a column containing all hashtags and mentions\n",
    "import re\n",
    "\n",
    "hashtag_expr = r'(\\#\\w*)'\n",
    "hashtags = re.compile(hashtag_expr)\n",
    "df['hashtags'] = df['content'].str.findall(hashtag_expr) #map(lambda x: hashtags.findall(str(x)))\n",
    "\n",
    "mentions_expr = r'(\\@\\w*)'\n",
    "mentions = re.compile(mentions_expr)\n",
    "df['mentions'] = df['content'].str.findall(mentions_expr) #map(lambda x: mentions.findall(str(x)))\n",
    "\n",
    "urls_expr = r\"(http[s]?://\\w*\\.\\w*/+\\w+)\"\n",
    "urls = re.compile(urls_expr)\n",
    "df['links'] = df['content'].str.findall(urls_expr)#map(lambda x: urls.findall(str(x)))\n",
    "\n",
    "# # Testing individual re's from above\n",
    "# hashtag_list = df['content'].map(lambda x: hashtags.findall(str(x)))\n",
    "# hashtag_list[-10:]"
   ]
  },
  {
   "cell_type": "code",
   "execution_count": 28,
   "metadata": {
    "execution": {
     "iopub.execute_input": "2024-05-21T22:29:18.406831Z",
     "iopub.status.busy": "2024-05-21T22:29:18.406724Z",
     "iopub.status.idle": "2024-05-21T22:29:18.536261Z",
     "shell.execute_reply": "2024-05-21T22:29:18.535608Z",
     "shell.execute_reply.started": "2024-05-21T22:29:18.406821Z"
    }
   },
   "outputs": [
    {
     "data": {
      "text/plain": [
       "hashtags\n",
       "NaN                675967\n",
       "#news              118435\n",
       "#sports             45476\n",
       "#politics           37405\n",
       "#world              27058\n",
       "                    ...  \n",
       "#MoveMojito             1\n",
       "#Move9                  1\n",
       "#Event                  1\n",
       "#ParyForAmerica         1\n",
       "#heisenberg             1\n",
       "Name: count, Length: 32513, dtype: int64"
      ]
     },
     "execution_count": 28,
     "metadata": {},
     "output_type": "execute_result"
    }
   ],
   "source": [
    "# Get hashtag counts\n",
    "exploded_tags = df['hashtags'].explode()\n",
    "hashtag_counts = exploded_tags.value_counts(dropna=False)\n",
    "hashtag_counts"
   ]
  },
  {
   "cell_type": "code",
   "execution_count": 29,
   "metadata": {
    "execution": {
     "iopub.execute_input": "2024-05-21T22:29:18.536884Z",
     "iopub.status.busy": "2024-05-21T22:29:18.536786Z",
     "iopub.status.idle": "2024-05-21T22:29:18.577178Z",
     "shell.execute_reply": "2024-05-21T22:29:18.576659Z",
     "shell.execute_reply.started": "2024-05-21T22:29:18.536874Z"
    }
   },
   "outputs": [
    {
     "name": "stdout",
     "output_type": "stream",
     "text": [
      "Found 32513 unique hashtags.\n",
      "[nan '#HipHopAwards' '#WomenBoycottTwitter' '#LasVegas'\n",
      " '#LasVegasShooting' '#VegasStrong' '#FakeNews' '#IrmaHurricane2017'\n",
      " '#Irma' '#HurricaneIrma']\n"
     ]
    }
   ],
   "source": [
    "# Getting list of all unique hashtags\n",
    "hashtag_list = exploded_tags.unique()\n",
    "print(f\"Found {len(hashtag_list)} unique hashtags.\")\n",
    "print(hashtag_list[:10])"
   ]
  },
  {
   "cell_type": "code",
   "execution_count": 30,
   "metadata": {
    "execution": {
     "iopub.execute_input": "2024-05-21T22:29:18.577981Z",
     "iopub.status.busy": "2024-05-21T22:29:18.577864Z",
     "iopub.status.idle": "2024-05-21T22:29:18.588961Z",
     "shell.execute_reply": "2024-05-21T22:29:18.588633Z",
     "shell.execute_reply.started": "2024-05-21T22:29:18.577970Z"
    }
   },
   "outputs": [
    {
     "data": {
      "text/html": [
       "<div>\n",
       "<style scoped>\n",
       "    .dataframe tbody tr th:only-of-type {\n",
       "        vertical-align: middle;\n",
       "    }\n",
       "\n",
       "    .dataframe tbody tr th {\n",
       "        vertical-align: top;\n",
       "    }\n",
       "\n",
       "    .dataframe thead th {\n",
       "        text-align: right;\n",
       "    }\n",
       "</style>\n",
       "<table border=\"1\" class=\"dataframe\">\n",
       "  <thead>\n",
       "    <tr style=\"text-align: right;\">\n",
       "      <th></th>\n",
       "      <th>external_author_id</th>\n",
       "      <th>author</th>\n",
       "      <th>content</th>\n",
       "      <th>region</th>\n",
       "      <th>language</th>\n",
       "      <th>publish_date</th>\n",
       "      <th>following</th>\n",
       "      <th>followers</th>\n",
       "      <th>updates</th>\n",
       "      <th>retweet</th>\n",
       "      <th>account_category</th>\n",
       "      <th>alt_external_id</th>\n",
       "      <th>tweet_id</th>\n",
       "      <th>article_url</th>\n",
       "      <th>hashtags</th>\n",
       "      <th>mentions</th>\n",
       "      <th>links</th>\n",
       "    </tr>\n",
       "    <tr>\n",
       "      <th>date_published</th>\n",
       "      <th></th>\n",
       "      <th></th>\n",
       "      <th></th>\n",
       "      <th></th>\n",
       "      <th></th>\n",
       "      <th></th>\n",
       "      <th></th>\n",
       "      <th></th>\n",
       "      <th></th>\n",
       "      <th></th>\n",
       "      <th></th>\n",
       "      <th></th>\n",
       "      <th></th>\n",
       "      <th></th>\n",
       "      <th></th>\n",
       "      <th></th>\n",
       "      <th></th>\n",
       "    </tr>\n",
       "  </thead>\n",
       "  <tbody>\n",
       "    <tr>\n",
       "      <th>2017-10-01 19:58:00</th>\n",
       "      <td>906000000000000000</td>\n",
       "      <td>10_GOP</td>\n",
       "      <td>\"We have a sitting Democrat US Senator on tria...</td>\n",
       "      <td>Unknown</td>\n",
       "      <td>English</td>\n",
       "      <td>10/1/2017 19:58</td>\n",
       "      <td>1052</td>\n",
       "      <td>9636</td>\n",
       "      <td>253</td>\n",
       "      <td>0</td>\n",
       "      <td>RightTroll</td>\n",
       "      <td>905874659358453760</td>\n",
       "      <td>914580356430536707</td>\n",
       "      <td>http://twitter.com/905874659358453760/statuses...</td>\n",
       "      <td>[]</td>\n",
       "      <td>[@nedryun]</td>\n",
       "      <td>[https://t.co/gh6g0D1oiC]</td>\n",
       "    </tr>\n",
       "    <tr>\n",
       "      <th>2017-10-01 22:43:00</th>\n",
       "      <td>906000000000000000</td>\n",
       "      <td>10_GOP</td>\n",
       "      <td>Marshawn Lynch arrives to game in anti-Trump s...</td>\n",
       "      <td>Unknown</td>\n",
       "      <td>English</td>\n",
       "      <td>10/1/2017 22:43</td>\n",
       "      <td>1054</td>\n",
       "      <td>9637</td>\n",
       "      <td>254</td>\n",
       "      <td>0</td>\n",
       "      <td>RightTroll</td>\n",
       "      <td>905874659358453760</td>\n",
       "      <td>914621840496189440</td>\n",
       "      <td>http://twitter.com/905874659358453760/statuses...</td>\n",
       "      <td>[]</td>\n",
       "      <td>[]</td>\n",
       "      <td>[https://t.co/mLH1i30LZZ]</td>\n",
       "    </tr>\n",
       "    <tr>\n",
       "      <th>2017-10-01 23:52:00</th>\n",
       "      <td>906000000000000000</td>\n",
       "      <td>10_GOP</td>\n",
       "      <td>JUST IN: President Trump dedicates Presidents ...</td>\n",
       "      <td>Unknown</td>\n",
       "      <td>English</td>\n",
       "      <td>10/1/2017 23:52</td>\n",
       "      <td>1062</td>\n",
       "      <td>9642</td>\n",
       "      <td>256</td>\n",
       "      <td>0</td>\n",
       "      <td>RightTroll</td>\n",
       "      <td>905874659358453760</td>\n",
       "      <td>914639143690555392</td>\n",
       "      <td>http://twitter.com/905874659358453760/statuses...</td>\n",
       "      <td>[]</td>\n",
       "      <td>[]</td>\n",
       "      <td>[https://t.co/z9wVa4djAE]</td>\n",
       "    </tr>\n",
       "    <tr>\n",
       "      <th>2017-10-01 02:47:00</th>\n",
       "      <td>906000000000000000</td>\n",
       "      <td>10_GOP</td>\n",
       "      <td>Dan Bongino: \"Nobody trolls liberals better th...</td>\n",
       "      <td>Unknown</td>\n",
       "      <td>English</td>\n",
       "      <td>10/1/2017 2:47</td>\n",
       "      <td>1050</td>\n",
       "      <td>9644</td>\n",
       "      <td>247</td>\n",
       "      <td>0</td>\n",
       "      <td>RightTroll</td>\n",
       "      <td>905874659358453760</td>\n",
       "      <td>914320835325853696</td>\n",
       "      <td>http://twitter.com/905874659358453760/statuses...</td>\n",
       "      <td>[]</td>\n",
       "      <td>[]</td>\n",
       "      <td>[https://t.co/AigV93aC8J]</td>\n",
       "    </tr>\n",
       "    <tr>\n",
       "      <th>2017-10-01 02:52:00</th>\n",
       "      <td>906000000000000000</td>\n",
       "      <td>10_GOP</td>\n",
       "      <td>'@SenatorMenendez @CarmenYulinCruz Doesn't mat...</td>\n",
       "      <td>Unknown</td>\n",
       "      <td>English</td>\n",
       "      <td>10/1/2017 2:52</td>\n",
       "      <td>1050</td>\n",
       "      <td>9644</td>\n",
       "      <td>249</td>\n",
       "      <td>0</td>\n",
       "      <td>RightTroll</td>\n",
       "      <td>905874659358453760</td>\n",
       "      <td>914322215537119234</td>\n",
       "      <td>http://twitter.com/905874659358453760/statuses...</td>\n",
       "      <td>[]</td>\n",
       "      <td>[@SenatorMenendez, @CarmenYulinCruz]</td>\n",
       "      <td>[]</td>\n",
       "    </tr>\n",
       "    <tr>\n",
       "      <th>...</th>\n",
       "      <td>...</td>\n",
       "      <td>...</td>\n",
       "      <td>...</td>\n",
       "      <td>...</td>\n",
       "      <td>...</td>\n",
       "      <td>...</td>\n",
       "      <td>...</td>\n",
       "      <td>...</td>\n",
       "      <td>...</td>\n",
       "      <td>...</td>\n",
       "      <td>...</td>\n",
       "      <td>...</td>\n",
       "      <td>...</td>\n",
       "      <td>...</td>\n",
       "      <td>...</td>\n",
       "      <td>...</td>\n",
       "      <td>...</td>\n",
       "    </tr>\n",
       "    <tr>\n",
       "      <th>2015-11-09 14:42:00</th>\n",
       "      <td>2260338140</td>\n",
       "      <td>POLITICS_T0DAY</td>\n",
       "      <td>Watch \"Missile launch over San Francisco\" by @...</td>\n",
       "      <td>United States</td>\n",
       "      <td>English</td>\n",
       "      <td>11/9/2015 14:42</td>\n",
       "      <td>92</td>\n",
       "      <td>898</td>\n",
       "      <td>9502</td>\n",
       "      <td>0</td>\n",
       "      <td>NonEnglish</td>\n",
       "      <td>2260338140</td>\n",
       "      <td>663728439766204416</td>\n",
       "      <td>http://twitter.com/politics_t0day/statuses/663...</td>\n",
       "      <td>[]</td>\n",
       "      <td>[@Varient3, @Vimeo]</td>\n",
       "      <td>[https://t.co/X50JkMr9UR]</td>\n",
       "    </tr>\n",
       "    <tr>\n",
       "      <th>2015-12-01 13:42:00</th>\n",
       "      <td>2260338140</td>\n",
       "      <td>POLITICS_T0DAY</td>\n",
       "      <td>Boeing Pieces Together the Last C-17 on the Li...</td>\n",
       "      <td>United States</td>\n",
       "      <td>English</td>\n",
       "      <td>12/1/2015 13:42</td>\n",
       "      <td>92</td>\n",
       "      <td>919</td>\n",
       "      <td>10148</td>\n",
       "      <td>0</td>\n",
       "      <td>NonEnglish</td>\n",
       "      <td>2260338140</td>\n",
       "      <td>671685764418281472</td>\n",
       "      <td>http://twitter.com/politics_t0day/statuses/671...</td>\n",
       "      <td>[]</td>\n",
       "      <td>[@YouTube]</td>\n",
       "      <td>[https://t.co/QSkB1EL4CB]</td>\n",
       "    </tr>\n",
       "    <tr>\n",
       "      <th>2015-12-23 09:57:00</th>\n",
       "      <td>2260338140</td>\n",
       "      <td>POLITICS_T0DAY</td>\n",
       "      <td>Satanic Temple Performs the Nation's First Sta...</td>\n",
       "      <td>United States</td>\n",
       "      <td>English</td>\n",
       "      <td>12/23/2015 9:57</td>\n",
       "      <td>92</td>\n",
       "      <td>900</td>\n",
       "      <td>10961</td>\n",
       "      <td>0</td>\n",
       "      <td>NonEnglish</td>\n",
       "      <td>2260338140</td>\n",
       "      <td>679601725314076672</td>\n",
       "      <td>http://twitter.com/politics_t0day/statuses/679...</td>\n",
       "      <td>[]</td>\n",
       "      <td>[@YouTube]</td>\n",
       "      <td>[https://t.co/VwaztidS4g]</td>\n",
       "    </tr>\n",
       "    <tr>\n",
       "      <th>2015-12-08 07:50:00</th>\n",
       "      <td>2260338140</td>\n",
       "      <td>POLITICS_T0DAY</td>\n",
       "      <td>Eagles of Death Metal Join U2 on Paris Stage h...</td>\n",
       "      <td>United States</td>\n",
       "      <td>English</td>\n",
       "      <td>12/8/2015 7:50</td>\n",
       "      <td>92</td>\n",
       "      <td>935</td>\n",
       "      <td>10370</td>\n",
       "      <td>0</td>\n",
       "      <td>NonEnglish</td>\n",
       "      <td>2260338140</td>\n",
       "      <td>674134049749889024</td>\n",
       "      <td>http://twitter.com/politics_t0day/statuses/674...</td>\n",
       "      <td>[]</td>\n",
       "      <td>[@YouTube]</td>\n",
       "      <td>[https://t.co/4pEID0ip8q]</td>\n",
       "    </tr>\n",
       "    <tr>\n",
       "      <th>2016-02-16 11:58:00</th>\n",
       "      <td>2260338140</td>\n",
       "      <td>POLITICS_T0DAY</td>\n",
       "      <td>Hillary Clinton barks like a dog to make a poi...</td>\n",
       "      <td>United States</td>\n",
       "      <td>English</td>\n",
       "      <td>2/16/2016 11:58</td>\n",
       "      <td>92</td>\n",
       "      <td>886</td>\n",
       "      <td>12912</td>\n",
       "      <td>0</td>\n",
       "      <td>NonEnglish</td>\n",
       "      <td>2260338140</td>\n",
       "      <td>699563577355534336</td>\n",
       "      <td>http://twitter.com/politics_t0day/statuses/699...</td>\n",
       "      <td>[]</td>\n",
       "      <td>[@YouTube]</td>\n",
       "      <td>[https://t.co/lnTm0is1VX]</td>\n",
       "    </tr>\n",
       "  </tbody>\n",
       "</table>\n",
       "<p>1264331 rows × 17 columns</p>\n",
       "</div>"
      ],
      "text/plain": [
       "                     external_author_id          author  \\\n",
       "date_published                                            \n",
       "2017-10-01 19:58:00  906000000000000000          10_GOP   \n",
       "2017-10-01 22:43:00  906000000000000000          10_GOP   \n",
       "2017-10-01 23:52:00  906000000000000000          10_GOP   \n",
       "2017-10-01 02:47:00  906000000000000000          10_GOP   \n",
       "2017-10-01 02:52:00  906000000000000000          10_GOP   \n",
       "...                                 ...             ...   \n",
       "2015-11-09 14:42:00          2260338140  POLITICS_T0DAY   \n",
       "2015-12-01 13:42:00          2260338140  POLITICS_T0DAY   \n",
       "2015-12-23 09:57:00          2260338140  POLITICS_T0DAY   \n",
       "2015-12-08 07:50:00          2260338140  POLITICS_T0DAY   \n",
       "2016-02-16 11:58:00          2260338140  POLITICS_T0DAY   \n",
       "\n",
       "                                                               content  \\\n",
       "date_published                                                           \n",
       "2017-10-01 19:58:00  \"We have a sitting Democrat US Senator on tria...   \n",
       "2017-10-01 22:43:00  Marshawn Lynch arrives to game in anti-Trump s...   \n",
       "2017-10-01 23:52:00  JUST IN: President Trump dedicates Presidents ...   \n",
       "2017-10-01 02:47:00  Dan Bongino: \"Nobody trolls liberals better th...   \n",
       "2017-10-01 02:52:00  '@SenatorMenendez @CarmenYulinCruz Doesn't mat...   \n",
       "...                                                                ...   \n",
       "2015-11-09 14:42:00  Watch \"Missile launch over San Francisco\" by @...   \n",
       "2015-12-01 13:42:00  Boeing Pieces Together the Last C-17 on the Li...   \n",
       "2015-12-23 09:57:00  Satanic Temple Performs the Nation's First Sta...   \n",
       "2015-12-08 07:50:00  Eagles of Death Metal Join U2 on Paris Stage h...   \n",
       "2016-02-16 11:58:00  Hillary Clinton barks like a dog to make a poi...   \n",
       "\n",
       "                            region language     publish_date  following  \\\n",
       "date_published                                                            \n",
       "2017-10-01 19:58:00        Unknown  English  10/1/2017 19:58       1052   \n",
       "2017-10-01 22:43:00        Unknown  English  10/1/2017 22:43       1054   \n",
       "2017-10-01 23:52:00        Unknown  English  10/1/2017 23:52       1062   \n",
       "2017-10-01 02:47:00        Unknown  English   10/1/2017 2:47       1050   \n",
       "2017-10-01 02:52:00        Unknown  English   10/1/2017 2:52       1050   \n",
       "...                            ...      ...              ...        ...   \n",
       "2015-11-09 14:42:00  United States  English  11/9/2015 14:42         92   \n",
       "2015-12-01 13:42:00  United States  English  12/1/2015 13:42         92   \n",
       "2015-12-23 09:57:00  United States  English  12/23/2015 9:57         92   \n",
       "2015-12-08 07:50:00  United States  English   12/8/2015 7:50         92   \n",
       "2016-02-16 11:58:00  United States  English  2/16/2016 11:58         92   \n",
       "\n",
       "                     followers  updates  retweet account_category  \\\n",
       "date_published                                                      \n",
       "2017-10-01 19:58:00       9636      253        0       RightTroll   \n",
       "2017-10-01 22:43:00       9637      254        0       RightTroll   \n",
       "2017-10-01 23:52:00       9642      256        0       RightTroll   \n",
       "2017-10-01 02:47:00       9644      247        0       RightTroll   \n",
       "2017-10-01 02:52:00       9644      249        0       RightTroll   \n",
       "...                        ...      ...      ...              ...   \n",
       "2015-11-09 14:42:00        898     9502        0       NonEnglish   \n",
       "2015-12-01 13:42:00        919    10148        0       NonEnglish   \n",
       "2015-12-23 09:57:00        900    10961        0       NonEnglish   \n",
       "2015-12-08 07:50:00        935    10370        0       NonEnglish   \n",
       "2016-02-16 11:58:00        886    12912        0       NonEnglish   \n",
       "\n",
       "                        alt_external_id            tweet_id  \\\n",
       "date_published                                                \n",
       "2017-10-01 19:58:00  905874659358453760  914580356430536707   \n",
       "2017-10-01 22:43:00  905874659358453760  914621840496189440   \n",
       "2017-10-01 23:52:00  905874659358453760  914639143690555392   \n",
       "2017-10-01 02:47:00  905874659358453760  914320835325853696   \n",
       "2017-10-01 02:52:00  905874659358453760  914322215537119234   \n",
       "...                                 ...                 ...   \n",
       "2015-11-09 14:42:00          2260338140  663728439766204416   \n",
       "2015-12-01 13:42:00          2260338140  671685764418281472   \n",
       "2015-12-23 09:57:00          2260338140  679601725314076672   \n",
       "2015-12-08 07:50:00          2260338140  674134049749889024   \n",
       "2016-02-16 11:58:00          2260338140  699563577355534336   \n",
       "\n",
       "                                                           article_url  \\\n",
       "date_published                                                           \n",
       "2017-10-01 19:58:00  http://twitter.com/905874659358453760/statuses...   \n",
       "2017-10-01 22:43:00  http://twitter.com/905874659358453760/statuses...   \n",
       "2017-10-01 23:52:00  http://twitter.com/905874659358453760/statuses...   \n",
       "2017-10-01 02:47:00  http://twitter.com/905874659358453760/statuses...   \n",
       "2017-10-01 02:52:00  http://twitter.com/905874659358453760/statuses...   \n",
       "...                                                                ...   \n",
       "2015-11-09 14:42:00  http://twitter.com/politics_t0day/statuses/663...   \n",
       "2015-12-01 13:42:00  http://twitter.com/politics_t0day/statuses/671...   \n",
       "2015-12-23 09:57:00  http://twitter.com/politics_t0day/statuses/679...   \n",
       "2015-12-08 07:50:00  http://twitter.com/politics_t0day/statuses/674...   \n",
       "2016-02-16 11:58:00  http://twitter.com/politics_t0day/statuses/699...   \n",
       "\n",
       "                    hashtags                              mentions  \\\n",
       "date_published                                                       \n",
       "2017-10-01 19:58:00       []                            [@nedryun]   \n",
       "2017-10-01 22:43:00       []                                    []   \n",
       "2017-10-01 23:52:00       []                                    []   \n",
       "2017-10-01 02:47:00       []                                    []   \n",
       "2017-10-01 02:52:00       []  [@SenatorMenendez, @CarmenYulinCruz]   \n",
       "...                      ...                                   ...   \n",
       "2015-11-09 14:42:00       []                   [@Varient3, @Vimeo]   \n",
       "2015-12-01 13:42:00       []                            [@YouTube]   \n",
       "2015-12-23 09:57:00       []                            [@YouTube]   \n",
       "2015-12-08 07:50:00       []                            [@YouTube]   \n",
       "2016-02-16 11:58:00       []                            [@YouTube]   \n",
       "\n",
       "                                         links  \n",
       "date_published                                  \n",
       "2017-10-01 19:58:00  [https://t.co/gh6g0D1oiC]  \n",
       "2017-10-01 22:43:00  [https://t.co/mLH1i30LZZ]  \n",
       "2017-10-01 23:52:00  [https://t.co/z9wVa4djAE]  \n",
       "2017-10-01 02:47:00  [https://t.co/AigV93aC8J]  \n",
       "2017-10-01 02:52:00                         []  \n",
       "...                                        ...  \n",
       "2015-11-09 14:42:00  [https://t.co/X50JkMr9UR]  \n",
       "2015-12-01 13:42:00  [https://t.co/QSkB1EL4CB]  \n",
       "2015-12-23 09:57:00  [https://t.co/VwaztidS4g]  \n",
       "2015-12-08 07:50:00  [https://t.co/4pEID0ip8q]  \n",
       "2016-02-16 11:58:00  [https://t.co/lnTm0is1VX]  \n",
       "\n",
       "[1264331 rows x 17 columns]"
      ]
     },
     "execution_count": 30,
     "metadata": {},
     "output_type": "execute_result"
    }
   ],
   "source": [
    "df"
   ]
  },
  {
   "cell_type": "code",
   "execution_count": 31,
   "metadata": {
    "execution": {
     "iopub.execute_input": "2024-05-21T22:29:18.589581Z",
     "iopub.status.busy": "2024-05-21T22:29:18.589477Z",
     "iopub.status.idle": "2024-05-21T22:29:18.593392Z",
     "shell.execute_reply": "2024-05-21T22:29:18.592813Z",
     "shell.execute_reply.started": "2024-05-21T22:29:18.589570Z"
    }
   },
   "outputs": [
    {
     "data": {
      "text/plain": [
       "list"
      ]
     },
     "execution_count": 31,
     "metadata": {},
     "output_type": "execute_result"
    }
   ],
   "source": [
    "col='hashtags'\n",
    "cell_dtypes = type(df[col].iloc[0])\n",
    "cell_dtypes"
   ]
  },
  {
   "cell_type": "markdown",
   "metadata": {},
   "source": [
    "### Determine Top 30 Hashtags and Mentions in Troll Tweets"
   ]
  },
  {
   "cell_type": "code",
   "execution_count": 32,
   "metadata": {
    "execution": {
     "iopub.execute_input": "2024-05-21T22:29:18.594354Z",
     "iopub.status.busy": "2024-05-21T22:29:18.594167Z",
     "iopub.status.idle": "2024-05-21T22:29:18.597357Z",
     "shell.execute_reply": "2024-05-21T22:29:18.596982Z",
     "shell.execute_reply.started": "2024-05-21T22:29:18.594341Z"
    }
   },
   "outputs": [],
   "source": [
    "def get_most_common_from_list_col(df, col, dropna=True, normalize=False, top_n=None):\n",
    "    import ast\n",
    "    example_cell = df[col].iloc[0]\n",
    "    \n",
    "    if isinstance(example_cell, str):\n",
    "        # try:\n",
    "        list_col = df[col].fillna('[]').map(lambda x: ast.literal_eval(x))\n",
    "        # except E\n",
    "    else:\n",
    "        list_col = df[col].fillna('')\n",
    "    \n",
    "    exploded_col = list_col.explode()\n",
    "    value_counts = exploded_col.value_counts(dropna=dropna, normalize=normalize)\n",
    "\n",
    "    if top_n is None:\n",
    "\n",
    "        return value_counts\n",
    "    else:\n",
    "        return value_counts.head(top_n)\n",
    "\n"
   ]
  },
  {
   "cell_type": "code",
   "execution_count": 33,
   "metadata": {
    "execution": {
     "iopub.execute_input": "2024-05-21T22:29:18.597920Z",
     "iopub.status.busy": "2024-05-21T22:29:18.597808Z",
     "iopub.status.idle": "2024-05-21T22:29:18.600409Z",
     "shell.execute_reply": "2024-05-21T22:29:18.600111Z",
     "shell.execute_reply.started": "2024-05-21T22:29:18.597910Z"
    }
   },
   "outputs": [
    {
     "data": {
      "text/plain": [
       "Index(['external_author_id', 'author', 'content', 'region', 'language',\n",
       "       'publish_date', 'following', 'followers', 'updates', 'retweet',\n",
       "       'account_category', 'alt_external_id', 'tweet_id', 'article_url',\n",
       "       'hashtags', 'mentions', 'links'],\n",
       "      dtype='object')"
      ]
     },
     "execution_count": 33,
     "metadata": {},
     "output_type": "execute_result"
    }
   ],
   "source": [
    "df.columns"
   ]
  },
  {
   "cell_type": "code",
   "execution_count": 34,
   "metadata": {
    "execution": {
     "iopub.execute_input": "2024-05-21T22:29:18.601017Z",
     "iopub.status.busy": "2024-05-21T22:29:18.600918Z",
     "iopub.status.idle": "2024-05-21T22:29:18.809116Z",
     "shell.execute_reply": "2024-05-21T22:29:18.808790Z",
     "shell.execute_reply.started": "2024-05-21T22:29:18.601006Z"
    }
   },
   "outputs": [
    {
     "data": {
      "text/plain": [
       "hashtags\n",
       "#news                118435\n",
       "#sports               45476\n",
       "#politics             37405\n",
       "#world                27058\n",
       "#local                23109\n",
       "#TopNews              14608\n",
       "#health               10317\n",
       "#business              9537\n",
       "#BlackLivesMatter      8241\n",
       "#tech                  7834\n",
       "#entertainment         7224\n",
       "#MAGA                  6847\n",
       "#top                   6581\n",
       "#Cleveland             6519\n",
       "#crime                 6298\n",
       "#TopVideo              6151\n",
       "#environment           5657\n",
       "#PJNET                 4754\n",
       "#mar                   4691\n",
       "#FAKENEWS              4306\n",
       "#Miami                 4198\n",
       "#tcot                  4163\n",
       "#IslamKills            3854\n",
       "#topl                  3832\n",
       "#SanJose               3813\n",
       "#life                  3696\n",
       "#breaking              3653\n",
       "#ISIS                  3643\n",
       "#DemnDebate            3585\n",
       "#KochFarms             2880\n",
       "Name: count, dtype: int64"
      ]
     },
     "execution_count": 34,
     "metadata": {},
     "output_type": "execute_result"
    }
   ],
   "source": [
    "list_top_30_tags = get_most_common_from_list_col(df,'hashtags', dropna=True, normalize=False, top_n=30)\n",
    "list_top_30_tags"
   ]
  },
  {
   "cell_type": "code",
   "execution_count": 35,
   "metadata": {
    "execution": {
     "iopub.execute_input": "2024-05-21T22:29:18.809776Z",
     "iopub.status.busy": "2024-05-21T22:29:18.809670Z",
     "iopub.status.idle": "2024-05-21T22:29:19.124560Z",
     "shell.execute_reply": "2024-05-21T22:29:19.124145Z",
     "shell.execute_reply.started": "2024-05-21T22:29:18.809765Z"
    }
   },
   "outputs": [
    {
     "data": {
      "text/plain": [
       "mentions\n",
       "@midnight           6691\n",
       "@realDonaldTrump    3514\n",
       "@WarfareWW          1527\n",
       "@CNN                1469\n",
       "@HillaryClinton     1419\n",
       "@POTUS              1030\n",
       "@CNNPolitics         948\n",
       "@FoxNews             925\n",
       "@mashable            740\n",
       "@YouTube             680\n",
       "@AC360               658\n",
       "@CNNSitRoom          657\n",
       "@VanJones68          651\n",
       "@CNNI                650\n",
       "@JakeTapper          649\n",
       "@DonLemon            649\n",
       "@TheLeadCNN          649\n",
       "@AnaNavarro          648\n",
       "@BrianStelter        648\n",
       "@WolfBlitzer         647\n",
       "@AndersonCooper      647\n",
       "@truthfeednews       497\n",
       "@Jenn_Abrams         466\n",
       "@washingtonpost      443\n",
       "@nytimes             441\n",
       "@jstines3            413\n",
       "@deray               380\n",
       "@Acosta              367\n",
       "@                    363\n",
       "@todayinsyria        357\n",
       "Name: count, dtype: int64"
      ]
     },
     "execution_count": 35,
     "metadata": {},
     "output_type": "execute_result"
    }
   ],
   "source": [
    "list_top_30_ats = get_most_common_from_list_col(df,'mentions', top_n=30)\n",
    "list_top_30_ats"
   ]
  },
  {
   "cell_type": "markdown",
   "metadata": {},
   "source": [
    "### def get_tags_ats"
   ]
  },
  {
   "cell_type": "code",
   "execution_count": 36,
   "metadata": {
    "execution": {
     "iopub.execute_input": "2024-05-21T22:29:19.125223Z",
     "iopub.status.busy": "2024-05-21T22:29:19.125134Z",
     "iopub.status.idle": "2024-05-21T22:29:19.127115Z",
     "shell.execute_reply": "2024-05-21T22:29:19.126783Z",
     "shell.execute_reply.started": "2024-05-21T22:29:19.125214Z"
    }
   },
   "outputs": [],
   "source": [
    "# from tqdm import tqdm\n",
    "# all_hashtags = []\n",
    "# for i in range(len(hashtag_list)):\n",
    "#     if len(hashtag_list[i])==0:\n",
    "#         continue\n",
    "#     elif len(hashtag_list[i])>1:\n",
    "#         [all_hashtags.append(x) for x in hashtag_list[i]]\n",
    "\n",
    "#     else:\n",
    "#         all_hashtags.append(hashtag_list[i])\n",
    "    \n",
    "# hashtag_counts = pd.Series(all_hashtags)\n",
    "# hashtag_counts.value_counts()"
   ]
  },
  {
   "cell_type": "code",
   "execution_count": 37,
   "metadata": {
    "execution": {
     "iopub.execute_input": "2024-05-21T22:29:19.127589Z",
     "iopub.status.busy": "2024-05-21T22:29:19.127499Z",
     "iopub.status.idle": "2024-05-21T22:29:19.129770Z",
     "shell.execute_reply": "2024-05-21T22:29:19.129430Z",
     "shell.execute_reply.started": "2024-05-21T22:29:19.127580Z"
    }
   },
   "outputs": [],
   "source": [
    "# # Define get_tags_ats to accept a list of text entries and return all found tags and ats as 2 series/lists\n",
    "# def get_tags_ats(text_to_search,exp_tag = r'(#\\w*)',exp_at = r'(@\\w*)', output='series',show_counts=False):\n",
    "#     \"\"\"Accepts a list of text entries to search, and a regex for tags, and a regex for @'s.\n",
    "#     Joins all entries in the list of text and then re.findsall() for both expressions.\n",
    "#     Returns a series of found_tags and a series of found_ats.'\"\"\"\n",
    "#     import re\n",
    "    \n",
    "#     # Create a single long joined-list of strings\n",
    "#     text_to_search_combined = ' '.join(text_to_search)\n",
    "        \n",
    "#     # print(len(text_to_search_combined), len(text_to_search_list))\n",
    "#     found_tags = re.findall(exp_tag, text_to_search_combined)\n",
    "#     found_ats = re.findall(exp_at, text_to_search_combined)\n",
    "    \n",
    "#     if output.lower() == 'series':\n",
    "#         found_tags = pd.Series(found_tags, name='tags')\n",
    "#         found_ats = pd.Series(found_ats, name='ats')\n",
    "        \n",
    "#         if show_counts==True:\n",
    "#             print(f'\\t{found_tags.name}:\\n{tweet_tags.value_counts()} \\n\\n\\t{found_ats.name}:\\n{tweet_ats.value_counts()}')\n",
    "                \n",
    "#     if (output.lower() != 'series') & (show_counts==True):\n",
    "#         raise Exception('output must be set to \"series\" in order to show_counts')\n",
    "                       \n",
    "#     return found_tags, found_ats"
   ]
  },
  {
   "cell_type": "code",
   "execution_count": 38,
   "metadata": {
    "execution": {
     "iopub.execute_input": "2024-05-21T22:29:19.130601Z",
     "iopub.status.busy": "2024-05-21T22:29:19.130354Z",
     "iopub.status.idle": "2024-05-21T22:29:19.132394Z",
     "shell.execute_reply": "2024-05-21T22:29:19.132033Z",
     "shell.execute_reply.started": "2024-05-21T22:29:19.130591Z"
    },
    "scrolled": true
   },
   "outputs": [],
   "source": [
    "# # Need to get a list of hash tags.\n",
    "# text_to_search_list = []\n",
    "\n",
    "# for i in range(len(df)):    \n",
    "#     tweet_contents =df['content'].iloc[i]\n",
    "#     text_to_search_list.append(tweet_contents)\n",
    "\n",
    "# text_to_search_list[:2]"
   ]
  },
  {
   "cell_type": "code",
   "execution_count": 39,
   "metadata": {
    "execution": {
     "iopub.execute_input": "2024-05-21T22:29:19.133091Z",
     "iopub.status.busy": "2024-05-21T22:29:19.132911Z",
     "iopub.status.idle": "2024-05-21T22:29:19.135585Z",
     "shell.execute_reply": "2024-05-21T22:29:19.135128Z",
     "shell.execute_reply.started": "2024-05-21T22:29:19.133080Z"
    }
   },
   "outputs": [],
   "source": [
    "# # Get all tweet tags and @'s from text_to_search_list\n",
    "# tweet_tags, tweet_ats = get_tags_ats(text_to_search_list, show_counts=False)\n",
    "\n",
    "# print(f\"There were {len(tweet_tags)} unique hashtags and {len(tweet_ats)} unique @'s\\n\")\n",
    "\n",
    "# # Create a dataframe with top_tags\n",
    "# df_top_tags = pd.DataFrame(tweet_tags.value_counts()[:40])#,'\\n')\n",
    "# df_top_tags['% Total'] = (df_top_tags['tags']/len(tweet_tags)*100)\n",
    "\n",
    "# # Create a dataframe with top_ats\n",
    "# df_top_ats = pd.DataFrame(tweet_ats.value_counts()[:40])\n",
    "# df_top_ats['% Total'] = (df_top_ats['ats']/len(tweet_ats)*100)\n",
    "\n",
    "# # Display top tags and ats\n",
    "# # bs.display_side_by_side(df_top_tags,df_top_ats)"
   ]
  },
  {
   "cell_type": "markdown",
   "metadata": {},
   "source": [
    "### Notes on Top Tags and Ats:\n"
   ]
  },
  {
   "cell_type": "code",
   "execution_count": 40,
   "metadata": {
    "execution": {
     "iopub.execute_input": "2024-05-21T22:29:19.136893Z",
     "iopub.status.busy": "2024-05-21T22:29:19.136736Z",
     "iopub.status.idle": "2024-05-21T22:29:19.139843Z",
     "shell.execute_reply": "2024-05-21T22:29:19.139083Z",
     "shell.execute_reply.started": "2024-05-21T22:29:19.136881Z"
    }
   },
   "outputs": [],
   "source": [
    "# # Choose list of top tags to use in search\n",
    "# list_top_30_tags = df_top_tags.index[:30]\n",
    "# list_top_30_tags"
   ]
  },
  {
   "cell_type": "code",
   "execution_count": 41,
   "metadata": {
    "execution": {
     "iopub.execute_input": "2024-05-21T22:29:19.140738Z",
     "iopub.status.busy": "2024-05-21T22:29:19.140604Z",
     "iopub.status.idle": "2024-05-21T22:29:19.144357Z",
     "shell.execute_reply": "2024-05-21T22:29:19.143988Z",
     "shell.execute_reply.started": "2024-05-21T22:29:19.140725Z"
    }
   },
   "outputs": [],
   "source": [
    "# # Choose list of top tags to use in search\n",
    "# list_top_30_ats = df_top_ats.index[:30]\n",
    "# list_top_30_ats"
   ]
  },
  {
   "cell_type": "markdown",
   "metadata": {},
   "source": [
    "## Summary of Tweet Search Strategy \n",
    "- **The most common hashtags include some very generic categories** that will not be appropriate control tweets.\n",
    "    - Examples:\n",
    "        - '#news','#sports','#politics','#world','#local','#TopNews','#health','#business','#tech'\n",
    "    - If we used these to extract control Tweets, our model would be biased, since many of these categories contain time-specific topics and would therefore be easy to predict vs. the troll tweets.\n",
    "  \n",
    "- **The most common @'s are much more revealing and helpful in narrowing the focus of the results.**\n",
    "    - Final decision is to use the top 40 mentions from the trolls tweets and extracting present-day Tweets with the same mentions. \n",
    "___"
   ]
  },
  {
   "cell_type": "markdown",
   "metadata": {},
   "source": [
    "# Using the Twitter Search API to Extract Control Tweets"
   ]
  },
  {
   "cell_type": "markdown",
   "metadata": {},
   "source": [
    "- [x] Required API key are saved in the Main folder in which this repo is saved. \n",
    "- [x] Check the [Premium account docs for search syntax](https://developer.twitter.com/en/docs/tweets/search/guides/premium-operators.html)\n",
    "- [x] [Check this article for using Tweepy for most efficient twitter api extraction](https://bhaskarvk.github.io/2015/01/how-to-use-twitters-search-rest-api-most-effectively./)"
   ]
  },
  {
   "cell_type": "markdown",
   "metadata": {},
   "source": [
    "**LINK TO PREMIUM SEARCH API GUIDE**<br>\n",
    "https://developer.twitter.com/en/docs/tweets/search/api-reference/premium-search\n",
    "\n",
    "**Available search operators**\n",
    "- Premium search API supports rules with up to 1,024 characters. The Search Tweets APIs support the premium operators listed below. See our Premium operators guide for more details.\n",
    "\n",
    "- The base URI for the premium search API is https://api.twitter.com/1.1/tweets/search/.\n",
    "\n",
    "**Matching on Tweet contents:**\n",
    "- keyword , \"quoted phrase\" , # , @, url , lang"
   ]
  },
  {
   "cell_type": "markdown",
   "metadata": {},
   "source": [
    "\n",
    "## ⛔️ Using `tweepy` to access twitter API"
   ]
  },
  {
   "cell_type": "code",
   "execution_count": 42,
   "metadata": {
    "execution": {
     "iopub.execute_input": "2024-05-21T22:29:19.145006Z",
     "iopub.status.busy": "2024-05-21T22:29:19.144897Z",
     "iopub.status.idle": "2024-05-21T22:29:19.400370Z",
     "shell.execute_reply": "2024-05-21T22:29:19.399177Z",
     "shell.execute_reply.started": "2024-05-21T22:29:19.144994Z"
    }
   },
   "outputs": [
    {
     "ename": "Exception",
     "evalue": "Free twitter API access has been removed and the following code is no longer runnable.",
     "output_type": "error",
     "traceback": [
      "\u001b[0;31m---------------------------------------------------------------------------\u001b[0m",
      "\u001b[0;31mException\u001b[0m                                 Traceback (most recent call last)",
      "Cell \u001b[0;32mIn[42], line 1\u001b[0m\n\u001b[0;32m----> 1\u001b[0m \u001b[38;5;28;01mraise\u001b[39;00m \u001b[38;5;167;01mException\u001b[39;00m(\u001b[38;5;124m\"\u001b[39m\u001b[38;5;124mFree twitter API access has been removed and the following code is no longer runnable.\u001b[39m\u001b[38;5;124m\"\u001b[39m)\n",
      "\u001b[0;31mException\u001b[0m: Free twitter API access has been removed and the following code is no longer runnable."
     ]
    }
   ],
   "source": [
    "\n",
    "raise Exception(\"Free twitter API access has been removed and the following code is no longer runnable.\")\n"
   ]
  },
  {
   "cell_type": "markdown",
   "metadata": {},
   "source": [
    "### def connect_twitter_api, def search_twitter_api"
   ]
  },
  {
   "cell_type": "code",
   "execution_count": null,
   "metadata": {
    "code_folding": [],
    "execution": {
     "iopub.status.busy": "2024-05-21T22:29:19.400735Z",
     "iopub.status.idle": "2024-05-21T22:29:19.400883Z",
     "shell.execute_reply": "2024-05-21T22:29:19.400810Z",
     "shell.execute_reply.started": "2024-05-21T22:29:19.400804Z"
    }
   },
   "outputs": [],
   "source": [
    "# Initialzie Tweepy with Authorization Keys    \n",
    "def connect_twitter_api(api_key, api_secret_key):\n",
    "    import tweepy, sys\n",
    "    auth = tweepy.AppAuthHandler(api_key, api_secret_key)\n",
    "    api = tweepy.API(auth, wait_on_rate_limit=True, wait_on_rate_limit_notify=True)\n",
    "\n",
    "    if (not api):\n",
    "        print(\"Can't authenticate.\")\n",
    "        sys.exit(-1)\n",
    "    return api"
   ]
  },
  {
   "cell_type": "code",
   "execution_count": null,
   "metadata": {
    "code_folding": [],
    "execution": {
     "iopub.status.busy": "2024-05-21T22:29:19.401481Z",
     "iopub.status.idle": "2024-05-21T22:29:19.401611Z",
     "shell.execute_reply": "2024-05-21T22:29:19.401547Z",
     "shell.execute_reply.started": "2024-05-21T22:29:19.401541Z"
    }
   },
   "outputs": [],
   "source": [
    "def search_twitter_api(api_object, searchQuery, maxTweets, fName, tweetsPerQry=100, max_id=0, sinceId=None):\n",
    "    \"\"\"Take an authenticated tweepy api_object, a search queary, max# of tweets to retreive, a desintation filename.\n",
    "    Uses tweept.api.search for the searchQuery until maxTweets is reached, saved harvest tweets to fName.\"\"\"\n",
    "    import sys, jsonpickle, os\n",
    "    api = api_object\n",
    "    tweetCount = 0\n",
    "    print(f'Downloading max{maxTweets} for {searchQuery}...')\n",
    "    with open(fName, 'a+') as f:\n",
    "        while tweetCount < maxTweets:\n",
    "\n",
    "            try:\n",
    "                if (max_id <=0):\n",
    "                    if (not sinceId):\n",
    "                        new_tweets = api.search(q=searchQuery, count=tweetsPerQry, tweet_mode='extended')\n",
    "                    else:\n",
    "                        new_tweets = api.search(q=searchQuery, count=tweetsPerQry, since_id=sinceId, tweet_mode='extended')\n",
    "\n",
    "                else:\n",
    "                    if (not sinceId):\n",
    "                        new_tweets = api.search(q=searchQuery, count=tweetsPerQry, max_id=str(max_id-1), tweet_mode='extended')\n",
    "                    else:\n",
    "                        new_tweets = api.search(q=searchQuery, count=tweetsPerQry, max_id=str(max_id-1),since_id=sinceId, tweet_mode='extended')\n",
    "\n",
    "                if not new_tweets:\n",
    "                    print('No more tweets found')\n",
    "                    break\n",
    "\n",
    "                for tweet in new_tweets:\n",
    "                    f.write(jsonpickle.encode(tweet._json, unpicklable=False)+'\\n')\n",
    "\n",
    "                tweetCount+=len(new_tweets)\n",
    "\n",
    "                print(\"Downloaded {0} tweets\".format(tweetCount))\n",
    "                max_id = new_tweets[-1].id\n",
    "\n",
    "            except tweepy.TweepError as e:\n",
    "                # Just exit if any error\n",
    "                print(\"some error : \" + str(e))\n",
    "                break\n",
    "    print (\"Downloaded {0} tweets, Saved to {1}\\n\".format(tweetCount, fName))"
   ]
  },
  {
   "cell_type": "markdown",
   "metadata": {},
   "source": [
    "## Connect to Twitter and Harvest Tweets\n",
    "\n",
    "### Making lists of tags and ats to query"
   ]
  },
  {
   "cell_type": "code",
   "execution_count": null,
   "metadata": {
    "execution": {
     "iopub.status.busy": "2024-05-21T22:29:19.402061Z",
     "iopub.status.idle": "2024-05-21T22:29:19.402180Z",
     "shell.execute_reply": "2024-05-21T22:29:19.402118Z",
     "shell.execute_reply.started": "2024-05-21T22:29:19.402113Z"
    }
   },
   "outputs": [],
   "source": [
    "# Figure out the # of each @ and each # that i want ot query, then make a query_dict to feed into the cell below\n",
    "query_ats = tuple(zip(df_top_ats.index, df_top_ats['ats']))\n",
    "query_tags = tuple(zip(df_top_tags.index, df_top_tags['tags']))\n",
    "\n",
    "# Calculate how many tweets are represented by the top 30 tags and top 30 @'s \n",
    "sum_top_tweet_tags = df_top_tags['tags'].sum()\n",
    "sum_top_tweet_ats = df_top_ats['ats'].sum()\n",
    "print(f\"Sum of top tags = {sum_top_tweet_tags}\\nSum of top @'s = {sum_top_tweet_ats}\")\n",
    "\n",
    "print(query_ats[:10],'\\n')\n",
    "print(query_tags[:10])"
   ]
  },
  {
   "cell_type": "code",
   "execution_count": null,
   "metadata": {
    "execution": {
     "iopub.status.busy": "2024-05-21T22:29:19.402819Z",
     "iopub.status.idle": "2024-05-21T22:29:19.402953Z",
     "shell.execute_reply": "2024-05-21T22:29:19.402888Z",
     "shell.execute_reply.started": "2024-05-21T22:29:19.402882Z"
    }
   },
   "outputs": [],
   "source": [
    "np.sum([x[1] for x in query_ats])"
   ]
  },
  {
   "cell_type": "code",
   "execution_count": null,
   "metadata": {
    "execution": {
     "iopub.status.busy": "2024-05-21T22:29:19.403515Z",
     "iopub.status.idle": "2024-05-21T22:29:19.403634Z",
     "shell.execute_reply": "2024-05-21T22:29:19.403571Z",
     "shell.execute_reply.started": "2024-05-21T22:29:19.403566Z"
    }
   },
   "outputs": [],
   "source": [
    "# Inspect Data to get search parameters:\n",
    "print(f'Tweet date range:\\n {min(df.index)} to {max(df.index)}')\n",
    "print(f'\\nTotal days: {max(df.index)-min(df.index)}')"
   ]
  },
  {
   "cell_type": "markdown",
   "metadata": {},
   "source": [
    "### Connecting to twitter api and searching for lists of queries"
   ]
  },
  {
   "cell_type": "code",
   "execution_count": null,
   "metadata": {
    "execution": {
     "iopub.status.busy": "2024-05-21T22:29:19.404113Z",
     "iopub.status.idle": "2024-05-21T22:29:19.404251Z",
     "shell.execute_reply": "2024-05-21T22:29:19.404185Z",
     "shell.execute_reply.started": "2024-05-21T22:29:19.404180Z"
    }
   },
   "outputs": [],
   "source": [
    "# Import API keys from text files (so not displayed here and not in repo)\n",
    "with open('../consumer_API_key.txt','r') as f:\n",
    "    api_key =  f.read()\n",
    "with open('../consumer_API_secret_key.txt','r') as f:\n",
    "    api_secret_key  = f.read()"
   ]
  },
  {
   "cell_type": "markdown",
   "metadata": {},
   "source": [
    "#### Test searches"
   ]
  },
  {
   "cell_type": "code",
   "execution_count": null,
   "metadata": {
    "execution": {
     "iopub.status.busy": "2024-05-21T22:29:19.404569Z",
     "iopub.status.idle": "2024-05-21T22:29:19.404683Z",
     "shell.execute_reply": "2024-05-21T22:29:19.404620Z",
     "shell.execute_reply.started": "2024-05-21T22:29:19.404615Z"
    }
   },
   "outputs": [],
   "source": [
    "# Manually connecting to API and doing test searches. \n",
    "import tweepy, sys\n",
    "auth = tweepy.AppAuthHandler(api_key, api_secret_key)\n",
    "api = tweepy.API(auth, wait_on_rate_limit=True, wait_on_rate_limit_notify=True)\n",
    "\n",
    "if (not api):\n",
    "    print(\"Can't authenticate.\")\n",
    "    sys.exit(-1)"
   ]
  },
  {
   "cell_type": "code",
   "execution_count": null,
   "metadata": {
    "execution": {
     "iopub.status.busy": "2024-05-21T22:29:19.405125Z",
     "iopub.status.idle": "2024-05-21T22:29:19.405235Z",
     "shell.execute_reply": "2024-05-21T22:29:19.405177Z",
     "shell.execute_reply.started": "2024-05-21T22:29:19.405172Z"
    }
   },
   "outputs": [],
   "source": [
    "# Search for a batch of test results\n",
    "searchQuery='#politics'\n",
    "tweetsPerQry=100\n",
    "\n",
    "new_tweets = api.search(q=searchQuery, count=tweetsPerQry, tweet_mode='extended')\n",
    "type(new_tweets)"
   ]
  },
  {
   "cell_type": "code",
   "execution_count": null,
   "metadata": {
    "execution": {
     "iopub.status.busy": "2024-05-21T22:29:19.405699Z",
     "iopub.status.idle": "2024-05-21T22:29:19.405824Z",
     "shell.execute_reply": "2024-05-21T22:29:19.405761Z",
     "shell.execute_reply.started": "2024-05-21T22:29:19.405755Z"
    }
   },
   "outputs": [],
   "source": [
    "#  Display time range of new_tweets so i can define a timetrange to test\n",
    "test_dates = [x.created_at for x in new_tweets]\n",
    "print(f'Range:{min(test_dates)} to {max(test_dates)}')\n",
    "test_dates[0], test_dates[-1]"
   ]
  },
  {
   "cell_type": "code",
   "execution_count": null,
   "metadata": {
    "execution": {
     "iopub.status.busy": "2024-05-21T22:29:19.406107Z",
     "iopub.status.idle": "2024-05-21T22:29:19.406219Z",
     "shell.execute_reply": "2024-05-21T22:29:19.406160Z",
     "shell.execute_reply.started": "2024-05-21T22:29:19.406155Z"
    }
   },
   "outputs": [],
   "source": [
    "from datetime import datetime\n",
    "end_time = datetime(2019,6,2,20,0,0)\n",
    "end_time"
   ]
  },
  {
   "cell_type": "code",
   "execution_count": null,
   "metadata": {
    "execution": {
     "iopub.status.busy": "2024-05-21T22:29:19.406720Z",
     "iopub.status.idle": "2024-05-21T22:29:19.406836Z",
     "shell.execute_reply": "2024-05-21T22:29:19.406775Z",
     "shell.execute_reply.started": "2024-05-21T22:29:19.406770Z"
    }
   },
   "outputs": [],
   "source": [
    "## DEFINING A NEW FUNCTION TO EXAMINE THE NEW_TWEETS OUTPUTS\n",
    "def check_tweet_daterange(new_tweets,timerange_begin,timerange_end,verbose=0):\n",
    "    \"\"\"Examines specific information for each tweet in a tweepy searchResults object.\"\"\"\n",
    "    \n",
    "    time_start = timerange_begin\n",
    "    time_end = timerange_end\n",
    "    \n",
    "    # Pull out each tweet's status object. \n",
    "    idx_keep_tweets = []\n",
    "    for i,tweet in enumerate(new_tweets):\n",
    "        if (tweet.created_at > time_start) and (tweet.created_at < time_end):\n",
    "            idx_keep_tweets.append(i)\n",
    "            if verbose>0:\n",
    "                print(f'tweet({i} kept:{tweet.created_at})')\n",
    "    return idx_keep_tweets"
   ]
  },
  {
   "cell_type": "code",
   "execution_count": null,
   "metadata": {
    "execution": {
     "iopub.status.busy": "2024-05-21T22:29:19.407324Z",
     "iopub.status.idle": "2024-05-21T22:29:19.407740Z",
     "shell.execute_reply": "2024-05-21T22:29:19.407670Z",
     "shell.execute_reply.started": "2024-05-21T22:29:19.407663Z"
    }
   },
   "outputs": [],
   "source": [
    "# Determining search criteria to limit twitter results to\n",
    "latest_date = max(df.index) # Get latest date from troll tweets\n",
    "earliest_date = min(df.index) # Get the earliest date from troll tweets\n",
    "\n",
    "# Convert pandas timestamps to datetime object for tweet results\n",
    "latest_datetime = latest_date.to_pydatetime()\n",
    "earliest_datetime = earliest_date.to_pydatetime()"
   ]
  },
  {
   "cell_type": "markdown",
   "metadata": {},
   "source": [
    "#### Automated Searches:"
   ]
  },
  {
   "cell_type": "code",
   "execution_count": null,
   "metadata": {
    "execution": {
     "iopub.status.busy": "2024-05-21T22:29:19.408303Z",
     "iopub.status.idle": "2024-05-21T22:29:19.408477Z",
     "shell.execute_reply": "2024-05-21T22:29:19.408404Z",
     "shell.execute_reply.started": "2024-05-21T22:29:19.408397Z"
    }
   },
   "outputs": [],
   "source": [
    "api = connect_twitter_api(api_key,api_secret_key)"
   ]
  },
  {
   "cell_type": "code",
   "execution_count": null,
   "metadata": {
    "execution": {
     "iopub.status.busy": "2024-05-21T22:29:19.409316Z",
     "iopub.status.idle": "2024-05-21T22:29:19.409493Z",
     "shell.execute_reply": "2024-05-21T22:29:19.409405Z",
     "shell.execute_reply.started": "2024-05-21T22:29:19.409399Z"
    }
   },
   "outputs": [],
   "source": [
    "# Extract tweets for top @'s, while matching the distribution of top @'s\n",
    "final_query_list = query_ats\n",
    "filename = 'tweets_for_top40_ats.txt'\n",
    "\n",
    "for q in final_query_list:\n",
    "    searchQuery = q[0]\n",
    "    maxTweets = q[1]\n",
    "    print(f'Query={searchQuery}, max={maxTweets}')\n",
    "    search_twitter_api(api, searchQuery, maxTweets, fName=filename)"
   ]
  },
  {
   "cell_type": "markdown",
   "metadata": {},
   "source": [
    "## 👉 Processing Extracted Tweets from API to match Troll Tweet Features"
   ]
  },
  {
   "cell_type": "code",
   "execution_count": 43,
   "metadata": {
    "execution": {
     "iopub.execute_input": "2024-05-21T22:29:27.773827Z",
     "iopub.status.busy": "2024-05-21T22:29:27.772994Z",
     "iopub.status.idle": "2024-05-21T22:29:27.791372Z",
     "shell.execute_reply": "2024-05-21T22:29:27.790012Z",
     "shell.execute_reply.started": "2024-05-21T22:29:27.773781Z"
    }
   },
   "outputs": [
    {
     "data": {
      "text/plain": [
       "['tweets_for_top40_ats.txt',\n",
       " '__df_full_tweets_all_text_processed__.csv',\n",
       " 'russian_troll_tweets_eng_only_date_pub_index.csv']"
      ]
     },
     "execution_count": 43,
     "metadata": {},
     "output_type": "execute_result"
    }
   ],
   "source": [
    "import os\n",
    "os.listdir(\"final_dataset/\")"
   ]
  },
  {
   "cell_type": "code",
   "execution_count": 44,
   "metadata": {
    "execution": {
     "iopub.execute_input": "2024-05-21T22:29:31.466024Z",
     "iopub.status.busy": "2024-05-21T22:29:31.465250Z",
     "iopub.status.idle": "2024-05-21T22:29:31.476207Z",
     "shell.execute_reply": "2024-05-21T22:29:31.473983Z",
     "shell.execute_reply.started": "2024-05-21T22:29:31.465984Z"
    }
   },
   "outputs": [],
   "source": [
    "import json\n",
    "top_mentions_filename = \"final_dataset/tweets_for_top40_ats.txt\"  \n",
    "\n",
    "# with open(top_mentions_filename) as f:\n",
    "#     loaded_ats = f.readlines()\n",
    "#     # loaded_ats = json.load(f, )\n",
    "\n",
    "# loaded_ats[1]"
   ]
  },
  {
   "cell_type": "code",
   "execution_count": 45,
   "metadata": {
    "execution": {
     "iopub.execute_input": "2024-05-21T22:29:33.299024Z",
     "iopub.status.busy": "2024-05-21T22:29:33.298052Z",
     "iopub.status.idle": "2024-05-21T22:29:36.339166Z",
     "shell.execute_reply": "2024-05-21T22:29:36.338636Z",
     "shell.execute_reply.started": "2024-05-21T22:29:33.298963Z"
    }
   },
   "outputs": [
    {
     "data": {
      "text/html": [
       "<div>\n",
       "<style scoped>\n",
       "    .dataframe tbody tr th:only-of-type {\n",
       "        vertical-align: middle;\n",
       "    }\n",
       "\n",
       "    .dataframe tbody tr th {\n",
       "        vertical-align: top;\n",
       "    }\n",
       "\n",
       "    .dataframe thead th {\n",
       "        text-align: right;\n",
       "    }\n",
       "</style>\n",
       "<table border=\"1\" class=\"dataframe\">\n",
       "  <thead>\n",
       "    <tr style=\"text-align: right;\">\n",
       "      <th></th>\n",
       "      <th>contributors</th>\n",
       "      <th>coordinates</th>\n",
       "      <th>created_at</th>\n",
       "      <th>display_text_range</th>\n",
       "      <th>entities</th>\n",
       "      <th>favorite_count</th>\n",
       "      <th>favorited</th>\n",
       "      <th>full_text</th>\n",
       "      <th>geo</th>\n",
       "      <th>id</th>\n",
       "      <th>id_str</th>\n",
       "      <th>in_reply_to_screen_name</th>\n",
       "      <th>in_reply_to_status_id</th>\n",
       "      <th>in_reply_to_status_id_str</th>\n",
       "      <th>in_reply_to_user_id</th>\n",
       "      <th>in_reply_to_user_id_str</th>\n",
       "      <th>is_quote_status</th>\n",
       "      <th>lang</th>\n",
       "      <th>metadata</th>\n",
       "      <th>place</th>\n",
       "      <th>retweet_count</th>\n",
       "      <th>retweeted</th>\n",
       "      <th>source</th>\n",
       "      <th>truncated</th>\n",
       "      <th>user</th>\n",
       "      <th>retweeted_status</th>\n",
       "      <th>possibly_sensitive</th>\n",
       "      <th>extended_entities</th>\n",
       "      <th>quoted_status</th>\n",
       "      <th>quoted_status_id</th>\n",
       "      <th>quoted_status_id_str</th>\n",
       "      <th>withheld_in_countries</th>\n",
       "    </tr>\n",
       "  </thead>\n",
       "  <tbody>\n",
       "    <tr>\n",
       "      <th>0</th>\n",
       "      <td>NaN</td>\n",
       "      <td>None</td>\n",
       "      <td>2019-06-02 18:34:59+00:00</td>\n",
       "      <td>[0, 202]</td>\n",
       "      <td>{'hashtags': [{'indices': [48, 66], 'text': 'd...</td>\n",
       "      <td>0</td>\n",
       "      <td>False</td>\n",
       "      <td>@realDonaldTrump it’s perfectly reasonable tha...</td>\n",
       "      <td>None</td>\n",
       "      <td>1135253495479537664</td>\n",
       "      <td>1135253495479537664</td>\n",
       "      <td>realDonaldTrump</td>\n",
       "      <td>NaN</td>\n",
       "      <td>NaN</td>\n",
       "      <td>25073877.0</td>\n",
       "      <td>25073877.0</td>\n",
       "      <td>False</td>\n",
       "      <td>en</td>\n",
       "      <td>{'iso_language_code': 'en', 'result_type': 're...</td>\n",
       "      <td>None</td>\n",
       "      <td>0</td>\n",
       "      <td>False</td>\n",
       "      <td>&lt;a href=\"http://twitter.com/download/iphone\" r...</td>\n",
       "      <td>False</td>\n",
       "      <td>{'contributors_enabled': False, 'created_at': ...</td>\n",
       "      <td>NaN</td>\n",
       "      <td>NaN</td>\n",
       "      <td>NaN</td>\n",
       "      <td>NaN</td>\n",
       "      <td>NaN</td>\n",
       "      <td>NaN</td>\n",
       "      <td>NaN</td>\n",
       "    </tr>\n",
       "    <tr>\n",
       "      <th>1</th>\n",
       "      <td>NaN</td>\n",
       "      <td>None</td>\n",
       "      <td>2019-06-02 18:34:59+00:00</td>\n",
       "      <td>[0, 139]</td>\n",
       "      <td>{'hashtags': [], 'symbols': [], 'urls': [], 'u...</td>\n",
       "      <td>0</td>\n",
       "      <td>False</td>\n",
       "      <td>RT @BelkissObadia: BREAKING NEWS: \\n\\n@realDon...</td>\n",
       "      <td>None</td>\n",
       "      <td>1135253495303626753</td>\n",
       "      <td>1135253495303626752</td>\n",
       "      <td>None</td>\n",
       "      <td>NaN</td>\n",
       "      <td>NaN</td>\n",
       "      <td>NaN</td>\n",
       "      <td>NaN</td>\n",
       "      <td>False</td>\n",
       "      <td>en</td>\n",
       "      <td>{'iso_language_code': 'en', 'result_type': 're...</td>\n",
       "      <td>None</td>\n",
       "      <td>950</td>\n",
       "      <td>False</td>\n",
       "      <td>&lt;a href=\"http://twitter.com/download/android\" ...</td>\n",
       "      <td>False</td>\n",
       "      <td>{'contributors_enabled': False, 'created_at': ...</td>\n",
       "      <td>{'contributors': None, 'coordinates': None, 'c...</td>\n",
       "      <td>NaN</td>\n",
       "      <td>NaN</td>\n",
       "      <td>NaN</td>\n",
       "      <td>NaN</td>\n",
       "      <td>NaN</td>\n",
       "      <td>NaN</td>\n",
       "    </tr>\n",
       "    <tr>\n",
       "      <th>2</th>\n",
       "      <td>NaN</td>\n",
       "      <td>None</td>\n",
       "      <td>2019-06-02 18:34:59+00:00</td>\n",
       "      <td>[17, 207]</td>\n",
       "      <td>{'hashtags': [], 'symbols': [], 'urls': [], 'u...</td>\n",
       "      <td>0</td>\n",
       "      <td>False</td>\n",
       "      <td>@realDonaldTrump I thought you were supposed t...</td>\n",
       "      <td>None</td>\n",
       "      <td>1135253494963888135</td>\n",
       "      <td>1135253494963888128</td>\n",
       "      <td>realDonaldTrump</td>\n",
       "      <td>1.135250e+18</td>\n",
       "      <td>1.135250e+18</td>\n",
       "      <td>25073877.0</td>\n",
       "      <td>25073877.0</td>\n",
       "      <td>False</td>\n",
       "      <td>en</td>\n",
       "      <td>{'iso_language_code': 'en', 'result_type': 're...</td>\n",
       "      <td>None</td>\n",
       "      <td>0</td>\n",
       "      <td>False</td>\n",
       "      <td>&lt;a href=\"http://twitter.com/download/android\" ...</td>\n",
       "      <td>False</td>\n",
       "      <td>{'contributors_enabled': False, 'created_at': ...</td>\n",
       "      <td>NaN</td>\n",
       "      <td>NaN</td>\n",
       "      <td>NaN</td>\n",
       "      <td>NaN</td>\n",
       "      <td>NaN</td>\n",
       "      <td>NaN</td>\n",
       "      <td>NaN</td>\n",
       "    </tr>\n",
       "    <tr>\n",
       "      <th>3</th>\n",
       "      <td>NaN</td>\n",
       "      <td>None</td>\n",
       "      <td>2019-06-02 18:34:59+00:00</td>\n",
       "      <td>[0, 139]</td>\n",
       "      <td>{'hashtags': [], 'symbols': [], 'urls': [], 'u...</td>\n",
       "      <td>0</td>\n",
       "      <td>False</td>\n",
       "      <td>RT @realDonaldTrump: Mexico is sending a big d...</td>\n",
       "      <td>None</td>\n",
       "      <td>1135253494523281409</td>\n",
       "      <td>1135253494523281408</td>\n",
       "      <td>None</td>\n",
       "      <td>NaN</td>\n",
       "      <td>NaN</td>\n",
       "      <td>NaN</td>\n",
       "      <td>NaN</td>\n",
       "      <td>False</td>\n",
       "      <td>en</td>\n",
       "      <td>{'iso_language_code': 'en', 'result_type': 're...</td>\n",
       "      <td>None</td>\n",
       "      <td>3128</td>\n",
       "      <td>False</td>\n",
       "      <td>&lt;a href=\"http://twitter.com/#!/download/ipad\" ...</td>\n",
       "      <td>False</td>\n",
       "      <td>{'contributors_enabled': False, 'created_at': ...</td>\n",
       "      <td>{'contributors': None, 'coordinates': None, 'c...</td>\n",
       "      <td>NaN</td>\n",
       "      <td>NaN</td>\n",
       "      <td>NaN</td>\n",
       "      <td>NaN</td>\n",
       "      <td>NaN</td>\n",
       "      <td>NaN</td>\n",
       "    </tr>\n",
       "    <tr>\n",
       "      <th>4</th>\n",
       "      <td>NaN</td>\n",
       "      <td>None</td>\n",
       "      <td>2019-06-02 18:34:59+00:00</td>\n",
       "      <td>[0, 139]</td>\n",
       "      <td>{'hashtags': [], 'symbols': [], 'urls': [], 'u...</td>\n",
       "      <td>0</td>\n",
       "      <td>False</td>\n",
       "      <td>RT @realDonaldTrump: Mexico is sending a big d...</td>\n",
       "      <td>None</td>\n",
       "      <td>1135253494254858240</td>\n",
       "      <td>1135253494254858240</td>\n",
       "      <td>None</td>\n",
       "      <td>NaN</td>\n",
       "      <td>NaN</td>\n",
       "      <td>NaN</td>\n",
       "      <td>NaN</td>\n",
       "      <td>False</td>\n",
       "      <td>en</td>\n",
       "      <td>{'iso_language_code': 'en', 'result_type': 're...</td>\n",
       "      <td>None</td>\n",
       "      <td>3128</td>\n",
       "      <td>False</td>\n",
       "      <td>&lt;a href=\"http://twitter.com/download/android\" ...</td>\n",
       "      <td>False</td>\n",
       "      <td>{'contributors_enabled': False, 'created_at': ...</td>\n",
       "      <td>{'contributors': None, 'coordinates': None, 'c...</td>\n",
       "      <td>NaN</td>\n",
       "      <td>NaN</td>\n",
       "      <td>NaN</td>\n",
       "      <td>NaN</td>\n",
       "      <td>NaN</td>\n",
       "      <td>NaN</td>\n",
       "    </tr>\n",
       "  </tbody>\n",
       "</table>\n",
       "</div>"
      ],
      "text/plain": [
       "   contributors coordinates                created_at display_text_range  \\\n",
       "0           NaN        None 2019-06-02 18:34:59+00:00           [0, 202]   \n",
       "1           NaN        None 2019-06-02 18:34:59+00:00           [0, 139]   \n",
       "2           NaN        None 2019-06-02 18:34:59+00:00          [17, 207]   \n",
       "3           NaN        None 2019-06-02 18:34:59+00:00           [0, 139]   \n",
       "4           NaN        None 2019-06-02 18:34:59+00:00           [0, 139]   \n",
       "\n",
       "                                            entities  favorite_count  \\\n",
       "0  {'hashtags': [{'indices': [48, 66], 'text': 'd...               0   \n",
       "1  {'hashtags': [], 'symbols': [], 'urls': [], 'u...               0   \n",
       "2  {'hashtags': [], 'symbols': [], 'urls': [], 'u...               0   \n",
       "3  {'hashtags': [], 'symbols': [], 'urls': [], 'u...               0   \n",
       "4  {'hashtags': [], 'symbols': [], 'urls': [], 'u...               0   \n",
       "\n",
       "   favorited                                          full_text   geo  \\\n",
       "0      False  @realDonaldTrump it’s perfectly reasonable tha...  None   \n",
       "1      False  RT @BelkissObadia: BREAKING NEWS: \\n\\n@realDon...  None   \n",
       "2      False  @realDonaldTrump I thought you were supposed t...  None   \n",
       "3      False  RT @realDonaldTrump: Mexico is sending a big d...  None   \n",
       "4      False  RT @realDonaldTrump: Mexico is sending a big d...  None   \n",
       "\n",
       "                    id               id_str in_reply_to_screen_name  \\\n",
       "0  1135253495479537664  1135253495479537664         realDonaldTrump   \n",
       "1  1135253495303626753  1135253495303626752                    None   \n",
       "2  1135253494963888135  1135253494963888128         realDonaldTrump   \n",
       "3  1135253494523281409  1135253494523281408                    None   \n",
       "4  1135253494254858240  1135253494254858240                    None   \n",
       "\n",
       "   in_reply_to_status_id  in_reply_to_status_id_str  in_reply_to_user_id  \\\n",
       "0                    NaN                        NaN           25073877.0   \n",
       "1                    NaN                        NaN                  NaN   \n",
       "2           1.135250e+18               1.135250e+18           25073877.0   \n",
       "3                    NaN                        NaN                  NaN   \n",
       "4                    NaN                        NaN                  NaN   \n",
       "\n",
       "   in_reply_to_user_id_str  is_quote_status lang  \\\n",
       "0               25073877.0            False   en   \n",
       "1                      NaN            False   en   \n",
       "2               25073877.0            False   en   \n",
       "3                      NaN            False   en   \n",
       "4                      NaN            False   en   \n",
       "\n",
       "                                            metadata place  retweet_count  \\\n",
       "0  {'iso_language_code': 'en', 'result_type': 're...  None              0   \n",
       "1  {'iso_language_code': 'en', 'result_type': 're...  None            950   \n",
       "2  {'iso_language_code': 'en', 'result_type': 're...  None              0   \n",
       "3  {'iso_language_code': 'en', 'result_type': 're...  None           3128   \n",
       "4  {'iso_language_code': 'en', 'result_type': 're...  None           3128   \n",
       "\n",
       "   retweeted                                             source  truncated  \\\n",
       "0      False  <a href=\"http://twitter.com/download/iphone\" r...      False   \n",
       "1      False  <a href=\"http://twitter.com/download/android\" ...      False   \n",
       "2      False  <a href=\"http://twitter.com/download/android\" ...      False   \n",
       "3      False  <a href=\"http://twitter.com/#!/download/ipad\" ...      False   \n",
       "4      False  <a href=\"http://twitter.com/download/android\" ...      False   \n",
       "\n",
       "                                                user  \\\n",
       "0  {'contributors_enabled': False, 'created_at': ...   \n",
       "1  {'contributors_enabled': False, 'created_at': ...   \n",
       "2  {'contributors_enabled': False, 'created_at': ...   \n",
       "3  {'contributors_enabled': False, 'created_at': ...   \n",
       "4  {'contributors_enabled': False, 'created_at': ...   \n",
       "\n",
       "                                    retweeted_status  possibly_sensitive  \\\n",
       "0                                                NaN                 NaN   \n",
       "1  {'contributors': None, 'coordinates': None, 'c...                 NaN   \n",
       "2                                                NaN                 NaN   \n",
       "3  {'contributors': None, 'coordinates': None, 'c...                 NaN   \n",
       "4  {'contributors': None, 'coordinates': None, 'c...                 NaN   \n",
       "\n",
       "  extended_entities quoted_status  quoted_status_id  quoted_status_id_str  \\\n",
       "0               NaN           NaN               NaN                   NaN   \n",
       "1               NaN           NaN               NaN                   NaN   \n",
       "2               NaN           NaN               NaN                   NaN   \n",
       "3               NaN           NaN               NaN                   NaN   \n",
       "4               NaN           NaN               NaN                   NaN   \n",
       "\n",
       "  withheld_in_countries  \n",
       "0                   NaN  \n",
       "1                   NaN  \n",
       "2                   NaN  \n",
       "3                   NaN  \n",
       "4                   NaN  "
      ]
     },
     "execution_count": 45,
     "metadata": {},
     "output_type": "execute_result"
    }
   ],
   "source": [
    "df_ats = pd.read_json(top_mentions_filename, lines=True)\n",
    "df_ats.head()"
   ]
  },
  {
   "cell_type": "markdown",
   "metadata": {},
   "source": [
    "## [ 📌Bookmark 05/21/24] EDA on Extracted Tweets"
   ]
  },
  {
   "cell_type": "markdown",
   "metadata": {},
   "source": [
    "> 🚨🤔 05/21/2024: Why remove RT here? I know its retweets, but...?"
   ]
  },
  {
   "cell_type": "code",
   "execution_count": null,
   "metadata": {},
   "outputs": [],
   "source": [
    "df_ats['entities'][1]"
   ]
  },
  {
   "cell_type": "code",
   "execution_count": null,
   "metadata": {},
   "outputs": [],
   "source": [
    "df.head(1)"
   ]
  },
  {
   "cell_type": "code",
   "execution_count": null,
   "metadata": {},
   "outputs": [],
   "source": [
    "## Rename columns to match FiveThirtyEight data"
   ]
  },
  {
   "cell_type": "code",
   "execution_count": null,
   "metadata": {},
   "outputs": [],
   "source": []
  },
  {
   "cell_type": "code",
   "execution_count": null,
   "metadata": {},
   "outputs": [],
   "source": [
    "raise Exception(\"still reassessing the workflow below (2024)\")"
   ]
  },
  {
   "cell_type": "code",
   "execution_count": null,
   "metadata": {},
   "outputs": [],
   "source": [
    "df = df_ats.loc[df_ats['full_text'].str.contains('RT')]\n",
    "\n",
    "df.head()"
   ]
  },
  {
   "cell_type": "code",
   "execution_count": null,
   "metadata": {},
   "outputs": [],
   "source": [
    "import re\n",
    "re_RT=re.compile('RT \\@\\w*\\:')"
   ]
  },
  {
   "cell_type": "code",
   "execution_count": null,
   "metadata": {},
   "outputs": [],
   "source": [
    "example_rt_tweets = df['full_text'][:10]\n",
    "example_rt_tweets"
   ]
  },
  {
   "cell_type": "code",
   "execution_count": null,
   "metadata": {},
   "outputs": [],
   "source": [
    "example_rt_tweets.apply(lambda x: re_RT.sub('',x))"
   ]
  },
  {
   "cell_type": "code",
   "execution_count": null,
   "metadata": {},
   "outputs": [],
   "source": [
    "quote_list = (['idx','quoted_status'])\n",
    "for k,v in df['quoted_status'].items()[:10]:\n",
    "    print\n",
    "    quote_list.append([k,v])"
   ]
  },
  {
   "cell_type": "code",
   "execution_count": null,
   "metadata": {},
   "outputs": [],
   "source": [
    "df['retweeted_status'][1]"
   ]
  },
  {
   "cell_type": "code",
   "execution_count": null,
   "metadata": {},
   "outputs": [],
   "source": [
    "df_ats.info()"
   ]
  },
  {
   "cell_type": "code",
   "execution_count": null,
   "metadata": {},
   "outputs": [],
   "source": [
    "pause"
   ]
  },
  {
   "cell_type": "markdown",
   "metadata": {},
   "source": [
    "### Notes on Making New Extracted Tweets Match Russian Troll Tweet Database\n",
    "\n",
    "- Columns to be renamed/reformatted to match troll tweets:\n",
    "    - `created_at` -> `date_published`-> index\n",
    "    - `full_text` -> `content`\n",
    "    - `df['user']`\n",
    "        - `.['followers_count']` -> `'following'`\n",
    "        - `.['followers_count']` -> `'followers'`\n",
    "\n",
    "- Columns missing from original troll tweets (to be removed).\n",
    "    -coordinates, favorited, favorite_count, display_text_range, withheld_in_countries    "
   ]
  },
  {
   "cell_type": "code",
   "execution_count": null,
   "metadata": {},
   "outputs": [],
   "source": [
    "df_ats['lang'][1]"
   ]
  },
  {
   "cell_type": "code",
   "execution_count": null,
   "metadata": {},
   "outputs": [],
   "source": [
    "df_ats.user[10]"
   ]
  },
  {
   "cell_type": "code",
   "execution_count": null,
   "metadata": {},
   "outputs": [],
   "source": [
    "df_ats.entities[0]"
   ]
  },
  {
   "cell_type": "code",
   "execution_count": null,
   "metadata": {},
   "outputs": [],
   "source": [
    "print(df_ats['user'][1]['location'])"
   ]
  },
  {
   "cell_type": "code",
   "execution_count": null,
   "metadata": {},
   "outputs": [],
   "source": [
    "print(df_ats['user'][0]['id'])\n",
    "print(df_ats['user'][0]['screen_name'])\n",
    "print(df_ats['user'][0]['followers_count'])\n",
    "print(df_ats['user'][0]['following'])"
   ]
  },
  {
   "cell_type": "code",
   "execution_count": null,
   "metadata": {},
   "outputs": [],
   "source": [
    "df_test=pd.DataFrame()"
   ]
  },
  {
   "cell_type": "code",
   "execution_count": null,
   "metadata": {},
   "outputs": [],
   "source": [
    "idx_row = df_ats.index[2]\n",
    "curr_row = df_ats.loc[df_ats.index==idx_row]\n",
    "curr_author = curr_row['user']\n",
    "curr_author"
   ]
  },
  {
   "cell_type": "code",
   "execution_count": null,
   "metadata": {},
   "outputs": [],
   "source": [
    "df_columns_list =['external_author_id', 'author', 'content', 'region', 'following', 'followers', 'updates', 'post_type',\n",
    " 'account_type', 'retweet', 'account_category']\n",
    "df_export = pd.DataFrame(columns=df_columns_list)"
   ]
  },
  {
   "cell_type": "code",
   "execution_count": null,
   "metadata": {},
   "outputs": [],
   "source": [
    "df_export.loc[0,'external_author_id']='test'\n",
    "df_export"
   ]
  },
  {
   "cell_type": "code",
   "execution_count": null,
   "metadata": {},
   "outputs": [],
   "source": [
    "curr_author[0]"
   ]
  },
  {
   "cell_type": "code",
   "execution_count": null,
   "metadata": {},
   "outputs": [],
   "source": [
    "full_text=curr_row['ret']\n",
    "full_text"
   ]
  },
  {
   "cell_type": "code",
   "execution_count": null,
   "metadata": {},
   "outputs": [],
   "source": [
    "curr_row['user']\n",
    "row"
   ]
  },
  {
   "cell_type": "code",
   "execution_count": null,
   "metadata": {},
   "outputs": [],
   "source": [
    "df_export=pd.DataFrame()\n",
    "df_columns_list =['external_author_id', 'author', 'content', 'region', 'following', 'followers', 'updates', 'post_type',\n",
    " 'account_type', 'retweet', 'account_category']\n",
    "\n",
    "df_export = pd.DataFrame(columns=df_columns_list)\n",
    "\n",
    "for row in df_ats.index:\n",
    "    \n",
    "    curr_row = df_ats.loc[df_ats.index==row]\n",
    "    curr_author = curr_row['user'][row]\n",
    "    external_author_id = curr_author['id']\n",
    "    author =  curr_author['screen_name']\n",
    "    following = curr_author['following']\n",
    "    followers = curr_author['followers_count']\n",
    "    region = curr_author['location']\n",
    "    full_text = curr_row['full_text'][row]\n",
    "    \n",
    "    df_export.loc[row, 'external_author_id'] = external_author_id\n",
    "    df_export.loc[row, 'author'] = author\n",
    "    df_export.loc[row, 'content'] = full_text\n",
    "    df_export.loc[row, 'region'] = region\n",
    "    df_export.loc[row, 'following'] = following\n",
    "    df_export.loc[row, 'followers'] = followers\n",
    "    df_export.loc[row, 'updates'] = np.nan\n",
    "    df_export.loc[row, 'post_type'] = 'control'\n",
    "    df_export.loc[row, 'account_type'] = 'control'\n",
    "    df_export.loc[row, 'retweet'] = curr_row['retweeted'][row]\n",
    "    df_export.loc[row, 'account_category'] = 'control' \n",
    "    df_export.loc[row, 'publish_date'] = curr_row['created_at'][row]\n",
    "    df_export.loc[row, 'language'] = curr_row['lang'][row]"
   ]
  },
  {
   "cell_type": "code",
   "execution_count": null,
   "metadata": {},
   "outputs": [],
   "source": [
    "df_export.head()"
   ]
  },
  {
   "cell_type": "code",
   "execution_count": null,
   "metadata": {},
   "outputs": [],
   "source": [
    "df_export.to_csv('newly_extracted_control_tweets.csv')"
   ]
  }
 ],
 "metadata": {
  "kernelspec": {
   "display_name": "Python (dojo-env)",
   "language": "python",
   "name": "dojo-env"
  },
  "language_info": {
   "codemirror_mode": {
    "name": "ipython",
    "version": 3
   },
   "file_extension": ".py",
   "mimetype": "text/x-python",
   "name": "python",
   "nbconvert_exporter": "python",
   "pygments_lexer": "ipython3",
   "version": "3.10.10"
  },
  "toc": {
   "base_numbering": 1,
   "nav_menu": {},
   "number_sections": false,
   "sideBar": true,
   "skip_h1_title": false,
   "title_cell": "Table of Contents",
   "title_sidebar": "Contents",
   "toc_cell": false,
   "toc_position": {},
   "toc_section_display": true,
   "toc_window_display": true
  }
 },
 "nbformat": 4,
 "nbformat_minor": 4
}
