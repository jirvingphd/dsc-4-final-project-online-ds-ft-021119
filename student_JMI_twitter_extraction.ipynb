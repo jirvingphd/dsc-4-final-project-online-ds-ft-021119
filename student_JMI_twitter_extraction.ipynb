{
 "cells": [
  {
   "cell_type": "markdown",
   "metadata": {},
   "source": [
    "# 3 - Million Russian Troll Tweets - Part I\n",
    "- James M Irving, Ph.D.\n",
    "- Mod 4 Project\n",
    "- Flatiron Full Time Data Science Bootcamp - 02/2019 Cohort\n",
    "\n",
    "## GOAL: Using Twitter API to Extract Control Tweets\n",
    "\n",
    "- *IF I can get a control dataset* of non-Troll tweets from same time period with similar hashtags:*\n",
    "    - Use NLP to predict of a tweet is from an authentic user or a Russian troll.\n",
    "- *If no control tweets to compare to*\n",
    "    - Use NLP to predict how many retweets a Troll tweet will get.\n",
    "    - Consider both raw # of retweets, as well as a normalized # of retweets/# of followers.\n",
    "        - The latter would give better indication of language's effect on propagation. \n",
    "        "
   ]
  },
  {
   "cell_type": "markdown",
   "metadata": {},
   "source": [
    "# INSPECTING TROLL TWEETS ~~FROM KAGGLE~~ From FiveThirtyEight\n"
   ]
  },
  {
   "cell_type": "markdown",
   "metadata": {},
   "source": [
    "- GitHub Repository with FiveThirtyEight's version of russian troll tweets: https://github.com/fivethirtyeight/russian-troll-tweets/"
   ]
  },
  {
   "cell_type": "code",
   "execution_count": 1,
   "metadata": {
    "execution": {
     "iopub.execute_input": "2024-05-22T00:16:30.700101Z",
     "iopub.status.busy": "2024-05-22T00:16:30.700012Z",
     "iopub.status.idle": "2024-05-22T00:16:35.077202Z",
     "shell.execute_reply": "2024-05-22T00:16:35.076909Z",
     "shell.execute_reply.started": "2024-05-22T00:16:30.700090Z"
    },
    "scrolled": true
   },
   "outputs": [
    {
     "name": "stdout",
     "output_type": "stream",
     "text": [
      "dojo_ds v1.1.8 loaded.\n"
     ]
    },
    {
     "data": {
      "text/html": [
       "<style type=\"text/css\">\n",
       "#T_d153e_row0_col0, #T_d153e_row0_col2, #T_d153e_row0_col3, #T_d153e_row1_col0, #T_d153e_row1_col2, #T_d153e_row1_col3, #T_d153e_row2_col0, #T_d153e_row2_col2, #T_d153e_row2_col3, #T_d153e_row3_col0, #T_d153e_row3_col2, #T_d153e_row3_col3, #T_d153e_row4_col0, #T_d153e_row4_col2, #T_d153e_row4_col3, #T_d153e_row5_col0, #T_d153e_row5_col2, #T_d153e_row5_col3, #T_d153e_row6_col0, #T_d153e_row6_col2, #T_d153e_row6_col3 {\n",
       "  text-align: left;\n",
       "}\n",
       "#T_d153e_row0_col1, #T_d153e_row0_col4, #T_d153e_row1_col1, #T_d153e_row1_col4, #T_d153e_row2_col1, #T_d153e_row2_col4, #T_d153e_row3_col1, #T_d153e_row3_col4, #T_d153e_row4_col1, #T_d153e_row4_col4, #T_d153e_row5_col1, #T_d153e_row5_col4, #T_d153e_row6_col1, #T_d153e_row6_col4 {\n",
       "  text-align: left;\n",
       "  text-align: center;\n",
       "}\n",
       "</style>\n",
       "<table id=\"T_d153e\">\n",
       "  <caption>Loaded Packages & Info</caption>\n",
       "  <thead>\n",
       "    <tr>\n",
       "      <th id=\"T_d153e_level0_col0\" class=\"col_heading level0 col0\" >Package</th>\n",
       "      <th id=\"T_d153e_level0_col1\" class=\"col_heading level0 col1\" >Handle</th>\n",
       "      <th id=\"T_d153e_level0_col2\" class=\"col_heading level0 col2\" >Version</th>\n",
       "      <th id=\"T_d153e_level0_col3\" class=\"col_heading level0 col3\" >Documentation</th>\n",
       "      <th id=\"T_d153e_level0_col4\" class=\"col_heading level0 col4\" >Imported</th>\n",
       "    </tr>\n",
       "  </thead>\n",
       "  <tbody>\n",
       "    <tr>\n",
       "      <td id=\"T_d153e_row0_col0\" class=\"data row0 col0\" >dojo_ds</td>\n",
       "      <td id=\"T_d153e_row0_col1\" class=\"data row0 col1\" >ds</td>\n",
       "      <td id=\"T_d153e_row0_col2\" class=\"data row0 col2\" >1.1.8</td>\n",
       "      <td id=\"T_d153e_row0_col3\" class=\"data row0 col3\" ><a href=\"https://fs-ds.readthedocs.io/en/latest/\">https://fs-ds.readthedocs.io/en/latest/</a></td>\n",
       "      <td id=\"T_d153e_row0_col4\" class=\"data row0 col4\" >Y</td>\n",
       "    </tr>\n",
       "    <tr>\n",
       "      <td id=\"T_d153e_row1_col0\" class=\"data row1 col0\" >matplotlib</td>\n",
       "      <td id=\"T_d153e_row1_col1\" class=\"data row1 col1\" >mpl</td>\n",
       "      <td id=\"T_d153e_row1_col2\" class=\"data row1 col2\" >3.8.4</td>\n",
       "      <td id=\"T_d153e_row1_col3\" class=\"data row1 col3\" ><a href=\"https://matplotlib.org/stable/api/index.html\">https://matplotlib.org/stable/api/index.html</a></td>\n",
       "      <td id=\"T_d153e_row1_col4\" class=\"data row1 col4\" >Y</td>\n",
       "    </tr>\n",
       "    <tr>\n",
       "      <td id=\"T_d153e_row2_col0\" class=\"data row2 col0\" >matplotlib.pyplot</td>\n",
       "      <td id=\"T_d153e_row2_col1\" class=\"data row2 col1\" >plt</td>\n",
       "      <td id=\"T_d153e_row2_col2\" class=\"data row2 col2\" ></td>\n",
       "      <td id=\"T_d153e_row2_col3\" class=\"data row2 col3\" ><a href=\"https://matplotlib.org/stable/api/_as_gen/matplotlib.pyplot.html#module-matplotlib.pyplot\">https://matplotlib.org/stable/api/_as_gen/matplotlib.pyplot.html#module-matplotlib.pyplot</a></td>\n",
       "      <td id=\"T_d153e_row2_col4\" class=\"data row2 col4\" >Y</td>\n",
       "    </tr>\n",
       "    <tr>\n",
       "      <td id=\"T_d153e_row3_col0\" class=\"data row3 col0\" >numpy</td>\n",
       "      <td id=\"T_d153e_row3_col1\" class=\"data row3 col1\" >np</td>\n",
       "      <td id=\"T_d153e_row3_col2\" class=\"data row3 col2\" >1.26.4</td>\n",
       "      <td id=\"T_d153e_row3_col3\" class=\"data row3 col3\" ><a href=\"https://numpy.org/doc/stable/reference/\">https://numpy.org/doc/stable/reference/</a></td>\n",
       "      <td id=\"T_d153e_row3_col4\" class=\"data row3 col4\" >Y</td>\n",
       "    </tr>\n",
       "    <tr>\n",
       "      <td id=\"T_d153e_row4_col0\" class=\"data row4 col0\" >pandas</td>\n",
       "      <td id=\"T_d153e_row4_col1\" class=\"data row4 col1\" >pd</td>\n",
       "      <td id=\"T_d153e_row4_col2\" class=\"data row4 col2\" >2.2.2</td>\n",
       "      <td id=\"T_d153e_row4_col3\" class=\"data row4 col3\" ><a href=\"https://pandas.pydata.org/docs/\">https://pandas.pydata.org/docs/</a></td>\n",
       "      <td id=\"T_d153e_row4_col4\" class=\"data row4 col4\" >Y</td>\n",
       "    </tr>\n",
       "    <tr>\n",
       "      <td id=\"T_d153e_row5_col0\" class=\"data row5 col0\" >seaborn</td>\n",
       "      <td id=\"T_d153e_row5_col1\" class=\"data row5 col1\" >sns</td>\n",
       "      <td id=\"T_d153e_row5_col2\" class=\"data row5 col2\" >0.13.2</td>\n",
       "      <td id=\"T_d153e_row5_col3\" class=\"data row5 col3\" ><a href=\"https://seaborn.pydata.org/api.html\">https://seaborn.pydata.org/api.html</a></td>\n",
       "      <td id=\"T_d153e_row5_col4\" class=\"data row5 col4\" >Y</td>\n",
       "    </tr>\n",
       "    <tr>\n",
       "      <td id=\"T_d153e_row6_col0\" class=\"data row6 col0\" >sklearn</td>\n",
       "      <td id=\"T_d153e_row6_col1\" class=\"data row6 col1\" ></td>\n",
       "      <td id=\"T_d153e_row6_col2\" class=\"data row6 col2\" >1.4.1.post1</td>\n",
       "      <td id=\"T_d153e_row6_col3\" class=\"data row6 col3\" ><a href=\"\"></a></td>\n",
       "      <td id=\"T_d153e_row6_col4\" class=\"data row6 col4\" >N</td>\n",
       "    </tr>\n",
       "  </tbody>\n",
       "</table>\n"
      ],
      "text/plain": [
       "<pandas.io.formats.style.Styler at 0x30803a020>"
      ]
     },
     "metadata": {},
     "output_type": "display_data"
    }
   ],
   "source": [
    "# import bs_ds as bs\n",
    "# from bs_ds.imports import *\n",
    "\n",
    "!pip install -U dojo_ds #-q\n",
    "import dojo_ds as ds\n",
    "from dojo_ds.imports import *"
   ]
  },
  {
   "cell_type": "code",
   "execution_count": 2,
   "metadata": {
    "execution": {
     "iopub.execute_input": "2024-05-22T00:16:35.078691Z",
     "iopub.status.busy": "2024-05-22T00:16:35.078541Z",
     "iopub.status.idle": "2024-05-22T00:16:35.080448Z",
     "shell.execute_reply": "2024-05-22T00:16:35.080182Z",
     "shell.execute_reply.started": "2024-05-22T00:16:35.078681Z"
    }
   },
   "outputs": [],
   "source": [
    "pd.set_option('display.max_columns', 50)"
   ]
  },
  {
   "cell_type": "code",
   "execution_count": 3,
   "metadata": {
    "execution": {
     "iopub.execute_input": "2024-05-22T00:16:35.081193Z",
     "iopub.status.busy": "2024-05-22T00:16:35.080983Z",
     "iopub.status.idle": "2024-05-22T00:16:35.086996Z",
     "shell.execute_reply": "2024-05-22T00:16:35.086698Z",
     "shell.execute_reply.started": "2024-05-22T00:16:35.081181Z"
    }
   },
   "outputs": [
    {
     "data": {
      "text/plain": [
       "['russian-troll-tweets/IRAhandle_tweets_1.csv',\n",
       " 'russian-troll-tweets/IRAhandle_tweets_10.csv',\n",
       " 'russian-troll-tweets/IRAhandle_tweets_11.csv',\n",
       " 'russian-troll-tweets/IRAhandle_tweets_12.csv',\n",
       " 'russian-troll-tweets/IRAhandle_tweets_13.csv',\n",
       " 'russian-troll-tweets/IRAhandle_tweets_2.csv',\n",
       " 'russian-troll-tweets/IRAhandle_tweets_3.csv',\n",
       " 'russian-troll-tweets/IRAhandle_tweets_4.csv',\n",
       " 'russian-troll-tweets/IRAhandle_tweets_5.csv',\n",
       " 'russian-troll-tweets/IRAhandle_tweets_6.csv',\n",
       " 'russian-troll-tweets/IRAhandle_tweets_7.csv',\n",
       " 'russian-troll-tweets/IRAhandle_tweets_8.csv',\n",
       " 'russian-troll-tweets/IRAhandle_tweets_9.csv']"
      ]
     },
     "execution_count": 3,
     "metadata": {},
     "output_type": "execute_result"
    }
   ],
   "source": [
    "import os, glob\n",
    "root_dir = 'russian-troll-tweets/'\n",
    "# os.listdir('russian-troll-tweets/')\n",
    "\n",
    "filelist = sorted(glob.glob(root_dir+'*.csv'))\n",
    "# filelist = [os.path.join(root_dir,file) for file in os.listdir(root_dir) if file.endswith('.csv')]\n",
    "filelist"
   ]
  },
  {
   "cell_type": "code",
   "execution_count": 4,
   "metadata": {
    "execution": {
     "iopub.execute_input": "2024-05-22T00:16:35.087698Z",
     "iopub.status.busy": "2024-05-22T00:16:35.087584Z",
     "iopub.status.idle": "2024-05-22T00:16:51.211231Z",
     "shell.execute_reply": "2024-05-22T00:16:51.210879Z",
     "shell.execute_reply.started": "2024-05-22T00:16:35.087686Z"
    }
   },
   "outputs": [
    {
     "name": "stdout",
     "output_type": "stream",
     "text": [
      "<class 'pandas.core.frame.DataFrame'>\n",
      "Index: 2946207 entries, 0 to 233539\n",
      "Data columns (total 21 columns):\n",
      " #   Column              Dtype \n",
      "---  ------              ----- \n",
      " 0   external_author_id  object\n",
      " 1   author              object\n",
      " 2   content             object\n",
      " 3   region              object\n",
      " 4   language            object\n",
      " 5   publish_date        object\n",
      " 6   harvested_date      object\n",
      " 7   following           int64 \n",
      " 8   followers           int64 \n",
      " 9   updates             int64 \n",
      " 10  post_type           object\n",
      " 11  account_type        object\n",
      " 12  retweet             int64 \n",
      " 13  account_category    object\n",
      " 14  new_june_2018       int64 \n",
      " 15  alt_external_id     object\n",
      " 16  tweet_id            int64 \n",
      " 17  article_url         object\n",
      " 18  tco1_step1          object\n",
      " 19  tco2_step1          object\n",
      " 20  tco3_step1          object\n",
      "dtypes: int64(6), object(15)\n",
      "memory usage: 494.5+ MB\n"
     ]
    }
   ],
   "source": [
    "# Vertically concatenate \n",
    "df_list = []\n",
    "for file in filelist:\n",
    "    df_new = pd.read_csv(file, low_memory=False)\n",
    "    df_list.append(df_new)\n",
    "\n",
    "df = pd.concat(df_list, axis=0)\n",
    "df.info()"
   ]
  },
  {
   "cell_type": "code",
   "execution_count": 5,
   "metadata": {
    "execution": {
     "iopub.execute_input": "2024-05-22T00:16:51.211945Z",
     "iopub.status.busy": "2024-05-22T00:16:51.211813Z",
     "iopub.status.idle": "2024-05-22T00:16:51.221870Z",
     "shell.execute_reply": "2024-05-22T00:16:51.221465Z",
     "shell.execute_reply.started": "2024-05-22T00:16:51.211934Z"
    },
    "scrolled": true
   },
   "outputs": [
    {
     "data": {
      "text/html": [
       "<div>\n",
       "<style scoped>\n",
       "    .dataframe tbody tr th:only-of-type {\n",
       "        vertical-align: middle;\n",
       "    }\n",
       "\n",
       "    .dataframe tbody tr th {\n",
       "        vertical-align: top;\n",
       "    }\n",
       "\n",
       "    .dataframe thead th {\n",
       "        text-align: right;\n",
       "    }\n",
       "</style>\n",
       "<table border=\"1\" class=\"dataframe\">\n",
       "  <thead>\n",
       "    <tr style=\"text-align: right;\">\n",
       "      <th></th>\n",
       "      <th>external_author_id</th>\n",
       "      <th>author</th>\n",
       "      <th>content</th>\n",
       "      <th>region</th>\n",
       "      <th>language</th>\n",
       "      <th>publish_date</th>\n",
       "      <th>harvested_date</th>\n",
       "      <th>following</th>\n",
       "      <th>followers</th>\n",
       "      <th>updates</th>\n",
       "      <th>post_type</th>\n",
       "      <th>account_type</th>\n",
       "      <th>retweet</th>\n",
       "      <th>account_category</th>\n",
       "      <th>new_june_2018</th>\n",
       "      <th>alt_external_id</th>\n",
       "      <th>tweet_id</th>\n",
       "      <th>article_url</th>\n",
       "      <th>tco1_step1</th>\n",
       "      <th>tco2_step1</th>\n",
       "      <th>tco3_step1</th>\n",
       "    </tr>\n",
       "  </thead>\n",
       "  <tbody>\n",
       "    <tr>\n",
       "      <th>0</th>\n",
       "      <td>906000000000000000</td>\n",
       "      <td>10_GOP</td>\n",
       "      <td>\"We have a sitting Democrat US Senator on tria...</td>\n",
       "      <td>Unknown</td>\n",
       "      <td>English</td>\n",
       "      <td>10/1/2017 19:58</td>\n",
       "      <td>10/1/2017 19:59</td>\n",
       "      <td>1052</td>\n",
       "      <td>9636</td>\n",
       "      <td>253</td>\n",
       "      <td>NaN</td>\n",
       "      <td>Right</td>\n",
       "      <td>0</td>\n",
       "      <td>RightTroll</td>\n",
       "      <td>0</td>\n",
       "      <td>905874659358453760</td>\n",
       "      <td>914580356430536707</td>\n",
       "      <td>http://twitter.com/905874659358453760/statuses...</td>\n",
       "      <td>https://twitter.com/10_gop/status/914580356430...</td>\n",
       "      <td>NaN</td>\n",
       "      <td>NaN</td>\n",
       "    </tr>\n",
       "    <tr>\n",
       "      <th>1</th>\n",
       "      <td>906000000000000000</td>\n",
       "      <td>10_GOP</td>\n",
       "      <td>Marshawn Lynch arrives to game in anti-Trump s...</td>\n",
       "      <td>Unknown</td>\n",
       "      <td>English</td>\n",
       "      <td>10/1/2017 22:43</td>\n",
       "      <td>10/1/2017 22:43</td>\n",
       "      <td>1054</td>\n",
       "      <td>9637</td>\n",
       "      <td>254</td>\n",
       "      <td>NaN</td>\n",
       "      <td>Right</td>\n",
       "      <td>0</td>\n",
       "      <td>RightTroll</td>\n",
       "      <td>0</td>\n",
       "      <td>905874659358453760</td>\n",
       "      <td>914621840496189440</td>\n",
       "      <td>http://twitter.com/905874659358453760/statuses...</td>\n",
       "      <td>https://twitter.com/damienwoody/status/9145685...</td>\n",
       "      <td>NaN</td>\n",
       "      <td>NaN</td>\n",
       "    </tr>\n",
       "  </tbody>\n",
       "</table>\n",
       "</div>"
      ],
      "text/plain": [
       "   external_author_id  author  \\\n",
       "0  906000000000000000  10_GOP   \n",
       "1  906000000000000000  10_GOP   \n",
       "\n",
       "                                             content   region language  \\\n",
       "0  \"We have a sitting Democrat US Senator on tria...  Unknown  English   \n",
       "1  Marshawn Lynch arrives to game in anti-Trump s...  Unknown  English   \n",
       "\n",
       "      publish_date   harvested_date  following  followers  updates post_type  \\\n",
       "0  10/1/2017 19:58  10/1/2017 19:59       1052       9636      253       NaN   \n",
       "1  10/1/2017 22:43  10/1/2017 22:43       1054       9637      254       NaN   \n",
       "\n",
       "  account_type  retweet account_category  new_june_2018     alt_external_id  \\\n",
       "0        Right        0       RightTroll              0  905874659358453760   \n",
       "1        Right        0       RightTroll              0  905874659358453760   \n",
       "\n",
       "             tweet_id                                        article_url  \\\n",
       "0  914580356430536707  http://twitter.com/905874659358453760/statuses...   \n",
       "1  914621840496189440  http://twitter.com/905874659358453760/statuses...   \n",
       "\n",
       "                                          tco1_step1 tco2_step1 tco3_step1  \n",
       "0  https://twitter.com/10_gop/status/914580356430...        NaN        NaN  \n",
       "1  https://twitter.com/damienwoody/status/9145685...        NaN        NaN  "
      ]
     },
     "execution_count": 5,
     "metadata": {},
     "output_type": "execute_result"
    }
   ],
   "source": [
    "df.head(2)"
   ]
  },
  {
   "cell_type": "markdown",
   "metadata": {},
   "source": [
    "## Dataset Features:\n",
    "- Kaggle Dataset published by FiveThirtyEight\n",
    "    - https://www.kaggle.com/fivethirtyeight/russian-troll-tweets/downloads/russian-troll-tweets.zip/2\n",
    "<br>    \n",
    "- Data is split into 9 .csv files\n",
    "    - 'IRAhandle_tweets_1.csv' to 9\n",
    "\n",
    "- **Variables:**\n",
    "    - ~~`external_author_id` | An author account ID from Twitter~~\n",
    "    - `author` | The handle sending the tweet\n",
    "    - `content` | The text of the tweet\n",
    "    - `region` | A region classification, as [determined by Social Studio](https://help.salesforce.com/articleView?   id=000199367&type=1)\n",
    "    - `language` | The language of the tweet\n",
    "    - `publish_date` | The date and time the tweet was sent\n",
    "    - ~~`harvested_date` | The date and time the tweet was collected by Social Studio~~\n",
    "    - `following` | The number of accounts the handle was following at the time of the tweet\n",
    "    - `followers` | The number of followers the handle had at the time of the tweet\n",
    "    - `updates` | The number of “update actions” on the account that authored the tweet, including tweets, retweets and likes\n",
    "    - `post_type` | Indicates if the tweet was a retweet or a quote-tweet *[Whats a quote-tweet?]*\n",
    "    - `account_type` | Specific account theme, as coded by Linvill and Warren\n",
    "    - `retweet` | A binary indicator of whether or not the tweet is a retweet [?]\n",
    "    - `account_category` | General account theme, as coded by Linvill and Warren\n",
    "    - `new_june_2018` | A binary indicator of whether the handle was newly listed in June 2018\n",
    "    \n",
    "### **Classification of account_type**\n",
    "Taken from: [rcmediafreedom.eu summary](https://www.rcmediafreedom.eu/Publications/Academic-sources/Troll-Factories-The-Internet-Research-Agency-and-State-Sponsored-Agenda-Building)\n",
    "\n",
    ">- **They identified five categories of IRA-associated Twitter accounts, each with unique patterns of behaviors:**\n",
    "    - **Right Troll**, spreading nativist and right-leaning populist messages. It supported the candidacy and Presidency of Donald Trump and denigrated the Democratic Party. It often sent divisive messages about mainstream and moderate Republicans.\n",
    "    - **Left Troll**, sending socially liberal messages and discussing gender, sexual, religious, and -especially- racial identity. Many tweets seemed intentionally divisive, attacking mainstream Democratic politicians, particularly Hillary Clinton, while supporting Bernie Sanders prior to the election.\n",
    "    - **News Feed**, overwhelmingly presenting themselves as U.S. local news aggregators, linking to legitimate regional news sources and tweeting about issues of local interest.\n",
    "    - **Hashtag Gamer**, dedicated almost exclusively to playing hashtag games.\n",
    "    - **Fearmonger**: spreading a hoax about poisoned turkeys near the 2015 Thanksgiving holiday.\n",
    "\n",
    ">The different types of account were used differently and their efforts were conducted systematically, with different allocation when faced with different political circumstances or shifting goals. E.g.: there was a spike of activity by right and left troll accounts before the publication of John Podesta's emails by WikiLeaks. According to the authors, this activity can be characterised as “industrialized political warfare”.\n",
    "\n",
    "___"
   ]
  },
  {
   "cell_type": "markdown",
   "metadata": {},
   "source": [
    "# SCRUB / EDA"
   ]
  },
  {
   "cell_type": "code",
   "execution_count": 6,
   "metadata": {
    "execution": {
     "iopub.execute_input": "2024-05-22T00:16:51.222866Z",
     "iopub.status.busy": "2024-05-22T00:16:51.222712Z",
     "iopub.status.idle": "2024-05-22T00:16:51.224708Z",
     "shell.execute_reply": "2024-05-22T00:16:51.224376Z",
     "shell.execute_reply.started": "2024-05-22T00:16:51.222855Z"
    }
   },
   "outputs": [],
   "source": [
    "# from pandas_profiling import ProfileReport\n",
    "# ProfileReport(df)"
   ]
  },
  {
   "cell_type": "markdown",
   "metadata": {},
   "source": [
    "## Observations from Inspection / Pandas_Profiling ProfileReport\n",
    "\n",
    "- **Language to Analyze is in `Content`:**\n",
    "    - Actual tweet contents. \n",
    " \n",
    "- **Classification/Analysis Thoughts:**\n",
    "    - **Variables should be considered in 2 ways:**\n",
    "        - First, the tweet contents. \n",
    "            - Use NLP to engineer features to feed into deep learning.\n",
    "                - Sentiment analysis, named-entity frequency/types, most-similar words. \n",
    "        - Second, the tweet metadata. \n",
    "        \n",
    "### Thoughts on specific features:\n",
    "- `language`\n",
    "    - There are 56 unique languages. \n",
    "    - 2.4 million are English, 670 K are in Russian, etc.\n",
    "\n",
    "### Questions to answer:\n",
    "- [x] Why are so many post_types missing? (55%?)\n",
    "    - Because they were added 'new_june_2018' and were not classified by the original scientists. \n",
    "- [x] How many tweets were written by a russian troll account?\n",
    "    - After removing retweets, there are 1,272,848 original tweets. \n",
    "    \n",
    "### Scrubing to Perform\n",
    "- **Recast Columns:**\n",
    "    - [ ] `publish_date` to datetime. \n",
    "- **Columns to Discard:**\n",
    "    - [ ] `harvested_date` (we care about publish_date, if anything, time-wise)\n",
    "    - [ ] `language`: remove all non-english tweets and drop column\n",
    "    - [ ] `new_june_2018`"
   ]
  },
  {
   "cell_type": "markdown",
   "metadata": {},
   "source": [
    "### Reducing Targeted Tweets to Language=English and Retweet=0 Only\n",
    "\n",
    "- Since the goal is to use NLP to detect which tweets came from Russian trolls, we will only analyze the tweets that were originally created by a known Russian troll account"
   ]
  },
  {
   "cell_type": "code",
   "execution_count": 7,
   "metadata": {
    "execution": {
     "iopub.execute_input": "2024-05-22T00:16:51.225314Z",
     "iopub.status.busy": "2024-05-22T00:16:51.225213Z",
     "iopub.status.idle": "2024-05-22T00:16:52.093567Z",
     "shell.execute_reply": "2024-05-22T00:16:52.092844Z",
     "shell.execute_reply.started": "2024-05-22T00:16:51.225305Z"
    }
   },
   "outputs": [
    {
     "data": {
      "text/plain": [
       "0.19708526929709963"
      ]
     },
     "execution_count": 7,
     "metadata": {},
     "output_type": "execute_result"
    }
   ],
   "source": [
    "# Identify duplicate tweets\n",
    "is_duplicate = df.duplicated(subset=['content'])\n",
    "is_duplicate.sum() / len(is_duplicate)"
   ]
  },
  {
   "cell_type": "code",
   "execution_count": 8,
   "metadata": {
    "execution": {
     "iopub.execute_input": "2024-05-22T00:16:52.094292Z",
     "iopub.status.busy": "2024-05-22T00:16:52.094122Z",
     "iopub.status.idle": "2024-05-22T00:16:52.209512Z",
     "shell.execute_reply": "2024-05-22T00:16:52.208935Z",
     "shell.execute_reply.started": "2024-05-22T00:16:52.094278Z"
    }
   },
   "outputs": [
    {
     "data": {
      "text/plain": [
       "0.7185058619438485"
      ]
     },
     "execution_count": 8,
     "metadata": {},
     "output_type": "execute_result"
    }
   ],
   "source": [
    "# Filter for english tweets\n",
    "is_english = df['language'] == \"English\"\n",
    "is_english.sum() / len(is_english)"
   ]
  },
  {
   "cell_type": "code",
   "execution_count": 9,
   "metadata": {
    "execution": {
     "iopub.execute_input": "2024-05-22T00:16:52.210210Z",
     "iopub.status.busy": "2024-05-22T00:16:52.210078Z",
     "iopub.status.idle": "2024-05-22T00:16:52.216743Z",
     "shell.execute_reply": "2024-05-22T00:16:52.215762Z",
     "shell.execute_reply.started": "2024-05-22T00:16:52.210199Z"
    }
   },
   "outputs": [
    {
     "data": {
      "text/plain": [
       "0.44042458659557865"
      ]
     },
     "execution_count": 9,
     "metadata": {},
     "output_type": "execute_result"
    }
   ],
   "source": [
    "# Checking distribution of retweet column\n",
    "is_retweet = df['retweet'] == 1\n",
    "# df['retweet'].value_counts(normalize=True, dropna=False)\n",
    "is_retweet.sum() / len(is_retweet)"
   ]
  },
  {
   "cell_type": "code",
   "execution_count": 10,
   "metadata": {
    "execution": {
     "iopub.execute_input": "2024-05-22T00:16:52.217423Z",
     "iopub.status.busy": "2024-05-22T00:16:52.217297Z",
     "iopub.status.idle": "2024-05-22T00:16:52.222940Z",
     "shell.execute_reply": "2024-05-22T00:16:52.222617Z",
     "shell.execute_reply.started": "2024-05-22T00:16:52.217411Z"
    }
   },
   "outputs": [
    {
     "data": {
      "text/plain": [
       "0.4291385500068393"
      ]
     },
     "execution_count": 10,
     "metadata": {},
     "output_type": "execute_result"
    }
   ],
   "source": [
    "## Combine filters to remove unwanted rows \n",
    "is_english_original = is_english & ~is_retweet\n",
    "is_english_original.sum() / len(is_english_original)"
   ]
  },
  {
   "cell_type": "code",
   "execution_count": 11,
   "metadata": {
    "execution": {
     "iopub.execute_input": "2024-05-22T00:16:52.225839Z",
     "iopub.status.busy": "2024-05-22T00:16:52.225692Z",
     "iopub.status.idle": "2024-05-22T00:16:52.398103Z",
     "shell.execute_reply": "2024-05-22T00:16:52.397738Z",
     "shell.execute_reply.started": "2024-05-22T00:16:52.225826Z"
    }
   },
   "outputs": [
    {
     "data": {
      "text/html": [
       "<div>\n",
       "<style scoped>\n",
       "    .dataframe tbody tr th:only-of-type {\n",
       "        vertical-align: middle;\n",
       "    }\n",
       "\n",
       "    .dataframe tbody tr th {\n",
       "        vertical-align: top;\n",
       "    }\n",
       "\n",
       "    .dataframe thead th {\n",
       "        text-align: right;\n",
       "    }\n",
       "</style>\n",
       "<table border=\"1\" class=\"dataframe\">\n",
       "  <thead>\n",
       "    <tr style=\"text-align: right;\">\n",
       "      <th></th>\n",
       "      <th>external_author_id</th>\n",
       "      <th>author</th>\n",
       "      <th>content</th>\n",
       "      <th>region</th>\n",
       "      <th>language</th>\n",
       "      <th>publish_date</th>\n",
       "      <th>harvested_date</th>\n",
       "      <th>following</th>\n",
       "      <th>followers</th>\n",
       "      <th>updates</th>\n",
       "      <th>post_type</th>\n",
       "      <th>account_type</th>\n",
       "      <th>retweet</th>\n",
       "      <th>account_category</th>\n",
       "      <th>new_june_2018</th>\n",
       "      <th>alt_external_id</th>\n",
       "      <th>tweet_id</th>\n",
       "      <th>article_url</th>\n",
       "      <th>tco1_step1</th>\n",
       "      <th>tco2_step1</th>\n",
       "      <th>tco3_step1</th>\n",
       "    </tr>\n",
       "  </thead>\n",
       "  <tbody>\n",
       "    <tr>\n",
       "      <th>0</th>\n",
       "      <td>906000000000000000</td>\n",
       "      <td>10_GOP</td>\n",
       "      <td>\"We have a sitting Democrat US Senator on tria...</td>\n",
       "      <td>Unknown</td>\n",
       "      <td>English</td>\n",
       "      <td>10/1/2017 19:58</td>\n",
       "      <td>10/1/2017 19:59</td>\n",
       "      <td>1052</td>\n",
       "      <td>9636</td>\n",
       "      <td>253</td>\n",
       "      <td>NaN</td>\n",
       "      <td>Right</td>\n",
       "      <td>0</td>\n",
       "      <td>RightTroll</td>\n",
       "      <td>0</td>\n",
       "      <td>905874659358453760</td>\n",
       "      <td>914580356430536707</td>\n",
       "      <td>http://twitter.com/905874659358453760/statuses...</td>\n",
       "      <td>https://twitter.com/10_gop/status/914580356430...</td>\n",
       "      <td>NaN</td>\n",
       "      <td>NaN</td>\n",
       "    </tr>\n",
       "    <tr>\n",
       "      <th>1</th>\n",
       "      <td>906000000000000000</td>\n",
       "      <td>10_GOP</td>\n",
       "      <td>Marshawn Lynch arrives to game in anti-Trump s...</td>\n",
       "      <td>Unknown</td>\n",
       "      <td>English</td>\n",
       "      <td>10/1/2017 22:43</td>\n",
       "      <td>10/1/2017 22:43</td>\n",
       "      <td>1054</td>\n",
       "      <td>9637</td>\n",
       "      <td>254</td>\n",
       "      <td>NaN</td>\n",
       "      <td>Right</td>\n",
       "      <td>0</td>\n",
       "      <td>RightTroll</td>\n",
       "      <td>0</td>\n",
       "      <td>905874659358453760</td>\n",
       "      <td>914621840496189440</td>\n",
       "      <td>http://twitter.com/905874659358453760/statuses...</td>\n",
       "      <td>https://twitter.com/damienwoody/status/9145685...</td>\n",
       "      <td>NaN</td>\n",
       "      <td>NaN</td>\n",
       "    </tr>\n",
       "    <tr>\n",
       "      <th>3</th>\n",
       "      <td>906000000000000000</td>\n",
       "      <td>10_GOP</td>\n",
       "      <td>JUST IN: President Trump dedicates Presidents ...</td>\n",
       "      <td>Unknown</td>\n",
       "      <td>English</td>\n",
       "      <td>10/1/2017 23:52</td>\n",
       "      <td>10/1/2017 23:52</td>\n",
       "      <td>1062</td>\n",
       "      <td>9642</td>\n",
       "      <td>256</td>\n",
       "      <td>NaN</td>\n",
       "      <td>Right</td>\n",
       "      <td>0</td>\n",
       "      <td>RightTroll</td>\n",
       "      <td>0</td>\n",
       "      <td>905874659358453760</td>\n",
       "      <td>914639143690555392</td>\n",
       "      <td>http://twitter.com/905874659358453760/statuses...</td>\n",
       "      <td>https://twitter.com/10_gop/status/914639143690...</td>\n",
       "      <td>NaN</td>\n",
       "      <td>NaN</td>\n",
       "    </tr>\n",
       "    <tr>\n",
       "      <th>5</th>\n",
       "      <td>906000000000000000</td>\n",
       "      <td>10_GOP</td>\n",
       "      <td>Dan Bongino: \"Nobody trolls liberals better th...</td>\n",
       "      <td>Unknown</td>\n",
       "      <td>English</td>\n",
       "      <td>10/1/2017 2:47</td>\n",
       "      <td>10/1/2017 2:47</td>\n",
       "      <td>1050</td>\n",
       "      <td>9644</td>\n",
       "      <td>247</td>\n",
       "      <td>NaN</td>\n",
       "      <td>Right</td>\n",
       "      <td>0</td>\n",
       "      <td>RightTroll</td>\n",
       "      <td>0</td>\n",
       "      <td>905874659358453760</td>\n",
       "      <td>914320835325853696</td>\n",
       "      <td>http://twitter.com/905874659358453760/statuses...</td>\n",
       "      <td>https://twitter.com/FoxNews/status/91423949678...</td>\n",
       "      <td>NaN</td>\n",
       "      <td>NaN</td>\n",
       "    </tr>\n",
       "    <tr>\n",
       "      <th>7</th>\n",
       "      <td>906000000000000000</td>\n",
       "      <td>10_GOP</td>\n",
       "      <td>'@SenatorMenendez @CarmenYulinCruz Doesn't mat...</td>\n",
       "      <td>Unknown</td>\n",
       "      <td>English</td>\n",
       "      <td>10/1/2017 2:52</td>\n",
       "      <td>10/1/2017 2:53</td>\n",
       "      <td>1050</td>\n",
       "      <td>9644</td>\n",
       "      <td>249</td>\n",
       "      <td>NaN</td>\n",
       "      <td>Right</td>\n",
       "      <td>0</td>\n",
       "      <td>RightTroll</td>\n",
       "      <td>0</td>\n",
       "      <td>905874659358453760</td>\n",
       "      <td>914322215537119234</td>\n",
       "      <td>http://twitter.com/905874659358453760/statuses...</td>\n",
       "      <td>NaN</td>\n",
       "      <td>NaN</td>\n",
       "      <td>NaN</td>\n",
       "    </tr>\n",
       "    <tr>\n",
       "      <th>...</th>\n",
       "      <td>...</td>\n",
       "      <td>...</td>\n",
       "      <td>...</td>\n",
       "      <td>...</td>\n",
       "      <td>...</td>\n",
       "      <td>...</td>\n",
       "      <td>...</td>\n",
       "      <td>...</td>\n",
       "      <td>...</td>\n",
       "      <td>...</td>\n",
       "      <td>...</td>\n",
       "      <td>...</td>\n",
       "      <td>...</td>\n",
       "      <td>...</td>\n",
       "      <td>...</td>\n",
       "      <td>...</td>\n",
       "      <td>...</td>\n",
       "      <td>...</td>\n",
       "      <td>...</td>\n",
       "      <td>...</td>\n",
       "      <td>...</td>\n",
       "    </tr>\n",
       "    <tr>\n",
       "      <th>230905</th>\n",
       "      <td>2260338140</td>\n",
       "      <td>POLITICS_T0DAY</td>\n",
       "      <td>Watch \"Missile launch over San Francisco\" by @...</td>\n",
       "      <td>United States</td>\n",
       "      <td>English</td>\n",
       "      <td>11/9/2015 14:42</td>\n",
       "      <td>11/9/2015 14:42</td>\n",
       "      <td>92</td>\n",
       "      <td>898</td>\n",
       "      <td>9502</td>\n",
       "      <td>NaN</td>\n",
       "      <td>Russian</td>\n",
       "      <td>0</td>\n",
       "      <td>NonEnglish</td>\n",
       "      <td>0</td>\n",
       "      <td>2260338140</td>\n",
       "      <td>663728439766204416</td>\n",
       "      <td>http://twitter.com/politics_t0day/statuses/663...</td>\n",
       "      <td>https://vimeo.com/145029572?ref=tw-share</td>\n",
       "      <td>NaN</td>\n",
       "      <td>NaN</td>\n",
       "    </tr>\n",
       "    <tr>\n",
       "      <th>230973</th>\n",
       "      <td>2260338140</td>\n",
       "      <td>POLITICS_T0DAY</td>\n",
       "      <td>Boeing Pieces Together the Last C-17 on the Li...</td>\n",
       "      <td>United States</td>\n",
       "      <td>English</td>\n",
       "      <td>12/1/2015 13:42</td>\n",
       "      <td>12/1/2015 13:42</td>\n",
       "      <td>92</td>\n",
       "      <td>919</td>\n",
       "      <td>10148</td>\n",
       "      <td>NaN</td>\n",
       "      <td>Russian</td>\n",
       "      <td>0</td>\n",
       "      <td>NonEnglish</td>\n",
       "      <td>0</td>\n",
       "      <td>2260338140</td>\n",
       "      <td>671685764418281472</td>\n",
       "      <td>http://twitter.com/politics_t0day/statuses/671...</td>\n",
       "      <td>https://youtu.be/90daE-lAQo0</td>\n",
       "      <td>NaN</td>\n",
       "      <td>NaN</td>\n",
       "    </tr>\n",
       "    <tr>\n",
       "      <th>232028</th>\n",
       "      <td>2260338140</td>\n",
       "      <td>POLITICS_T0DAY</td>\n",
       "      <td>Satanic Temple Performs the Nation's First Sta...</td>\n",
       "      <td>United States</td>\n",
       "      <td>English</td>\n",
       "      <td>12/23/2015 9:57</td>\n",
       "      <td>12/23/2015 9:57</td>\n",
       "      <td>92</td>\n",
       "      <td>900</td>\n",
       "      <td>10961</td>\n",
       "      <td>NaN</td>\n",
       "      <td>Russian</td>\n",
       "      <td>0</td>\n",
       "      <td>NonEnglish</td>\n",
       "      <td>0</td>\n",
       "      <td>2260338140</td>\n",
       "      <td>679601725314076672</td>\n",
       "      <td>http://twitter.com/politics_t0day/statuses/679...</td>\n",
       "      <td>https://youtu.be/nBufzUH-RpQ</td>\n",
       "      <td>NaN</td>\n",
       "      <td>NaN</td>\n",
       "    </tr>\n",
       "    <tr>\n",
       "      <th>232955</th>\n",
       "      <td>2260338140</td>\n",
       "      <td>POLITICS_T0DAY</td>\n",
       "      <td>Eagles of Death Metal Join U2 on Paris Stage h...</td>\n",
       "      <td>United States</td>\n",
       "      <td>English</td>\n",
       "      <td>12/8/2015 7:50</td>\n",
       "      <td>12/8/2015 7:51</td>\n",
       "      <td>92</td>\n",
       "      <td>935</td>\n",
       "      <td>10370</td>\n",
       "      <td>NaN</td>\n",
       "      <td>Russian</td>\n",
       "      <td>0</td>\n",
       "      <td>NonEnglish</td>\n",
       "      <td>0</td>\n",
       "      <td>2260338140</td>\n",
       "      <td>674134049749889024</td>\n",
       "      <td>http://twitter.com/politics_t0day/statuses/674...</td>\n",
       "      <td>https://youtu.be/JpgpkXdoCGc</td>\n",
       "      <td>NaN</td>\n",
       "      <td>NaN</td>\n",
       "    </tr>\n",
       "    <tr>\n",
       "      <th>233514</th>\n",
       "      <td>2260338140</td>\n",
       "      <td>POLITICS_T0DAY</td>\n",
       "      <td>Hillary Clinton barks like a dog to make a poi...</td>\n",
       "      <td>United States</td>\n",
       "      <td>English</td>\n",
       "      <td>2/16/2016 11:58</td>\n",
       "      <td>2/16/2016 11:58</td>\n",
       "      <td>92</td>\n",
       "      <td>886</td>\n",
       "      <td>12912</td>\n",
       "      <td>NaN</td>\n",
       "      <td>Russian</td>\n",
       "      <td>0</td>\n",
       "      <td>NonEnglish</td>\n",
       "      <td>0</td>\n",
       "      <td>2260338140</td>\n",
       "      <td>699563577355534336</td>\n",
       "      <td>http://twitter.com/politics_t0day/statuses/699...</td>\n",
       "      <td>https://youtu.be/u45DXyLyp_0</td>\n",
       "      <td>NaN</td>\n",
       "      <td>NaN</td>\n",
       "    </tr>\n",
       "  </tbody>\n",
       "</table>\n",
       "<p>1264331 rows × 21 columns</p>\n",
       "</div>"
      ],
      "text/plain": [
       "        external_author_id          author  \\\n",
       "0       906000000000000000          10_GOP   \n",
       "1       906000000000000000          10_GOP   \n",
       "3       906000000000000000          10_GOP   \n",
       "5       906000000000000000          10_GOP   \n",
       "7       906000000000000000          10_GOP   \n",
       "...                    ...             ...   \n",
       "230905          2260338140  POLITICS_T0DAY   \n",
       "230973          2260338140  POLITICS_T0DAY   \n",
       "232028          2260338140  POLITICS_T0DAY   \n",
       "232955          2260338140  POLITICS_T0DAY   \n",
       "233514          2260338140  POLITICS_T0DAY   \n",
       "\n",
       "                                                  content         region  \\\n",
       "0       \"We have a sitting Democrat US Senator on tria...        Unknown   \n",
       "1       Marshawn Lynch arrives to game in anti-Trump s...        Unknown   \n",
       "3       JUST IN: President Trump dedicates Presidents ...        Unknown   \n",
       "5       Dan Bongino: \"Nobody trolls liberals better th...        Unknown   \n",
       "7       '@SenatorMenendez @CarmenYulinCruz Doesn't mat...        Unknown   \n",
       "...                                                   ...            ...   \n",
       "230905  Watch \"Missile launch over San Francisco\" by @...  United States   \n",
       "230973  Boeing Pieces Together the Last C-17 on the Li...  United States   \n",
       "232028  Satanic Temple Performs the Nation's First Sta...  United States   \n",
       "232955  Eagles of Death Metal Join U2 on Paris Stage h...  United States   \n",
       "233514  Hillary Clinton barks like a dog to make a poi...  United States   \n",
       "\n",
       "       language     publish_date   harvested_date  following  followers  \\\n",
       "0       English  10/1/2017 19:58  10/1/2017 19:59       1052       9636   \n",
       "1       English  10/1/2017 22:43  10/1/2017 22:43       1054       9637   \n",
       "3       English  10/1/2017 23:52  10/1/2017 23:52       1062       9642   \n",
       "5       English   10/1/2017 2:47   10/1/2017 2:47       1050       9644   \n",
       "7       English   10/1/2017 2:52   10/1/2017 2:53       1050       9644   \n",
       "...         ...              ...              ...        ...        ...   \n",
       "230905  English  11/9/2015 14:42  11/9/2015 14:42         92        898   \n",
       "230973  English  12/1/2015 13:42  12/1/2015 13:42         92        919   \n",
       "232028  English  12/23/2015 9:57  12/23/2015 9:57         92        900   \n",
       "232955  English   12/8/2015 7:50   12/8/2015 7:51         92        935   \n",
       "233514  English  2/16/2016 11:58  2/16/2016 11:58         92        886   \n",
       "\n",
       "        updates post_type account_type  retweet account_category  \\\n",
       "0           253       NaN        Right        0       RightTroll   \n",
       "1           254       NaN        Right        0       RightTroll   \n",
       "3           256       NaN        Right        0       RightTroll   \n",
       "5           247       NaN        Right        0       RightTroll   \n",
       "7           249       NaN        Right        0       RightTroll   \n",
       "...         ...       ...          ...      ...              ...   \n",
       "230905     9502       NaN      Russian        0       NonEnglish   \n",
       "230973    10148       NaN      Russian        0       NonEnglish   \n",
       "232028    10961       NaN      Russian        0       NonEnglish   \n",
       "232955    10370       NaN      Russian        0       NonEnglish   \n",
       "233514    12912       NaN      Russian        0       NonEnglish   \n",
       "\n",
       "        new_june_2018     alt_external_id            tweet_id  \\\n",
       "0                   0  905874659358453760  914580356430536707   \n",
       "1                   0  905874659358453760  914621840496189440   \n",
       "3                   0  905874659358453760  914639143690555392   \n",
       "5                   0  905874659358453760  914320835325853696   \n",
       "7                   0  905874659358453760  914322215537119234   \n",
       "...               ...                 ...                 ...   \n",
       "230905              0          2260338140  663728439766204416   \n",
       "230973              0          2260338140  671685764418281472   \n",
       "232028              0          2260338140  679601725314076672   \n",
       "232955              0          2260338140  674134049749889024   \n",
       "233514              0          2260338140  699563577355534336   \n",
       "\n",
       "                                              article_url  \\\n",
       "0       http://twitter.com/905874659358453760/statuses...   \n",
       "1       http://twitter.com/905874659358453760/statuses...   \n",
       "3       http://twitter.com/905874659358453760/statuses...   \n",
       "5       http://twitter.com/905874659358453760/statuses...   \n",
       "7       http://twitter.com/905874659358453760/statuses...   \n",
       "...                                                   ...   \n",
       "230905  http://twitter.com/politics_t0day/statuses/663...   \n",
       "230973  http://twitter.com/politics_t0day/statuses/671...   \n",
       "232028  http://twitter.com/politics_t0day/statuses/679...   \n",
       "232955  http://twitter.com/politics_t0day/statuses/674...   \n",
       "233514  http://twitter.com/politics_t0day/statuses/699...   \n",
       "\n",
       "                                               tco1_step1 tco2_step1  \\\n",
       "0       https://twitter.com/10_gop/status/914580356430...        NaN   \n",
       "1       https://twitter.com/damienwoody/status/9145685...        NaN   \n",
       "3       https://twitter.com/10_gop/status/914639143690...        NaN   \n",
       "5       https://twitter.com/FoxNews/status/91423949678...        NaN   \n",
       "7                                                     NaN        NaN   \n",
       "...                                                   ...        ...   \n",
       "230905           https://vimeo.com/145029572?ref=tw-share        NaN   \n",
       "230973                       https://youtu.be/90daE-lAQo0        NaN   \n",
       "232028                       https://youtu.be/nBufzUH-RpQ        NaN   \n",
       "232955                       https://youtu.be/JpgpkXdoCGc        NaN   \n",
       "233514                       https://youtu.be/u45DXyLyp_0        NaN   \n",
       "\n",
       "       tco3_step1  \n",
       "0             NaN  \n",
       "1             NaN  \n",
       "3             NaN  \n",
       "5             NaN  \n",
       "7             NaN  \n",
       "...           ...  \n",
       "230905        NaN  \n",
       "230973        NaN  \n",
       "232028        NaN  \n",
       "232955        NaN  \n",
       "233514        NaN  \n",
       "\n",
       "[1264331 rows x 21 columns]"
      ]
     },
     "execution_count": 11,
     "metadata": {},
     "output_type": "execute_result"
    }
   ],
   "source": [
    "# Save filtered df\n",
    "df = df[is_english_original]\n",
    "df"
   ]
  },
  {
   "cell_type": "code",
   "execution_count": 12,
   "metadata": {
    "execution": {
     "iopub.execute_input": "2024-05-22T00:16:52.398797Z",
     "iopub.status.busy": "2024-05-22T00:16:52.398678Z",
     "iopub.status.idle": "2024-05-22T00:16:52.766960Z",
     "shell.execute_reply": "2024-05-22T00:16:52.766589Z",
     "shell.execute_reply.started": "2024-05-22T00:16:52.398786Z"
    }
   },
   "outputs": [
    {
     "name": "stdout",
     "output_type": "stream",
     "text": [
      "<class 'pandas.core.frame.DataFrame'>\n",
      "Index: 1264331 entries, 0 to 233514\n",
      "Data columns (total 21 columns):\n",
      " #   Column              Non-Null Count    Dtype \n",
      "---  ------              --------------    ----- \n",
      " 0   external_author_id  1264331 non-null  object\n",
      " 1   author              1264331 non-null  object\n",
      " 2   content             1264330 non-null  object\n",
      " 3   region              1263195 non-null  object\n",
      " 4   language            1264331 non-null  object\n",
      " 5   publish_date        1264331 non-null  object\n",
      " 6   harvested_date      1264331 non-null  object\n",
      " 7   following           1264331 non-null  int64 \n",
      " 8   followers           1264331 non-null  int64 \n",
      " 9   updates             1264331 non-null  int64 \n",
      " 10  post_type           0 non-null        object\n",
      " 11  account_type        1264331 non-null  object\n",
      " 12  retweet             1264331 non-null  int64 \n",
      " 13  account_category    1264331 non-null  object\n",
      " 14  new_june_2018       1264331 non-null  int64 \n",
      " 15  alt_external_id     1264331 non-null  object\n",
      " 16  tweet_id            1264331 non-null  int64 \n",
      " 17  article_url         1264331 non-null  object\n",
      " 18  tco1_step1          801529 non-null   object\n",
      " 19  tco2_step1          340820 non-null   object\n",
      " 20  tco3_step1          11543 non-null    object\n",
      "dtypes: int64(6), object(15)\n",
      "memory usage: 212.2+ MB\n"
     ]
    }
   ],
   "source": [
    "# # Drop non-english rows\n",
    "# df = df.loc[df['language'] =='English']\n",
    "# df = df.loc[df.retweet==0]\n",
    "df.info()"
   ]
  },
  {
   "cell_type": "code",
   "execution_count": 13,
   "metadata": {
    "execution": {
     "iopub.execute_input": "2024-05-22T00:16:52.767773Z",
     "iopub.status.busy": "2024-05-22T00:16:52.767644Z",
     "iopub.status.idle": "2024-05-22T00:16:53.110155Z",
     "shell.execute_reply": "2024-05-22T00:16:53.109709Z",
     "shell.execute_reply.started": "2024-05-22T00:16:52.767762Z"
    }
   },
   "outputs": [
    {
     "name": "stdout",
     "output_type": "stream",
     "text": [
      "<class 'pandas.core.frame.DataFrame'>\n",
      "Index: 1264331 entries, 0 to 233514\n",
      "Data columns (total 14 columns):\n",
      " #   Column              Non-Null Count    Dtype \n",
      "---  ------              --------------    ----- \n",
      " 0   external_author_id  1264331 non-null  object\n",
      " 1   author              1264331 non-null  object\n",
      " 2   content             1264330 non-null  object\n",
      " 3   region              1263195 non-null  object\n",
      " 4   language            1264331 non-null  object\n",
      " 5   publish_date        1264331 non-null  object\n",
      " 6   following           1264331 non-null  int64 \n",
      " 7   followers           1264331 non-null  int64 \n",
      " 8   updates             1264331 non-null  int64 \n",
      " 9   retweet             1264331 non-null  int64 \n",
      " 10  account_category    1264331 non-null  object\n",
      " 11  alt_external_id     1264331 non-null  object\n",
      " 12  tweet_id            1264331 non-null  int64 \n",
      " 13  article_url         1264331 non-null  object\n",
      "dtypes: int64(5), object(9)\n",
      "memory usage: 144.7+ MB\n"
     ]
    }
   ],
   "source": [
    "# Drop harvested_date and new_june_2018\n",
    "cols_to_drop = ['harvested_date','new_june_2018','tco1_step1','tco2_step1','tco3_step1',\n",
    "                'account_type','post_type']\n",
    "\n",
    "# for col in cols_to_drop:\n",
    "#     df.drop(col, axis=1, inplace=True)\n",
    "df = df.drop(columns=cols_to_drop, errors='ignore')\n",
    "df.info()"
   ]
  },
  {
   "cell_type": "markdown",
   "metadata": {},
   "source": [
    "___\n",
    "## Save/Load and Resume"
   ]
  },
  {
   "cell_type": "code",
   "execution_count": 14,
   "metadata": {
    "execution": {
     "iopub.execute_input": "2024-05-22T00:16:53.110851Z",
     "iopub.status.busy": "2024-05-22T00:16:53.110740Z",
     "iopub.status.idle": "2024-05-22T00:16:53.113883Z",
     "shell.execute_reply": "2024-05-22T00:16:53.113376Z",
     "shell.execute_reply.started": "2024-05-22T00:16:53.110840Z"
    }
   },
   "outputs": [
    {
     "data": {
      "text/plain": [
       "'data/russian-troll-tweets_enlgish-only_no-retweets.csv.gz'"
      ]
     },
     "execution_count": 14,
     "metadata": {},
     "output_type": "execute_result"
    }
   ],
   "source": [
    "import os\n",
    "folder = \"data/\"\n",
    "os.makedirs(folder, exist_ok=True)\n",
    "\n",
    "fpath_out = os.path.join(folder, \"russian-troll-tweets_enlgish-only_no-retweets.csv.gz\")\n",
    "fpath_out"
   ]
  },
  {
   "cell_type": "code",
   "execution_count": 15,
   "metadata": {
    "execution": {
     "iopub.execute_input": "2024-05-22T00:16:53.114552Z",
     "iopub.status.busy": "2024-05-22T00:16:53.114436Z",
     "iopub.status.idle": "2024-05-22T00:16:53.118225Z",
     "shell.execute_reply": "2024-05-22T00:16:53.117699Z",
     "shell.execute_reply.started": "2024-05-22T00:16:53.114542Z"
    }
   },
   "outputs": [
    {
     "data": {
      "text/plain": [
       "Index([     0,      1,      3,      5,      7,      8,      9,     10,     11,\n",
       "           12,\n",
       "       ...\n",
       "       229186, 229470, 229869, 229891, 230601, 230905, 230973, 232028, 232955,\n",
       "       233514],\n",
       "      dtype='int64', length=1264331)"
      ]
     },
     "execution_count": 15,
     "metadata": {},
     "output_type": "execute_result"
    }
   ],
   "source": [
    "df.index"
   ]
  },
  {
   "cell_type": "code",
   "execution_count": 16,
   "metadata": {
    "execution": {
     "iopub.execute_input": "2024-05-22T00:16:53.119784Z",
     "iopub.status.busy": "2024-05-22T00:16:53.119268Z",
     "iopub.status.idle": "2024-05-22T00:17:08.247922Z",
     "shell.execute_reply": "2024-05-22T00:17:08.247468Z",
     "shell.execute_reply.started": "2024-05-22T00:16:53.119765Z"
    }
   },
   "outputs": [],
   "source": [
    "# Save smaller filtered dataset \n",
    "compression_kws = {'method':'gzip',\n",
    "                  'compresslevel':9}\n",
    "df.to_csv(fpath_out, compression=compression_kws, index=False)"
   ]
  },
  {
   "cell_type": "code",
   "execution_count": 17,
   "metadata": {
    "execution": {
     "iopub.execute_input": "2024-05-22T00:17:08.248727Z",
     "iopub.status.busy": "2024-05-22T00:17:08.248575Z",
     "iopub.status.idle": "2024-05-22T00:17:13.200609Z",
     "shell.execute_reply": "2024-05-22T00:17:13.200275Z",
     "shell.execute_reply.started": "2024-05-22T00:17:08.248714Z"
    }
   },
   "outputs": [
    {
     "name": "stdout",
     "output_type": "stream",
     "text": [
      "<class 'pandas.core.frame.DataFrame'>\n",
      "RangeIndex: 1264331 entries, 0 to 1264330\n",
      "Data columns (total 14 columns):\n",
      " #   Column              Non-Null Count    Dtype \n",
      "---  ------              --------------    ----- \n",
      " 0   external_author_id  1264331 non-null  int64 \n",
      " 1   author              1264331 non-null  object\n",
      " 2   content             1264330 non-null  object\n",
      " 3   region              1263195 non-null  object\n",
      " 4   language            1264331 non-null  object\n",
      " 5   publish_date        1264331 non-null  object\n",
      " 6   following           1264331 non-null  int64 \n",
      " 7   followers           1264331 non-null  int64 \n",
      " 8   updates             1264331 non-null  int64 \n",
      " 9   retweet             1264331 non-null  int64 \n",
      " 10  account_category    1264331 non-null  object\n",
      " 11  alt_external_id     1264331 non-null  int64 \n",
      " 12  tweet_id            1264331 non-null  int64 \n",
      " 13  article_url         1264331 non-null  object\n",
      "dtypes: int64(7), object(7)\n",
      "memory usage: 135.0+ MB\n"
     ]
    },
    {
     "data": {
      "text/html": [
       "<div>\n",
       "<style scoped>\n",
       "    .dataframe tbody tr th:only-of-type {\n",
       "        vertical-align: middle;\n",
       "    }\n",
       "\n",
       "    .dataframe tbody tr th {\n",
       "        vertical-align: top;\n",
       "    }\n",
       "\n",
       "    .dataframe thead th {\n",
       "        text-align: right;\n",
       "    }\n",
       "</style>\n",
       "<table border=\"1\" class=\"dataframe\">\n",
       "  <thead>\n",
       "    <tr style=\"text-align: right;\">\n",
       "      <th></th>\n",
       "      <th>external_author_id</th>\n",
       "      <th>author</th>\n",
       "      <th>content</th>\n",
       "      <th>region</th>\n",
       "      <th>language</th>\n",
       "      <th>publish_date</th>\n",
       "      <th>following</th>\n",
       "      <th>followers</th>\n",
       "      <th>updates</th>\n",
       "      <th>retweet</th>\n",
       "      <th>account_category</th>\n",
       "      <th>alt_external_id</th>\n",
       "      <th>tweet_id</th>\n",
       "      <th>article_url</th>\n",
       "    </tr>\n",
       "  </thead>\n",
       "  <tbody>\n",
       "    <tr>\n",
       "      <th>0</th>\n",
       "      <td>906000000000000000</td>\n",
       "      <td>10_GOP</td>\n",
       "      <td>\"We have a sitting Democrat US Senator on tria...</td>\n",
       "      <td>Unknown</td>\n",
       "      <td>English</td>\n",
       "      <td>10/1/2017 19:58</td>\n",
       "      <td>1052</td>\n",
       "      <td>9636</td>\n",
       "      <td>253</td>\n",
       "      <td>0</td>\n",
       "      <td>RightTroll</td>\n",
       "      <td>905874659358453760</td>\n",
       "      <td>914580356430536707</td>\n",
       "      <td>http://twitter.com/905874659358453760/statuses...</td>\n",
       "    </tr>\n",
       "    <tr>\n",
       "      <th>1</th>\n",
       "      <td>906000000000000000</td>\n",
       "      <td>10_GOP</td>\n",
       "      <td>Marshawn Lynch arrives to game in anti-Trump s...</td>\n",
       "      <td>Unknown</td>\n",
       "      <td>English</td>\n",
       "      <td>10/1/2017 22:43</td>\n",
       "      <td>1054</td>\n",
       "      <td>9637</td>\n",
       "      <td>254</td>\n",
       "      <td>0</td>\n",
       "      <td>RightTroll</td>\n",
       "      <td>905874659358453760</td>\n",
       "      <td>914621840496189440</td>\n",
       "      <td>http://twitter.com/905874659358453760/statuses...</td>\n",
       "    </tr>\n",
       "  </tbody>\n",
       "</table>\n",
       "</div>"
      ],
      "text/plain": [
       "   external_author_id  author  \\\n",
       "0  906000000000000000  10_GOP   \n",
       "1  906000000000000000  10_GOP   \n",
       "\n",
       "                                             content   region language  \\\n",
       "0  \"We have a sitting Democrat US Senator on tria...  Unknown  English   \n",
       "1  Marshawn Lynch arrives to game in anti-Trump s...  Unknown  English   \n",
       "\n",
       "      publish_date  following  followers  updates  retweet account_category  \\\n",
       "0  10/1/2017 19:58       1052       9636      253        0       RightTroll   \n",
       "1  10/1/2017 22:43       1054       9637      254        0       RightTroll   \n",
       "\n",
       "      alt_external_id            tweet_id  \\\n",
       "0  905874659358453760  914580356430536707   \n",
       "1  905874659358453760  914621840496189440   \n",
       "\n",
       "                                         article_url  \n",
       "0  http://twitter.com/905874659358453760/statuses...  \n",
       "1  http://twitter.com/905874659358453760/statuses...  "
      ]
     },
     "execution_count": 17,
     "metadata": {},
     "output_type": "execute_result"
    }
   ],
   "source": [
    "# Loading in saved dataframe\n",
    "df = pd.read_csv(fpath_out)\n",
    "df.info()\n",
    "df.head(2)"
   ]
  },
  {
   "cell_type": "code",
   "execution_count": 18,
   "metadata": {
    "execution": {
     "iopub.execute_input": "2024-05-22T00:17:13.201293Z",
     "iopub.status.busy": "2024-05-22T00:17:13.201194Z",
     "iopub.status.idle": "2024-05-22T00:17:13.247437Z",
     "shell.execute_reply": "2024-05-22T00:17:13.246918Z",
     "shell.execute_reply.started": "2024-05-22T00:17:13.201284Z"
    }
   },
   "outputs": [
    {
     "data": {
      "text/plain": [
       "account_category\n",
       "NewsFeed        595561\n",
       "RightTroll      399850\n",
       "Commercial      105928\n",
       "LeftTroll        76365\n",
       "HashtagGamer     67387\n",
       "Fearmonger        9549\n",
       "NonEnglish        5768\n",
       "Unknown           3923\n",
       "Name: count, dtype: int64"
      ]
     },
     "execution_count": 18,
     "metadata": {},
     "output_type": "execute_result"
    }
   ],
   "source": [
    "# Checking labeled account category\n",
    "df['account_category'].value_counts()"
   ]
  },
  {
   "cell_type": "code",
   "execution_count": 19,
   "metadata": {
    "execution": {
     "iopub.execute_input": "2024-05-22T00:17:13.248314Z",
     "iopub.status.busy": "2024-05-22T00:17:13.248121Z",
     "iopub.status.idle": "2024-05-22T00:17:13.250380Z",
     "shell.execute_reply": "2024-05-22T00:17:13.250010Z",
     "shell.execute_reply.started": "2024-05-22T00:17:13.248300Z"
    }
   },
   "outputs": [],
   "source": [
    "# df['account_type'].value_counts()"
   ]
  },
  {
   "cell_type": "code",
   "execution_count": 20,
   "metadata": {
    "execution": {
     "iopub.execute_input": "2024-05-22T00:17:13.251320Z",
     "iopub.status.busy": "2024-05-22T00:17:13.251070Z",
     "iopub.status.idle": "2024-05-22T00:17:13.255777Z",
     "shell.execute_reply": "2024-05-22T00:17:13.255121Z",
     "shell.execute_reply.started": "2024-05-22T00:17:13.251296Z"
    }
   },
   "outputs": [],
   "source": [
    "# save_or_load = input('Would you like to \"save\" or \"load\" dataframe?\\n(\"save\",\"load\",\"no\"):')\n",
    "\n",
    "# if save_or_load.lower()=='save':\n",
    "#     # Save csv\n",
    "#     df.to_csv('russian_troll_tweets_eng_only_date_pub_index.csv')\n",
    "    \n",
    "# if save_or_load.lower()=='load':\n",
    "#     import bs_ds as bs\n",
    "#     from bs_ds.imports import *\n",
    "#     # Load csva\n",
    "#     df = pd.read_csv('russian_troll_tweets_eng_only_date_pub_index.csv')    "
   ]
  },
  {
   "cell_type": "code",
   "execution_count": 21,
   "metadata": {
    "execution": {
     "iopub.execute_input": "2024-05-22T00:17:13.256865Z",
     "iopub.status.busy": "2024-05-22T00:17:13.256529Z",
     "iopub.status.idle": "2024-05-22T00:17:13.259389Z",
     "shell.execute_reply": "2024-05-22T00:17:13.258673Z",
     "shell.execute_reply.started": "2024-05-22T00:17:13.256851Z"
    }
   },
   "outputs": [],
   "source": [
    "# for i in range(10):\n",
    "#     print(i,'\\t',np.random.choice(df['content']))"
   ]
  },
  {
   "cell_type": "markdown",
   "metadata": {},
   "source": [
    "# Using TwitterAPI to Harvest Control Tweets\n",
    "\n",
    "## My Search Strategy\n",
    "\n",
    "- **We need non-troll Tweets to use as a control for the Troll tweets. Ideally, these would be from the same time period covered by the Troll tweets.**\n",
    "\n",
    "    - However, extracting batch historical tweets from the same time period is not an option. This would **require Twitter Enterprise level** Developer Membership (which costs **\\\\$2,000 per month**)\n",
    "    - The free Twitter developer account access allows extracting Tweets from the last 7 days. We will have to work within this limitation for harvesting control tweets.\n",
    "    - Due to the temporal difference, extra care must be put into Tweet search strategy.\n",
    "\n",
    "\n",
    "\n",
    "**Inspect Data to get search parameters:**\n",
    "- [X] Get the date range for the English tweets in the original dataset<br>\n",
    "    - **Tweet date range:**\n",
    "        - **2012-02-06** to **2018-05-30**\n",
    "\n",
    "- [X] Get a list of the hash tags (and their frequencies from the dataframe\n"
   ]
  },
  {
   "cell_type": "markdown",
   "metadata": {},
   "source": [
    "### Recasting Publish date as datetime column (date_published)"
   ]
  },
  {
   "cell_type": "code",
   "execution_count": 22,
   "metadata": {
    "execution": {
     "iopub.execute_input": "2024-05-22T00:17:13.260179Z",
     "iopub.status.busy": "2024-05-22T00:17:13.260044Z",
     "iopub.status.idle": "2024-05-22T00:17:15.002051Z",
     "shell.execute_reply": "2024-05-22T00:17:15.001364Z",
     "shell.execute_reply.started": "2024-05-22T00:17:13.260168Z"
    }
   },
   "outputs": [
    {
     "name": "stdout",
     "output_type": "stream",
     "text": [
      "Changed index to datetime \"date_published\".\n"
     ]
    },
    {
     "data": {
      "text/plain": [
       "0         2017-10-01 19:58:00\n",
       "1         2017-10-01 22:43:00\n",
       "2         2017-10-01 23:52:00\n",
       "3         2017-10-01 02:47:00\n",
       "4         2017-10-01 02:52:00\n",
       "                  ...        \n",
       "1264326   2015-11-09 14:42:00\n",
       "1264327   2015-12-01 13:42:00\n",
       "1264328   2015-12-23 09:57:00\n",
       "1264329   2015-12-08 07:50:00\n",
       "1264330   2016-02-16 11:58:00\n",
       "Name: date_published, Length: 1264331, dtype: datetime64[ns]"
      ]
     },
     "execution_count": 22,
     "metadata": {},
     "output_type": "execute_result"
    }
   ],
   "source": [
    "# Recast date_published as datetime and make index\n",
    "df['date_published'] = pd.to_datetime(df['publish_date'])\n",
    "# df = df.set_index('date_published')\n",
    "print('Changed index to datetime \"date_published\".')\n",
    "df['date_published']"
   ]
  },
  {
   "cell_type": "code",
   "execution_count": 23,
   "metadata": {
    "execution": {
     "iopub.execute_input": "2024-05-22T00:17:15.002948Z",
     "iopub.status.busy": "2024-05-22T00:17:15.002780Z",
     "iopub.status.idle": "2024-05-22T00:17:15.007278Z",
     "shell.execute_reply": "2024-05-22T00:17:15.006776Z",
     "shell.execute_reply.started": "2024-05-22T00:17:15.002931Z"
    }
   },
   "outputs": [
    {
     "name": "stdout",
     "output_type": "stream",
     "text": [
      "Tweet dates from 2012-02-06 20:24:00  to  2018-05-30 20:58:00\n"
     ]
    }
   ],
   "source": [
    "# Convert publish_date to datetime\n",
    "# df['date_published'] = pd.to_datetime(df.publish_date)\n",
    "date_col = df['date_published']\n",
    "print(f'Tweet dates from {np.min(date_col)}  to  {np.max(date_col)}')"
   ]
  },
  {
   "cell_type": "code",
   "execution_count": 24,
   "metadata": {
    "execution": {
     "iopub.execute_input": "2024-05-22T00:17:15.008096Z",
     "iopub.status.busy": "2024-05-22T00:17:15.007958Z",
     "iopub.status.idle": "2024-05-22T00:17:15.013857Z",
     "shell.execute_reply": "2024-05-22T00:17:15.013388Z",
     "shell.execute_reply.started": "2024-05-22T00:17:15.008085Z"
    }
   },
   "outputs": [
    {
     "name": "stdout",
     "output_type": "stream",
     "text": [
      "Tweet date range:\n",
      " - 02/06/2012 to 05/30/2018\n",
      "Total days:\n",
      " - 2305\n"
     ]
    }
   ],
   "source": [
    "# Inspect Data to get search parameters:\n",
    "time_fmt = \"%m/%d/%Y\"\n",
    "first_tweet = date_col.min()\n",
    "last_tweet = date_col.max()\n",
    "print(f'Tweet date range:\\n - {first_tweet.strftime(time_fmt)} to {last_tweet.strftime(time_fmt)}')\n",
    "print(f'Total days:\\n - {(last_tweet-first_tweet).days}')"
   ]
  },
  {
   "cell_type": "markdown",
   "metadata": {},
   "source": [
    "## Determining Hashtags & @'s to search for\n",
    "\n",
    "- Use regular expressions to extract the hashtags #words and @handles.\n",
    "- Use the top X many tags as search terms for twitter API\n",
    "    - There are _1,678,170 unique hashtags_ and _1,165,744 unique @'s_"
   ]
  },
  {
   "cell_type": "code",
   "execution_count": 25,
   "metadata": {
    "execution": {
     "iopub.execute_input": "2024-05-22T00:17:15.015347Z",
     "iopub.status.busy": "2024-05-22T00:17:15.015073Z",
     "iopub.status.idle": "2024-05-22T00:17:16.902457Z",
     "shell.execute_reply": "2024-05-22T00:17:16.902080Z",
     "shell.execute_reply.started": "2024-05-22T00:17:15.015327Z"
    }
   },
   "outputs": [],
   "source": [
    "# NEW: Make a column containing all hashtags and mentions\n",
    "import re\n",
    "\n",
    "hashtag_expr = r'(\\#\\w*)'\n",
    "hashtags = re.compile(hashtag_expr)\n",
    "df['hashtags'] = df['content'].str.findall(hashtag_expr) #map(lambda x: hashtags.findall(str(x)))\n",
    "\n",
    "mentions_expr = r'(\\@\\w*)'\n",
    "mentions = re.compile(mentions_expr)\n",
    "df['mentions'] = df['content'].str.findall(mentions_expr) #map(lambda x: mentions.findall(str(x)))\n",
    "\n",
    "urls_expr = r\"(http[s]?://\\w*\\.\\w*/+\\w+)\"\n",
    "urls = re.compile(urls_expr)\n",
    "df['links'] = df['content'].str.findall(urls_expr)#map(lambda x: urls.findall(str(x)))\n",
    "\n",
    "# # Testing individual re's from above\n",
    "# hashtag_list = df['content'].map(lambda x: hashtags.findall(str(x)))\n",
    "# hashtag_list[-10:]"
   ]
  },
  {
   "cell_type": "code",
   "execution_count": 26,
   "metadata": {
    "execution": {
     "iopub.execute_input": "2024-05-22T00:17:16.903090Z",
     "iopub.status.busy": "2024-05-22T00:17:16.902980Z",
     "iopub.status.idle": "2024-05-22T00:17:16.997342Z",
     "shell.execute_reply": "2024-05-22T00:17:16.996881Z",
     "shell.execute_reply.started": "2024-05-22T00:17:16.903080Z"
    }
   },
   "outputs": [
    {
     "data": {
      "text/plain": [
       "hashtags\n",
       "NaN                675967\n",
       "#news              118435\n",
       "#sports             45476\n",
       "#politics           37405\n",
       "#world              27058\n",
       "                    ...  \n",
       "#MoveMojito             1\n",
       "#Move9                  1\n",
       "#Event                  1\n",
       "#ParyForAmerica         1\n",
       "#heisenberg             1\n",
       "Name: count, Length: 32513, dtype: int64"
      ]
     },
     "execution_count": 26,
     "metadata": {},
     "output_type": "execute_result"
    }
   ],
   "source": [
    "# Get hashtag counts\n",
    "exploded_tags = df['hashtags'].explode()\n",
    "hashtag_counts = exploded_tags.value_counts(dropna=False)\n",
    "hashtag_counts"
   ]
  },
  {
   "cell_type": "code",
   "execution_count": 27,
   "metadata": {
    "execution": {
     "iopub.execute_input": "2024-05-22T00:17:16.998122Z",
     "iopub.status.busy": "2024-05-22T00:17:16.997996Z",
     "iopub.status.idle": "2024-05-22T00:17:17.040490Z",
     "shell.execute_reply": "2024-05-22T00:17:17.040071Z",
     "shell.execute_reply.started": "2024-05-22T00:17:16.998111Z"
    }
   },
   "outputs": [
    {
     "name": "stdout",
     "output_type": "stream",
     "text": [
      "Found 32513 unique hashtags.\n",
      "[nan '#HipHopAwards' '#WomenBoycottTwitter' '#LasVegas'\n",
      " '#LasVegasShooting' '#VegasStrong' '#FakeNews' '#IrmaHurricane2017'\n",
      " '#Irma' '#HurricaneIrma']\n"
     ]
    }
   ],
   "source": [
    "# Getting list of all unique hashtags\n",
    "hashtag_list = exploded_tags.unique()\n",
    "print(f\"Found {len(hashtag_list)} unique hashtags.\")\n",
    "print(hashtag_list[:10])"
   ]
  },
  {
   "cell_type": "code",
   "execution_count": 28,
   "metadata": {
    "execution": {
     "iopub.execute_input": "2024-05-22T00:17:17.041268Z",
     "iopub.status.busy": "2024-05-22T00:17:17.041095Z",
     "iopub.status.idle": "2024-05-22T00:17:17.051662Z",
     "shell.execute_reply": "2024-05-22T00:17:17.051310Z",
     "shell.execute_reply.started": "2024-05-22T00:17:17.041249Z"
    }
   },
   "outputs": [
    {
     "data": {
      "text/html": [
       "<div>\n",
       "<style scoped>\n",
       "    .dataframe tbody tr th:only-of-type {\n",
       "        vertical-align: middle;\n",
       "    }\n",
       "\n",
       "    .dataframe tbody tr th {\n",
       "        vertical-align: top;\n",
       "    }\n",
       "\n",
       "    .dataframe thead th {\n",
       "        text-align: right;\n",
       "    }\n",
       "</style>\n",
       "<table border=\"1\" class=\"dataframe\">\n",
       "  <thead>\n",
       "    <tr style=\"text-align: right;\">\n",
       "      <th></th>\n",
       "      <th>external_author_id</th>\n",
       "      <th>author</th>\n",
       "      <th>content</th>\n",
       "      <th>region</th>\n",
       "      <th>language</th>\n",
       "      <th>publish_date</th>\n",
       "      <th>following</th>\n",
       "      <th>followers</th>\n",
       "      <th>updates</th>\n",
       "      <th>retweet</th>\n",
       "      <th>account_category</th>\n",
       "      <th>alt_external_id</th>\n",
       "      <th>tweet_id</th>\n",
       "      <th>article_url</th>\n",
       "      <th>date_published</th>\n",
       "      <th>hashtags</th>\n",
       "      <th>mentions</th>\n",
       "      <th>links</th>\n",
       "    </tr>\n",
       "  </thead>\n",
       "  <tbody>\n",
       "    <tr>\n",
       "      <th>0</th>\n",
       "      <td>906000000000000000</td>\n",
       "      <td>10_GOP</td>\n",
       "      <td>\"We have a sitting Democrat US Senator on tria...</td>\n",
       "      <td>Unknown</td>\n",
       "      <td>English</td>\n",
       "      <td>10/1/2017 19:58</td>\n",
       "      <td>1052</td>\n",
       "      <td>9636</td>\n",
       "      <td>253</td>\n",
       "      <td>0</td>\n",
       "      <td>RightTroll</td>\n",
       "      <td>905874659358453760</td>\n",
       "      <td>914580356430536707</td>\n",
       "      <td>http://twitter.com/905874659358453760/statuses...</td>\n",
       "      <td>2017-10-01 19:58:00</td>\n",
       "      <td>[]</td>\n",
       "      <td>[@nedryun]</td>\n",
       "      <td>[https://t.co/gh6g0D1oiC]</td>\n",
       "    </tr>\n",
       "    <tr>\n",
       "      <th>1</th>\n",
       "      <td>906000000000000000</td>\n",
       "      <td>10_GOP</td>\n",
       "      <td>Marshawn Lynch arrives to game in anti-Trump s...</td>\n",
       "      <td>Unknown</td>\n",
       "      <td>English</td>\n",
       "      <td>10/1/2017 22:43</td>\n",
       "      <td>1054</td>\n",
       "      <td>9637</td>\n",
       "      <td>254</td>\n",
       "      <td>0</td>\n",
       "      <td>RightTroll</td>\n",
       "      <td>905874659358453760</td>\n",
       "      <td>914621840496189440</td>\n",
       "      <td>http://twitter.com/905874659358453760/statuses...</td>\n",
       "      <td>2017-10-01 22:43:00</td>\n",
       "      <td>[]</td>\n",
       "      <td>[]</td>\n",
       "      <td>[https://t.co/mLH1i30LZZ]</td>\n",
       "    </tr>\n",
       "    <tr>\n",
       "      <th>2</th>\n",
       "      <td>906000000000000000</td>\n",
       "      <td>10_GOP</td>\n",
       "      <td>JUST IN: President Trump dedicates Presidents ...</td>\n",
       "      <td>Unknown</td>\n",
       "      <td>English</td>\n",
       "      <td>10/1/2017 23:52</td>\n",
       "      <td>1062</td>\n",
       "      <td>9642</td>\n",
       "      <td>256</td>\n",
       "      <td>0</td>\n",
       "      <td>RightTroll</td>\n",
       "      <td>905874659358453760</td>\n",
       "      <td>914639143690555392</td>\n",
       "      <td>http://twitter.com/905874659358453760/statuses...</td>\n",
       "      <td>2017-10-01 23:52:00</td>\n",
       "      <td>[]</td>\n",
       "      <td>[]</td>\n",
       "      <td>[https://t.co/z9wVa4djAE]</td>\n",
       "    </tr>\n",
       "    <tr>\n",
       "      <th>3</th>\n",
       "      <td>906000000000000000</td>\n",
       "      <td>10_GOP</td>\n",
       "      <td>Dan Bongino: \"Nobody trolls liberals better th...</td>\n",
       "      <td>Unknown</td>\n",
       "      <td>English</td>\n",
       "      <td>10/1/2017 2:47</td>\n",
       "      <td>1050</td>\n",
       "      <td>9644</td>\n",
       "      <td>247</td>\n",
       "      <td>0</td>\n",
       "      <td>RightTroll</td>\n",
       "      <td>905874659358453760</td>\n",
       "      <td>914320835325853696</td>\n",
       "      <td>http://twitter.com/905874659358453760/statuses...</td>\n",
       "      <td>2017-10-01 02:47:00</td>\n",
       "      <td>[]</td>\n",
       "      <td>[]</td>\n",
       "      <td>[https://t.co/AigV93aC8J]</td>\n",
       "    </tr>\n",
       "    <tr>\n",
       "      <th>4</th>\n",
       "      <td>906000000000000000</td>\n",
       "      <td>10_GOP</td>\n",
       "      <td>'@SenatorMenendez @CarmenYulinCruz Doesn't mat...</td>\n",
       "      <td>Unknown</td>\n",
       "      <td>English</td>\n",
       "      <td>10/1/2017 2:52</td>\n",
       "      <td>1050</td>\n",
       "      <td>9644</td>\n",
       "      <td>249</td>\n",
       "      <td>0</td>\n",
       "      <td>RightTroll</td>\n",
       "      <td>905874659358453760</td>\n",
       "      <td>914322215537119234</td>\n",
       "      <td>http://twitter.com/905874659358453760/statuses...</td>\n",
       "      <td>2017-10-01 02:52:00</td>\n",
       "      <td>[]</td>\n",
       "      <td>[@SenatorMenendez, @CarmenYulinCruz]</td>\n",
       "      <td>[]</td>\n",
       "    </tr>\n",
       "    <tr>\n",
       "      <th>...</th>\n",
       "      <td>...</td>\n",
       "      <td>...</td>\n",
       "      <td>...</td>\n",
       "      <td>...</td>\n",
       "      <td>...</td>\n",
       "      <td>...</td>\n",
       "      <td>...</td>\n",
       "      <td>...</td>\n",
       "      <td>...</td>\n",
       "      <td>...</td>\n",
       "      <td>...</td>\n",
       "      <td>...</td>\n",
       "      <td>...</td>\n",
       "      <td>...</td>\n",
       "      <td>...</td>\n",
       "      <td>...</td>\n",
       "      <td>...</td>\n",
       "      <td>...</td>\n",
       "    </tr>\n",
       "    <tr>\n",
       "      <th>1264326</th>\n",
       "      <td>2260338140</td>\n",
       "      <td>POLITICS_T0DAY</td>\n",
       "      <td>Watch \"Missile launch over San Francisco\" by @...</td>\n",
       "      <td>United States</td>\n",
       "      <td>English</td>\n",
       "      <td>11/9/2015 14:42</td>\n",
       "      <td>92</td>\n",
       "      <td>898</td>\n",
       "      <td>9502</td>\n",
       "      <td>0</td>\n",
       "      <td>NonEnglish</td>\n",
       "      <td>2260338140</td>\n",
       "      <td>663728439766204416</td>\n",
       "      <td>http://twitter.com/politics_t0day/statuses/663...</td>\n",
       "      <td>2015-11-09 14:42:00</td>\n",
       "      <td>[]</td>\n",
       "      <td>[@Varient3, @Vimeo]</td>\n",
       "      <td>[https://t.co/X50JkMr9UR]</td>\n",
       "    </tr>\n",
       "    <tr>\n",
       "      <th>1264327</th>\n",
       "      <td>2260338140</td>\n",
       "      <td>POLITICS_T0DAY</td>\n",
       "      <td>Boeing Pieces Together the Last C-17 on the Li...</td>\n",
       "      <td>United States</td>\n",
       "      <td>English</td>\n",
       "      <td>12/1/2015 13:42</td>\n",
       "      <td>92</td>\n",
       "      <td>919</td>\n",
       "      <td>10148</td>\n",
       "      <td>0</td>\n",
       "      <td>NonEnglish</td>\n",
       "      <td>2260338140</td>\n",
       "      <td>671685764418281472</td>\n",
       "      <td>http://twitter.com/politics_t0day/statuses/671...</td>\n",
       "      <td>2015-12-01 13:42:00</td>\n",
       "      <td>[]</td>\n",
       "      <td>[@YouTube]</td>\n",
       "      <td>[https://t.co/QSkB1EL4CB]</td>\n",
       "    </tr>\n",
       "    <tr>\n",
       "      <th>1264328</th>\n",
       "      <td>2260338140</td>\n",
       "      <td>POLITICS_T0DAY</td>\n",
       "      <td>Satanic Temple Performs the Nation's First Sta...</td>\n",
       "      <td>United States</td>\n",
       "      <td>English</td>\n",
       "      <td>12/23/2015 9:57</td>\n",
       "      <td>92</td>\n",
       "      <td>900</td>\n",
       "      <td>10961</td>\n",
       "      <td>0</td>\n",
       "      <td>NonEnglish</td>\n",
       "      <td>2260338140</td>\n",
       "      <td>679601725314076672</td>\n",
       "      <td>http://twitter.com/politics_t0day/statuses/679...</td>\n",
       "      <td>2015-12-23 09:57:00</td>\n",
       "      <td>[]</td>\n",
       "      <td>[@YouTube]</td>\n",
       "      <td>[https://t.co/VwaztidS4g]</td>\n",
       "    </tr>\n",
       "    <tr>\n",
       "      <th>1264329</th>\n",
       "      <td>2260338140</td>\n",
       "      <td>POLITICS_T0DAY</td>\n",
       "      <td>Eagles of Death Metal Join U2 on Paris Stage h...</td>\n",
       "      <td>United States</td>\n",
       "      <td>English</td>\n",
       "      <td>12/8/2015 7:50</td>\n",
       "      <td>92</td>\n",
       "      <td>935</td>\n",
       "      <td>10370</td>\n",
       "      <td>0</td>\n",
       "      <td>NonEnglish</td>\n",
       "      <td>2260338140</td>\n",
       "      <td>674134049749889024</td>\n",
       "      <td>http://twitter.com/politics_t0day/statuses/674...</td>\n",
       "      <td>2015-12-08 07:50:00</td>\n",
       "      <td>[]</td>\n",
       "      <td>[@YouTube]</td>\n",
       "      <td>[https://t.co/4pEID0ip8q]</td>\n",
       "    </tr>\n",
       "    <tr>\n",
       "      <th>1264330</th>\n",
       "      <td>2260338140</td>\n",
       "      <td>POLITICS_T0DAY</td>\n",
       "      <td>Hillary Clinton barks like a dog to make a poi...</td>\n",
       "      <td>United States</td>\n",
       "      <td>English</td>\n",
       "      <td>2/16/2016 11:58</td>\n",
       "      <td>92</td>\n",
       "      <td>886</td>\n",
       "      <td>12912</td>\n",
       "      <td>0</td>\n",
       "      <td>NonEnglish</td>\n",
       "      <td>2260338140</td>\n",
       "      <td>699563577355534336</td>\n",
       "      <td>http://twitter.com/politics_t0day/statuses/699...</td>\n",
       "      <td>2016-02-16 11:58:00</td>\n",
       "      <td>[]</td>\n",
       "      <td>[@YouTube]</td>\n",
       "      <td>[https://t.co/lnTm0is1VX]</td>\n",
       "    </tr>\n",
       "  </tbody>\n",
       "</table>\n",
       "<p>1264331 rows × 18 columns</p>\n",
       "</div>"
      ],
      "text/plain": [
       "         external_author_id          author  \\\n",
       "0        906000000000000000          10_GOP   \n",
       "1        906000000000000000          10_GOP   \n",
       "2        906000000000000000          10_GOP   \n",
       "3        906000000000000000          10_GOP   \n",
       "4        906000000000000000          10_GOP   \n",
       "...                     ...             ...   \n",
       "1264326          2260338140  POLITICS_T0DAY   \n",
       "1264327          2260338140  POLITICS_T0DAY   \n",
       "1264328          2260338140  POLITICS_T0DAY   \n",
       "1264329          2260338140  POLITICS_T0DAY   \n",
       "1264330          2260338140  POLITICS_T0DAY   \n",
       "\n",
       "                                                   content         region  \\\n",
       "0        \"We have a sitting Democrat US Senator on tria...        Unknown   \n",
       "1        Marshawn Lynch arrives to game in anti-Trump s...        Unknown   \n",
       "2        JUST IN: President Trump dedicates Presidents ...        Unknown   \n",
       "3        Dan Bongino: \"Nobody trolls liberals better th...        Unknown   \n",
       "4        '@SenatorMenendez @CarmenYulinCruz Doesn't mat...        Unknown   \n",
       "...                                                    ...            ...   \n",
       "1264326  Watch \"Missile launch over San Francisco\" by @...  United States   \n",
       "1264327  Boeing Pieces Together the Last C-17 on the Li...  United States   \n",
       "1264328  Satanic Temple Performs the Nation's First Sta...  United States   \n",
       "1264329  Eagles of Death Metal Join U2 on Paris Stage h...  United States   \n",
       "1264330  Hillary Clinton barks like a dog to make a poi...  United States   \n",
       "\n",
       "        language     publish_date  following  followers  updates  retweet  \\\n",
       "0        English  10/1/2017 19:58       1052       9636      253        0   \n",
       "1        English  10/1/2017 22:43       1054       9637      254        0   \n",
       "2        English  10/1/2017 23:52       1062       9642      256        0   \n",
       "3        English   10/1/2017 2:47       1050       9644      247        0   \n",
       "4        English   10/1/2017 2:52       1050       9644      249        0   \n",
       "...          ...              ...        ...        ...      ...      ...   \n",
       "1264326  English  11/9/2015 14:42         92        898     9502        0   \n",
       "1264327  English  12/1/2015 13:42         92        919    10148        0   \n",
       "1264328  English  12/23/2015 9:57         92        900    10961        0   \n",
       "1264329  English   12/8/2015 7:50         92        935    10370        0   \n",
       "1264330  English  2/16/2016 11:58         92        886    12912        0   \n",
       "\n",
       "        account_category     alt_external_id            tweet_id  \\\n",
       "0             RightTroll  905874659358453760  914580356430536707   \n",
       "1             RightTroll  905874659358453760  914621840496189440   \n",
       "2             RightTroll  905874659358453760  914639143690555392   \n",
       "3             RightTroll  905874659358453760  914320835325853696   \n",
       "4             RightTroll  905874659358453760  914322215537119234   \n",
       "...                  ...                 ...                 ...   \n",
       "1264326       NonEnglish          2260338140  663728439766204416   \n",
       "1264327       NonEnglish          2260338140  671685764418281472   \n",
       "1264328       NonEnglish          2260338140  679601725314076672   \n",
       "1264329       NonEnglish          2260338140  674134049749889024   \n",
       "1264330       NonEnglish          2260338140  699563577355534336   \n",
       "\n",
       "                                               article_url  \\\n",
       "0        http://twitter.com/905874659358453760/statuses...   \n",
       "1        http://twitter.com/905874659358453760/statuses...   \n",
       "2        http://twitter.com/905874659358453760/statuses...   \n",
       "3        http://twitter.com/905874659358453760/statuses...   \n",
       "4        http://twitter.com/905874659358453760/statuses...   \n",
       "...                                                    ...   \n",
       "1264326  http://twitter.com/politics_t0day/statuses/663...   \n",
       "1264327  http://twitter.com/politics_t0day/statuses/671...   \n",
       "1264328  http://twitter.com/politics_t0day/statuses/679...   \n",
       "1264329  http://twitter.com/politics_t0day/statuses/674...   \n",
       "1264330  http://twitter.com/politics_t0day/statuses/699...   \n",
       "\n",
       "             date_published hashtags                              mentions  \\\n",
       "0       2017-10-01 19:58:00       []                            [@nedryun]   \n",
       "1       2017-10-01 22:43:00       []                                    []   \n",
       "2       2017-10-01 23:52:00       []                                    []   \n",
       "3       2017-10-01 02:47:00       []                                    []   \n",
       "4       2017-10-01 02:52:00       []  [@SenatorMenendez, @CarmenYulinCruz]   \n",
       "...                     ...      ...                                   ...   \n",
       "1264326 2015-11-09 14:42:00       []                   [@Varient3, @Vimeo]   \n",
       "1264327 2015-12-01 13:42:00       []                            [@YouTube]   \n",
       "1264328 2015-12-23 09:57:00       []                            [@YouTube]   \n",
       "1264329 2015-12-08 07:50:00       []                            [@YouTube]   \n",
       "1264330 2016-02-16 11:58:00       []                            [@YouTube]   \n",
       "\n",
       "                             links  \n",
       "0        [https://t.co/gh6g0D1oiC]  \n",
       "1        [https://t.co/mLH1i30LZZ]  \n",
       "2        [https://t.co/z9wVa4djAE]  \n",
       "3        [https://t.co/AigV93aC8J]  \n",
       "4                               []  \n",
       "...                            ...  \n",
       "1264326  [https://t.co/X50JkMr9UR]  \n",
       "1264327  [https://t.co/QSkB1EL4CB]  \n",
       "1264328  [https://t.co/VwaztidS4g]  \n",
       "1264329  [https://t.co/4pEID0ip8q]  \n",
       "1264330  [https://t.co/lnTm0is1VX]  \n",
       "\n",
       "[1264331 rows x 18 columns]"
      ]
     },
     "execution_count": 28,
     "metadata": {},
     "output_type": "execute_result"
    }
   ],
   "source": [
    "df"
   ]
  },
  {
   "cell_type": "code",
   "execution_count": 29,
   "metadata": {
    "execution": {
     "iopub.execute_input": "2024-05-22T00:17:17.052321Z",
     "iopub.status.busy": "2024-05-22T00:17:17.052217Z",
     "iopub.status.idle": "2024-05-22T00:17:17.055177Z",
     "shell.execute_reply": "2024-05-22T00:17:17.054858Z",
     "shell.execute_reply.started": "2024-05-22T00:17:17.052310Z"
    }
   },
   "outputs": [
    {
     "data": {
      "text/plain": [
       "list"
      ]
     },
     "execution_count": 29,
     "metadata": {},
     "output_type": "execute_result"
    }
   ],
   "source": [
    "col='hashtags'\n",
    "cell_dtypes = type(df[col].iloc[0])\n",
    "cell_dtypes"
   ]
  },
  {
   "cell_type": "markdown",
   "metadata": {},
   "source": [
    "### Determine Top 30 Hashtags and Mentions in Troll Tweets"
   ]
  },
  {
   "cell_type": "code",
   "execution_count": 30,
   "metadata": {
    "execution": {
     "iopub.execute_input": "2024-05-22T00:17:17.055941Z",
     "iopub.status.busy": "2024-05-22T00:17:17.055766Z",
     "iopub.status.idle": "2024-05-22T00:17:17.058773Z",
     "shell.execute_reply": "2024-05-22T00:17:17.058414Z",
     "shell.execute_reply.started": "2024-05-22T00:17:17.055930Z"
    }
   },
   "outputs": [],
   "source": [
    "def get_most_common_from_list_col(df, col, dropna=True, normalize=False, top_n=None):\n",
    "    import ast\n",
    "    example_cell = df[col].iloc[0]\n",
    "    \n",
    "    if isinstance(example_cell, str):\n",
    "        # try:\n",
    "        list_col = df[col].fillna('[]').map(lambda x: ast.literal_eval(x))\n",
    "        # except E\n",
    "    else:\n",
    "        list_col = df[col].fillna('')\n",
    "    \n",
    "    exploded_col = list_col.explode()\n",
    "    value_counts = exploded_col.value_counts(dropna=dropna, normalize=normalize)\n",
    "\n",
    "    if top_n is None:\n",
    "\n",
    "        return value_counts\n",
    "    else:\n",
    "        return value_counts.head(top_n)\n",
    "\n"
   ]
  },
  {
   "cell_type": "code",
   "execution_count": 31,
   "metadata": {
    "execution": {
     "iopub.execute_input": "2024-05-22T00:17:17.059475Z",
     "iopub.status.busy": "2024-05-22T00:17:17.059349Z",
     "iopub.status.idle": "2024-05-22T00:17:17.062147Z",
     "shell.execute_reply": "2024-05-22T00:17:17.061713Z",
     "shell.execute_reply.started": "2024-05-22T00:17:17.059464Z"
    }
   },
   "outputs": [
    {
     "data": {
      "text/plain": [
       "Index(['external_author_id', 'author', 'content', 'region', 'language',\n",
       "       'publish_date', 'following', 'followers', 'updates', 'retweet',\n",
       "       'account_category', 'alt_external_id', 'tweet_id', 'article_url',\n",
       "       'date_published', 'hashtags', 'mentions', 'links'],\n",
       "      dtype='object')"
      ]
     },
     "execution_count": 31,
     "metadata": {},
     "output_type": "execute_result"
    }
   ],
   "source": [
    "df.columns"
   ]
  },
  {
   "cell_type": "code",
   "execution_count": 32,
   "metadata": {
    "execution": {
     "iopub.execute_input": "2024-05-22T00:17:17.062841Z",
     "iopub.status.busy": "2024-05-22T00:17:17.062728Z",
     "iopub.status.idle": "2024-05-22T00:17:17.226008Z",
     "shell.execute_reply": "2024-05-22T00:17:17.225657Z",
     "shell.execute_reply.started": "2024-05-22T00:17:17.062831Z"
    }
   },
   "outputs": [
    {
     "data": {
      "text/plain": [
       "hashtags\n",
       "#news                118435\n",
       "#sports               45476\n",
       "#politics             37405\n",
       "#world                27058\n",
       "#local                23109\n",
       "#TopNews              14608\n",
       "#health               10317\n",
       "#business              9537\n",
       "#BlackLivesMatter      8241\n",
       "#tech                  7834\n",
       "#entertainment         7224\n",
       "#MAGA                  6847\n",
       "#top                   6581\n",
       "#Cleveland             6519\n",
       "#crime                 6298\n",
       "#TopVideo              6151\n",
       "#environment           5657\n",
       "#PJNET                 4754\n",
       "#mar                   4691\n",
       "#FAKENEWS              4306\n",
       "#Miami                 4198\n",
       "#tcot                  4163\n",
       "#IslamKills            3854\n",
       "#topl                  3832\n",
       "#SanJose               3813\n",
       "#life                  3696\n",
       "#breaking              3653\n",
       "#ISIS                  3643\n",
       "#DemnDebate            3585\n",
       "#KochFarms             2880\n",
       "Name: count, dtype: int64"
      ]
     },
     "execution_count": 32,
     "metadata": {},
     "output_type": "execute_result"
    }
   ],
   "source": [
    "list_top_30_tags = get_most_common_from_list_col(df,'hashtags', dropna=True, normalize=False, top_n=30)\n",
    "list_top_30_tags"
   ]
  },
  {
   "cell_type": "code",
   "execution_count": 33,
   "metadata": {
    "execution": {
     "iopub.execute_input": "2024-05-22T00:17:17.226650Z",
     "iopub.status.busy": "2024-05-22T00:17:17.226545Z",
     "iopub.status.idle": "2024-05-22T00:17:17.523124Z",
     "shell.execute_reply": "2024-05-22T00:17:17.522781Z",
     "shell.execute_reply.started": "2024-05-22T00:17:17.226639Z"
    }
   },
   "outputs": [
    {
     "data": {
      "text/plain": [
       "mentions\n",
       "@midnight           6691\n",
       "@realDonaldTrump    3514\n",
       "@WarfareWW          1527\n",
       "@CNN                1469\n",
       "@HillaryClinton     1419\n",
       "@POTUS              1030\n",
       "@CNNPolitics         948\n",
       "@FoxNews             925\n",
       "@mashable            740\n",
       "@YouTube             680\n",
       "@AC360               658\n",
       "@CNNSitRoom          657\n",
       "@VanJones68          651\n",
       "@CNNI                650\n",
       "@JakeTapper          649\n",
       "@DonLemon            649\n",
       "@TheLeadCNN          649\n",
       "@AnaNavarro          648\n",
       "@BrianStelter        648\n",
       "@WolfBlitzer         647\n",
       "@AndersonCooper      647\n",
       "@truthfeednews       497\n",
       "@Jenn_Abrams         466\n",
       "@washingtonpost      443\n",
       "@nytimes             441\n",
       "@jstines3            413\n",
       "@deray               380\n",
       "@Acosta              367\n",
       "@                    363\n",
       "@todayinsyria        357\n",
       "Name: count, dtype: int64"
      ]
     },
     "execution_count": 33,
     "metadata": {},
     "output_type": "execute_result"
    }
   ],
   "source": [
    "list_top_30_ats = get_most_common_from_list_col(df,'mentions', top_n=30)\n",
    "list_top_30_ats"
   ]
  },
  {
   "cell_type": "markdown",
   "metadata": {},
   "source": [
    "### def get_tags_ats `[DEPRECATED 2024]`"
   ]
  },
  {
   "cell_type": "code",
   "execution_count": 34,
   "metadata": {
    "execution": {
     "iopub.execute_input": "2024-05-22T00:17:17.523972Z",
     "iopub.status.busy": "2024-05-22T00:17:17.523847Z",
     "iopub.status.idle": "2024-05-22T00:17:17.526261Z",
     "shell.execute_reply": "2024-05-22T00:17:17.525862Z",
     "shell.execute_reply.started": "2024-05-22T00:17:17.523961Z"
    }
   },
   "outputs": [],
   "source": [
    "# from tqdm import tqdm\n",
    "# all_hashtags = []\n",
    "# for i in range(len(hashtag_list)):\n",
    "#     if len(hashtag_list[i])==0:\n",
    "#         continue\n",
    "#     elif len(hashtag_list[i])>1:\n",
    "#         [all_hashtags.append(x) for x in hashtag_list[i]]\n",
    "\n",
    "#     else:\n",
    "#         all_hashtags.append(hashtag_list[i])\n",
    "    \n",
    "# hashtag_counts = pd.Series(all_hashtags)\n",
    "# hashtag_counts.value_counts()"
   ]
  },
  {
   "cell_type": "code",
   "execution_count": 35,
   "metadata": {
    "execution": {
     "iopub.execute_input": "2024-05-22T00:17:17.526947Z",
     "iopub.status.busy": "2024-05-22T00:17:17.526805Z",
     "iopub.status.idle": "2024-05-22T00:17:17.529078Z",
     "shell.execute_reply": "2024-05-22T00:17:17.528747Z",
     "shell.execute_reply.started": "2024-05-22T00:17:17.526936Z"
    }
   },
   "outputs": [],
   "source": [
    "# # Define get_tags_ats to accept a list of text entries and return all found tags and ats as 2 series/lists\n",
    "# def get_tags_ats(text_to_search,exp_tag = r'(#\\w*)',exp_at = r'(@\\w*)', output='series',show_counts=False):\n",
    "#     \"\"\"Accepts a list of text entries to search, and a regex for tags, and a regex for @'s.\n",
    "#     Joins all entries in the list of text and then re.findsall() for both expressions.\n",
    "#     Returns a series of found_tags and a series of found_ats.'\"\"\"\n",
    "#     import re\n",
    "    \n",
    "#     # Create a single long joined-list of strings\n",
    "#     text_to_search_combined = ' '.join(text_to_search)\n",
    "        \n",
    "#     # print(len(text_to_search_combined), len(text_to_search_list))\n",
    "#     found_tags = re.findall(exp_tag, text_to_search_combined)\n",
    "#     found_ats = re.findall(exp_at, text_to_search_combined)\n",
    "    \n",
    "#     if output.lower() == 'series':\n",
    "#         found_tags = pd.Series(found_tags, name='tags')\n",
    "#         found_ats = pd.Series(found_ats, name='ats')\n",
    "        \n",
    "#         if show_counts==True:\n",
    "#             print(f'\\t{found_tags.name}:\\n{tweet_tags.value_counts()} \\n\\n\\t{found_ats.name}:\\n{tweet_ats.value_counts()}')\n",
    "                \n",
    "#     if (output.lower() != 'series') & (show_counts==True):\n",
    "#         raise Exception('output must be set to \"series\" in order to show_counts')\n",
    "                       \n",
    "#     return found_tags, found_ats"
   ]
  },
  {
   "cell_type": "code",
   "execution_count": 36,
   "metadata": {
    "execution": {
     "iopub.execute_input": "2024-05-22T00:17:17.529727Z",
     "iopub.status.busy": "2024-05-22T00:17:17.529627Z",
     "iopub.status.idle": "2024-05-22T00:17:17.531632Z",
     "shell.execute_reply": "2024-05-22T00:17:17.531238Z",
     "shell.execute_reply.started": "2024-05-22T00:17:17.529717Z"
    },
    "scrolled": true
   },
   "outputs": [],
   "source": [
    "# # Need to get a list of hash tags.\n",
    "# text_to_search_list = []\n",
    "\n",
    "# for i in range(len(df)):    \n",
    "#     tweet_contents =df['content'].iloc[i]\n",
    "#     text_to_search_list.append(tweet_contents)\n",
    "\n",
    "# text_to_search_list[:2]"
   ]
  },
  {
   "cell_type": "code",
   "execution_count": 37,
   "metadata": {
    "execution": {
     "iopub.execute_input": "2024-05-22T00:17:17.532517Z",
     "iopub.status.busy": "2024-05-22T00:17:17.532351Z",
     "iopub.status.idle": "2024-05-22T00:17:17.534720Z",
     "shell.execute_reply": "2024-05-22T00:17:17.534277Z",
     "shell.execute_reply.started": "2024-05-22T00:17:17.532506Z"
    }
   },
   "outputs": [],
   "source": [
    "# # Get all tweet tags and @'s from text_to_search_list\n",
    "# tweet_tags, tweet_ats = get_tags_ats(text_to_search_list, show_counts=False)\n",
    "\n",
    "# print(f\"There were {len(tweet_tags)} unique hashtags and {len(tweet_ats)} unique @'s\\n\")\n",
    "\n",
    "# # Create a dataframe with top_tags\n",
    "# df_top_tags = pd.DataFrame(tweet_tags.value_counts()[:40])#,'\\n')\n",
    "# df_top_tags['% Total'] = (df_top_tags['tags']/len(tweet_tags)*100)\n",
    "\n",
    "# # Create a dataframe with top_ats\n",
    "# df_top_ats = pd.DataFrame(tweet_ats.value_counts()[:40])\n",
    "# df_top_ats['% Total'] = (df_top_ats['ats']/len(tweet_ats)*100)\n",
    "\n",
    "# # Display top tags and ats\n",
    "# # bs.display_side_by_side(df_top_tags,df_top_ats)"
   ]
  },
  {
   "cell_type": "markdown",
   "metadata": {},
   "source": [
    "### Notes on Top Tags and Ats:\n"
   ]
  },
  {
   "cell_type": "code",
   "execution_count": 38,
   "metadata": {
    "execution": {
     "iopub.execute_input": "2024-05-22T00:17:17.541842Z",
     "iopub.status.busy": "2024-05-22T00:17:17.541503Z",
     "iopub.status.idle": "2024-05-22T00:17:17.544291Z",
     "shell.execute_reply": "2024-05-22T00:17:17.543728Z",
     "shell.execute_reply.started": "2024-05-22T00:17:17.541820Z"
    }
   },
   "outputs": [],
   "source": [
    "# # Choose list of top tags to use in search\n",
    "# list_top_30_tags = df_top_tags.index[:30]\n",
    "# list_top_30_tags"
   ]
  },
  {
   "cell_type": "code",
   "execution_count": 39,
   "metadata": {
    "execution": {
     "iopub.execute_input": "2024-05-22T00:17:17.545126Z",
     "iopub.status.busy": "2024-05-22T00:17:17.544820Z",
     "iopub.status.idle": "2024-05-22T00:17:17.546914Z",
     "shell.execute_reply": "2024-05-22T00:17:17.546513Z",
     "shell.execute_reply.started": "2024-05-22T00:17:17.545112Z"
    }
   },
   "outputs": [],
   "source": [
    "# # Choose list of top tags to use in search\n",
    "# list_top_30_ats = df_top_ats.index[:30]\n",
    "# list_top_30_ats"
   ]
  },
  {
   "cell_type": "markdown",
   "metadata": {},
   "source": [
    "## Summary of Tweet Search Strategy \n",
    "- **The most common hashtags include some very generic categories** that will not be appropriate control tweets.\n",
    "    - Examples:\n",
    "        - '#news','#sports','#politics','#world','#local','#TopNews','#health','#business','#tech'\n",
    "    - If we used these to extract control Tweets, our model would be biased, since many of these categories contain time-specific topics and would therefore be easy to predict vs. the troll tweets.\n",
    "  \n",
    "- **The most common @'s are much more revealing and helpful in narrowing the focus of the results.**\n",
    "    - Final decision is to use the top 40 mentions from the trolls tweets and extracting present-day Tweets with the same mentions. \n",
    "___"
   ]
  },
  {
   "cell_type": "markdown",
   "metadata": {},
   "source": [
    "# Using the Twitter Search API to Extract Control Tweets"
   ]
  },
  {
   "cell_type": "markdown",
   "metadata": {},
   "source": [
    "- [x] Required API key are saved in the Main folder in which this repo is saved. \n",
    "- [x] Check the [Premium account docs for search syntax](https://developer.twitter.com/en/docs/tweets/search/guides/premium-operators.html)\n",
    "- [x] [Check this article for using Tweepy for most efficient twitter api extraction](https://bhaskarvk.github.io/2015/01/how-to-use-twitters-search-rest-api-most-effectively./)"
   ]
  },
  {
   "cell_type": "markdown",
   "metadata": {},
   "source": [
    "**LINK TO PREMIUM SEARCH API GUIDE**<br>\n",
    "https://developer.twitter.com/en/docs/tweets/search/api-reference/premium-search\n",
    "\n",
    "**Available search operators**\n",
    "- Premium search API supports rules with up to 1,024 characters. The Search Tweets APIs support the premium operators listed below. See our Premium operators guide for more details.\n",
    "\n",
    "- The base URI for the premium search API is https://api.twitter.com/1.1/tweets/search/.\n",
    "\n",
    "**Matching on Tweet contents:**\n",
    "- keyword , \"quoted phrase\" , # , @, url , lang"
   ]
  },
  {
   "cell_type": "markdown",
   "metadata": {},
   "source": [
    "\n",
    "## ⛔️ Using `tweepy` to access twitter API"
   ]
  },
  {
   "cell_type": "code",
   "execution_count": 40,
   "metadata": {
    "execution": {
     "iopub.execute_input": "2024-05-22T00:17:17.547642Z",
     "iopub.status.busy": "2024-05-22T00:17:17.547473Z",
     "iopub.status.idle": "2024-05-22T00:17:17.551622Z",
     "shell.execute_reply": "2024-05-22T00:17:17.551000Z",
     "shell.execute_reply.started": "2024-05-22T00:17:17.547630Z"
    }
   },
   "outputs": [],
   "source": [
    "# No longer needed - converted unusable code to python-flavor markdown\n",
    "# raise Exception(\"Free twitter API access has been removed and the following code is no longer runnable.\")\n"
   ]
  },
  {
   "cell_type": "markdown",
   "metadata": {},
   "source": [
    "### def connect_twitter_api, def search_twitter_api"
   ]
  },
  {
   "cell_type": "markdown",
   "metadata": {
    "code_folding": [],
    "execution": {
     "iopub.status.busy": "2024-05-21T23:38:36.488216Z",
     "iopub.status.idle": "2024-05-21T23:38:36.488330Z",
     "shell.execute_reply": "2024-05-21T23:38:36.488271Z",
     "shell.execute_reply.started": "2024-05-21T23:38:36.488266Z"
    }
   },
   "source": [
    "```python\n",
    "# Initialzie Tweepy with Authorization Keys    \n",
    "def connect_twitter_api(api_key, api_secret_key):\n",
    "    import tweepy, sys\n",
    "    auth = tweepy.AppAuthHandler(api_key, api_secret_key)\n",
    "    api = tweepy.API(auth, wait_on_rate_limit=True, wait_on_rate_limit_notify=True)\n",
    "\n",
    "    if (not api):\n",
    "        print(\"Can't authenticate.\")\n",
    "        sys.exit(-1)\n",
    "    return api\n",
    "\n",
    "def search_twitter_api(api_object, searchQuery, maxTweets, fName, tweetsPerQry=100, max_id=0, sinceId=None):\n",
    "    \"\"\"Take an authenticated tweepy api_object, a search queary, max# of tweets to retreive, a desintation filename.\n",
    "    Uses tweept.api.search for the searchQuery until maxTweets is reached, saved harvest tweets to fName.\"\"\"\n",
    "    import sys, jsonpickle, os\n",
    "    api = api_object\n",
    "    tweetCount = 0\n",
    "    print(f'Downloading max{maxTweets} for {searchQuery}...')\n",
    "    with open(fName, 'a+') as f:\n",
    "        while tweetCount < maxTweets:\n",
    "\n",
    "            try:\n",
    "                if (max_id <=0):\n",
    "                    if (not sinceId):\n",
    "                        new_tweets = api.search(q=searchQuery, count=tweetsPerQry, tweet_mode='extended')\n",
    "                    else:\n",
    "                        new_tweets = api.search(q=searchQuery, count=tweetsPerQry, since_id=sinceId, tweet_mode='extended')\n",
    "\n",
    "                else:\n",
    "                    if (not sinceId):\n",
    "                        new_tweets = api.search(q=searchQuery, count=tweetsPerQry, max_id=str(max_id-1), tweet_mode='extended')\n",
    "                    else:\n",
    "                        new_tweets = api.search(q=searchQuery, count=tweetsPerQry, max_id=str(max_id-1),since_id=sinceId, tweet_mode='extended')\n",
    "\n",
    "                if not new_tweets:\n",
    "                    print('No more tweets found')\n",
    "                    break\n",
    "\n",
    "                for tweet in new_tweets:\n",
    "                    f.write(jsonpickle.encode(tweet._json, unpicklable=False)+'\\n')\n",
    "\n",
    "                tweetCount+=len(new_tweets)\n",
    "\n",
    "                print(\"Downloaded {0} tweets\".format(tweetCount))\n",
    "                max_id = new_tweets[-1].id\n",
    "\n",
    "            except tweepy.TweepError as e:\n",
    "                # Just exit if any error\n",
    "                print(\"some error : \" + str(e))\n",
    "                break\n",
    "    print (\"Downloaded {0} tweets, Saved to {1}\\n\".format(tweetCount, fName))\n",
    "```"
   ]
  },
  {
   "cell_type": "markdown",
   "metadata": {},
   "source": [
    "## Connect to Twitter and Harvest Tweets\n",
    "\n",
    "### Making lists of tags and ats to query"
   ]
  },
  {
   "cell_type": "markdown",
   "metadata": {
    "execution": {
     "iopub.status.busy": "2024-05-21T23:38:36.489670Z",
     "iopub.status.idle": "2024-05-21T23:38:36.490099Z",
     "shell.execute_reply": "2024-05-21T23:38:36.490027Z",
     "shell.execute_reply.started": "2024-05-21T23:38:36.490019Z"
    }
   },
   "source": [
    "```python\n",
    "# Figure out the # of each @ and each # that i want ot query, then make a query_dict to feed into the cell below\n",
    "query_ats = tuple(zip(df_top_ats.index, df_top_ats['ats']))\n",
    "query_tags = tuple(zip(df_top_tags.index, df_top_tags['tags']))\n",
    "\n",
    "# Calculate how many tweets are represented by the top 30 tags and top 30 @'s \n",
    "sum_top_tweet_tags = df_top_tags['tags'].sum()\n",
    "sum_top_tweet_ats = df_top_ats['ats'].sum()\n",
    "print(f\"Sum of top tags = {sum_top_tweet_tags}\\nSum of top @'s = {sum_top_tweet_ats}\")\n",
    "\n",
    "print(query_ats[:10],'\\n')\n",
    "print(query_tags[:10])\n",
    "\n",
    "np.sum([x[1] for x in query_ats])\n",
    "```"
   ]
  },
  {
   "cell_type": "markdown",
   "metadata": {
    "execution": {
     "iopub.status.busy": "2024-05-21T23:38:36.491298Z",
     "iopub.status.idle": "2024-05-21T23:38:36.491425Z",
     "shell.execute_reply": "2024-05-21T23:38:36.491363Z",
     "shell.execute_reply.started": "2024-05-21T23:38:36.491357Z"
    }
   },
   "source": [
    "```python\n",
    "# Inspect Data to get search parameters:\n",
    "print(f'Tweet date range:\\n {min(df.index)} to {max(df.index)}')\n",
    "print(f'\\nTotal days: {max(df.index)-min(df.index)}')\n",
    "```"
   ]
  },
  {
   "cell_type": "markdown",
   "metadata": {},
   "source": [
    "### Connecting to twitter api and searching for lists of queries"
   ]
  },
  {
   "cell_type": "markdown",
   "metadata": {
    "execution": {
     "iopub.status.busy": "2024-05-21T23:38:36.491930Z",
     "iopub.status.idle": "2024-05-21T23:38:36.492066Z",
     "shell.execute_reply": "2024-05-21T23:38:36.491999Z",
     "shell.execute_reply.started": "2024-05-21T23:38:36.491993Z"
    }
   },
   "source": [
    "```python\n",
    "# Import API keys from text files (so not displayed here and not in repo)\n",
    "with open('../consumer_API_key.txt','r') as f:\n",
    "    api_key =  f.read()\n",
    "with open('../consumer_API_secret_key.txt','r') as f:\n",
    "    api_secret_key  = f.read()\n",
    "```"
   ]
  },
  {
   "cell_type": "markdown",
   "metadata": {},
   "source": [
    "#### Test searches"
   ]
  },
  {
   "cell_type": "markdown",
   "metadata": {
    "execution": {
     "iopub.status.busy": "2024-05-21T23:38:36.492500Z",
     "iopub.status.idle": "2024-05-21T23:38:36.492618Z",
     "shell.execute_reply": "2024-05-21T23:38:36.492556Z",
     "shell.execute_reply.started": "2024-05-21T23:38:36.492550Z"
    }
   },
   "source": [
    "```python\n",
    "\n",
    "# Manually connecting to API and doing test searches. \n",
    "import tweepy, sys\n",
    "auth = tweepy.AppAuthHandler(api_key, api_secret_key)\n",
    "api = tweepy.API(auth, wait_on_rate_limit=True, wait_on_rate_limit_notify=True)\n",
    "\n",
    "if (not api):\n",
    "    print(\"Can't authenticate.\")\n",
    "    sys.exit(-1)\n",
    "```"
   ]
  },
  {
   "cell_type": "markdown",
   "metadata": {
    "execution": {
     "iopub.status.busy": "2024-05-21T23:38:36.493214Z",
     "iopub.status.idle": "2024-05-21T23:38:36.493432Z",
     "shell.execute_reply": "2024-05-21T23:38:36.493334Z",
     "shell.execute_reply.started": "2024-05-21T23:38:36.493328Z"
    }
   },
   "source": [
    "```python\n",
    "# Search for a batch of test results\n",
    "searchQuery='#politics'\n",
    "tweetsPerQry=100\n",
    "\n",
    "new_tweets = api.search(q=searchQuery, count=tweetsPerQry, tweet_mode='extended')\n",
    "type(new_tweets)\n",
    "```\n"
   ]
  },
  {
   "cell_type": "markdown",
   "metadata": {
    "execution": {
     "iopub.status.busy": "2024-05-21T23:38:36.494269Z",
     "iopub.status.idle": "2024-05-21T23:38:36.494402Z",
     "shell.execute_reply": "2024-05-21T23:38:36.494340Z",
     "shell.execute_reply.started": "2024-05-21T23:38:36.494334Z"
    }
   },
   "source": [
    "```python\n",
    "#  Display time range of new_tweets so i can define a timetrange to test\n",
    "test_dates = [x.created_at for x in new_tweets]\n",
    "print(f'Range:{min(test_dates)} to {max(test_dates)}')\n",
    "test_dates[0], test_dates[-1]\n",
    "```\n"
   ]
  },
  {
   "cell_type": "markdown",
   "metadata": {
    "execution": {
     "iopub.execute_input": "2024-05-21T23:42:32.221216Z",
     "iopub.status.busy": "2024-05-21T23:42:32.219508Z",
     "iopub.status.idle": "2024-05-21T23:42:32.231554Z",
     "shell.execute_reply": "2024-05-21T23:42:32.228893Z",
     "shell.execute_reply.started": "2024-05-21T23:42:32.221142Z"
    }
   },
   "source": [
    "```python\n",
    "from datetime import datetime\n",
    "end_time = datetime(2019,6,2,20,0,0)\n",
    "end_time\n",
    "```"
   ]
  },
  {
   "cell_type": "markdown",
   "metadata": {
    "execution": {
     "iopub.status.busy": "2024-05-21T23:38:36.495862Z",
     "iopub.status.idle": "2024-05-21T23:38:36.496039Z",
     "shell.execute_reply": "2024-05-21T23:38:36.495973Z",
     "shell.execute_reply.started": "2024-05-21T23:38:36.495967Z"
    }
   },
   "source": [
    "```python\n",
    "## DEFINING A NEW FUNCTION TO EXAMINE THE NEW_TWEETS OUTPUTS\n",
    "def check_tweet_daterange(new_tweets,timerange_begin,timerange_end,verbose=0):\n",
    "    \"\"\"Examines specific information for each tweet in a tweepy searchResults object.\"\"\"\n",
    "    \n",
    "    time_start = timerange_begin\n",
    "    time_end = timerange_end\n",
    "    \n",
    "    # Pull out each tweet's status object. \n",
    "    idx_keep_tweets = []\n",
    "    for i,tweet in enumerate(new_tweets):\n",
    "        if (tweet.created_at > time_start) and (tweet.created_at < time_end):\n",
    "            idx_keep_tweets.append(i)\n",
    "            if verbose>0:\n",
    "                print(f'tweet({i} kept:{tweet.created_at})')\n",
    "    return idx_keep_tweets\n",
    "```"
   ]
  },
  {
   "cell_type": "markdown",
   "metadata": {
    "execution": {
     "iopub.status.busy": "2024-05-21T23:38:36.496622Z",
     "iopub.status.idle": "2024-05-21T23:38:36.496760Z",
     "shell.execute_reply": "2024-05-21T23:38:36.496701Z",
     "shell.execute_reply.started": "2024-05-21T23:38:36.496696Z"
    }
   },
   "source": [
    "```python\n",
    "\n",
    "# Determining search criteria to limit twitter results to\n",
    "latest_date = max(df.index) # Get latest date from troll tweets\n",
    "earliest_date = min(df.index) # Get the earliest date from troll tweets\n",
    "\n",
    "# Convert pandas timestamps to datetime object for tweet results\n",
    "latest_datetime = latest_date.to_pydatetime()\n",
    "earliest_datetime = earliest_date.to_pydatetime()\n",
    "```"
   ]
  },
  {
   "cell_type": "markdown",
   "metadata": {},
   "source": [
    "#### Automated Searches:"
   ]
  },
  {
   "cell_type": "markdown",
   "metadata": {
    "execution": {
     "iopub.status.busy": "2024-05-21T23:38:36.497137Z",
     "iopub.status.idle": "2024-05-21T23:38:36.497243Z",
     "shell.execute_reply": "2024-05-21T23:38:36.497187Z",
     "shell.execute_reply.started": "2024-05-21T23:38:36.497182Z"
    }
   },
   "source": [
    "```python\n",
    "api = connect_twitter_api(api_key,api_secret_key)\n",
    "\n",
    "# Extract tweets for top @'s, while matching the distribution of top @'s\n",
    "final_query_list = query_ats\n",
    "filename = 'tweets_for_top40_ats.txt'\n",
    "\n",
    "for q in final_query_list:\n",
    "    searchQuery = q[0]\n",
    "    maxTweets = q[1]\n",
    "    print(f'Query={searchQuery}, max={maxTweets}')\n",
    "    search_twitter_api(api, searchQuery, maxTweets, fName=filename)\n",
    "```"
   ]
  },
  {
   "cell_type": "markdown",
   "metadata": {},
   "source": [
    "## 👉✅ Processing Extracted Tweets from API to match Troll Tweet Features [05/21/24] "
   ]
  },
  {
   "cell_type": "code",
   "execution_count": 41,
   "metadata": {
    "execution": {
     "iopub.execute_input": "2024-05-22T00:17:17.552866Z",
     "iopub.status.busy": "2024-05-22T00:17:17.552626Z",
     "iopub.status.idle": "2024-05-22T00:17:17.557457Z",
     "shell.execute_reply": "2024-05-22T00:17:17.556952Z",
     "shell.execute_reply.started": "2024-05-22T00:17:17.552845Z"
    }
   },
   "outputs": [
    {
     "data": {
      "text/plain": [
       "['tweets_for_top40_ats.txt',\n",
       " '__df_full_tweets_all_text_processed__.csv',\n",
       " 'russian_troll_tweets_eng_only_date_pub_index.csv']"
      ]
     },
     "execution_count": 41,
     "metadata": {},
     "output_type": "execute_result"
    }
   ],
   "source": [
    "import os\n",
    "os.listdir(\"final_dataset/\")"
   ]
  },
  {
   "cell_type": "code",
   "execution_count": 42,
   "metadata": {
    "execution": {
     "iopub.execute_input": "2024-05-22T00:17:17.558388Z",
     "iopub.status.busy": "2024-05-22T00:17:17.558193Z",
     "iopub.status.idle": "2024-05-22T00:17:17.560671Z",
     "shell.execute_reply": "2024-05-22T00:17:17.560211Z",
     "shell.execute_reply.started": "2024-05-22T00:17:17.558375Z"
    }
   },
   "outputs": [],
   "source": [
    "import json\n",
    "top_mentions_filename = \"final_dataset/tweets_for_top40_ats.txt\"  "
   ]
  },
  {
   "cell_type": "code",
   "execution_count": 43,
   "metadata": {
    "execution": {
     "iopub.execute_input": "2024-05-22T00:17:17.561437Z",
     "iopub.status.busy": "2024-05-22T00:17:17.561277Z",
     "iopub.status.idle": "2024-05-22T00:17:20.546454Z",
     "shell.execute_reply": "2024-05-22T00:17:20.546022Z",
     "shell.execute_reply.started": "2024-05-22T00:17:17.561426Z"
    }
   },
   "outputs": [
    {
     "data": {
      "text/html": [
       "<div>\n",
       "<style scoped>\n",
       "    .dataframe tbody tr th:only-of-type {\n",
       "        vertical-align: middle;\n",
       "    }\n",
       "\n",
       "    .dataframe tbody tr th {\n",
       "        vertical-align: top;\n",
       "    }\n",
       "\n",
       "    .dataframe thead th {\n",
       "        text-align: right;\n",
       "    }\n",
       "</style>\n",
       "<table border=\"1\" class=\"dataframe\">\n",
       "  <thead>\n",
       "    <tr style=\"text-align: right;\">\n",
       "      <th></th>\n",
       "      <th>contributors</th>\n",
       "      <th>coordinates</th>\n",
       "      <th>created_at</th>\n",
       "      <th>display_text_range</th>\n",
       "      <th>entities</th>\n",
       "      <th>favorite_count</th>\n",
       "      <th>favorited</th>\n",
       "      <th>full_text</th>\n",
       "      <th>geo</th>\n",
       "      <th>id</th>\n",
       "      <th>id_str</th>\n",
       "      <th>in_reply_to_screen_name</th>\n",
       "      <th>in_reply_to_status_id</th>\n",
       "      <th>in_reply_to_status_id_str</th>\n",
       "      <th>in_reply_to_user_id</th>\n",
       "      <th>in_reply_to_user_id_str</th>\n",
       "      <th>is_quote_status</th>\n",
       "      <th>lang</th>\n",
       "      <th>metadata</th>\n",
       "      <th>place</th>\n",
       "      <th>retweet_count</th>\n",
       "      <th>retweeted</th>\n",
       "      <th>source</th>\n",
       "      <th>truncated</th>\n",
       "      <th>user</th>\n",
       "      <th>retweeted_status</th>\n",
       "      <th>possibly_sensitive</th>\n",
       "      <th>extended_entities</th>\n",
       "      <th>quoted_status</th>\n",
       "      <th>quoted_status_id</th>\n",
       "      <th>quoted_status_id_str</th>\n",
       "      <th>withheld_in_countries</th>\n",
       "    </tr>\n",
       "  </thead>\n",
       "  <tbody>\n",
       "    <tr>\n",
       "      <th>0</th>\n",
       "      <td>NaN</td>\n",
       "      <td>None</td>\n",
       "      <td>2019-06-02 18:34:59+00:00</td>\n",
       "      <td>[0, 202]</td>\n",
       "      <td>{'hashtags': [{'indices': [48, 66], 'text': 'd...</td>\n",
       "      <td>0</td>\n",
       "      <td>False</td>\n",
       "      <td>@realDonaldTrump it’s perfectly reasonable tha...</td>\n",
       "      <td>None</td>\n",
       "      <td>1135253495479537664</td>\n",
       "      <td>1135253495479537664</td>\n",
       "      <td>realDonaldTrump</td>\n",
       "      <td>NaN</td>\n",
       "      <td>NaN</td>\n",
       "      <td>25073877.0</td>\n",
       "      <td>25073877.0</td>\n",
       "      <td>False</td>\n",
       "      <td>en</td>\n",
       "      <td>{'iso_language_code': 'en', 'result_type': 're...</td>\n",
       "      <td>None</td>\n",
       "      <td>0</td>\n",
       "      <td>False</td>\n",
       "      <td>&lt;a href=\"http://twitter.com/download/iphone\" r...</td>\n",
       "      <td>False</td>\n",
       "      <td>{'contributors_enabled': False, 'created_at': ...</td>\n",
       "      <td>NaN</td>\n",
       "      <td>NaN</td>\n",
       "      <td>NaN</td>\n",
       "      <td>NaN</td>\n",
       "      <td>NaN</td>\n",
       "      <td>NaN</td>\n",
       "      <td>NaN</td>\n",
       "    </tr>\n",
       "    <tr>\n",
       "      <th>1</th>\n",
       "      <td>NaN</td>\n",
       "      <td>None</td>\n",
       "      <td>2019-06-02 18:34:59+00:00</td>\n",
       "      <td>[0, 139]</td>\n",
       "      <td>{'hashtags': [], 'symbols': [], 'urls': [], 'u...</td>\n",
       "      <td>0</td>\n",
       "      <td>False</td>\n",
       "      <td>RT @BelkissObadia: BREAKING NEWS: \\n\\n@realDon...</td>\n",
       "      <td>None</td>\n",
       "      <td>1135253495303626753</td>\n",
       "      <td>1135253495303626752</td>\n",
       "      <td>None</td>\n",
       "      <td>NaN</td>\n",
       "      <td>NaN</td>\n",
       "      <td>NaN</td>\n",
       "      <td>NaN</td>\n",
       "      <td>False</td>\n",
       "      <td>en</td>\n",
       "      <td>{'iso_language_code': 'en', 'result_type': 're...</td>\n",
       "      <td>None</td>\n",
       "      <td>950</td>\n",
       "      <td>False</td>\n",
       "      <td>&lt;a href=\"http://twitter.com/download/android\" ...</td>\n",
       "      <td>False</td>\n",
       "      <td>{'contributors_enabled': False, 'created_at': ...</td>\n",
       "      <td>{'contributors': None, 'coordinates': None, 'c...</td>\n",
       "      <td>NaN</td>\n",
       "      <td>NaN</td>\n",
       "      <td>NaN</td>\n",
       "      <td>NaN</td>\n",
       "      <td>NaN</td>\n",
       "      <td>NaN</td>\n",
       "    </tr>\n",
       "    <tr>\n",
       "      <th>2</th>\n",
       "      <td>NaN</td>\n",
       "      <td>None</td>\n",
       "      <td>2019-06-02 18:34:59+00:00</td>\n",
       "      <td>[17, 207]</td>\n",
       "      <td>{'hashtags': [], 'symbols': [], 'urls': [], 'u...</td>\n",
       "      <td>0</td>\n",
       "      <td>False</td>\n",
       "      <td>@realDonaldTrump I thought you were supposed t...</td>\n",
       "      <td>None</td>\n",
       "      <td>1135253494963888135</td>\n",
       "      <td>1135253494963888128</td>\n",
       "      <td>realDonaldTrump</td>\n",
       "      <td>1.135250e+18</td>\n",
       "      <td>1.135250e+18</td>\n",
       "      <td>25073877.0</td>\n",
       "      <td>25073877.0</td>\n",
       "      <td>False</td>\n",
       "      <td>en</td>\n",
       "      <td>{'iso_language_code': 'en', 'result_type': 're...</td>\n",
       "      <td>None</td>\n",
       "      <td>0</td>\n",
       "      <td>False</td>\n",
       "      <td>&lt;a href=\"http://twitter.com/download/android\" ...</td>\n",
       "      <td>False</td>\n",
       "      <td>{'contributors_enabled': False, 'created_at': ...</td>\n",
       "      <td>NaN</td>\n",
       "      <td>NaN</td>\n",
       "      <td>NaN</td>\n",
       "      <td>NaN</td>\n",
       "      <td>NaN</td>\n",
       "      <td>NaN</td>\n",
       "      <td>NaN</td>\n",
       "    </tr>\n",
       "    <tr>\n",
       "      <th>3</th>\n",
       "      <td>NaN</td>\n",
       "      <td>None</td>\n",
       "      <td>2019-06-02 18:34:59+00:00</td>\n",
       "      <td>[0, 139]</td>\n",
       "      <td>{'hashtags': [], 'symbols': [], 'urls': [], 'u...</td>\n",
       "      <td>0</td>\n",
       "      <td>False</td>\n",
       "      <td>RT @realDonaldTrump: Mexico is sending a big d...</td>\n",
       "      <td>None</td>\n",
       "      <td>1135253494523281409</td>\n",
       "      <td>1135253494523281408</td>\n",
       "      <td>None</td>\n",
       "      <td>NaN</td>\n",
       "      <td>NaN</td>\n",
       "      <td>NaN</td>\n",
       "      <td>NaN</td>\n",
       "      <td>False</td>\n",
       "      <td>en</td>\n",
       "      <td>{'iso_language_code': 'en', 'result_type': 're...</td>\n",
       "      <td>None</td>\n",
       "      <td>3128</td>\n",
       "      <td>False</td>\n",
       "      <td>&lt;a href=\"http://twitter.com/#!/download/ipad\" ...</td>\n",
       "      <td>False</td>\n",
       "      <td>{'contributors_enabled': False, 'created_at': ...</td>\n",
       "      <td>{'contributors': None, 'coordinates': None, 'c...</td>\n",
       "      <td>NaN</td>\n",
       "      <td>NaN</td>\n",
       "      <td>NaN</td>\n",
       "      <td>NaN</td>\n",
       "      <td>NaN</td>\n",
       "      <td>NaN</td>\n",
       "    </tr>\n",
       "    <tr>\n",
       "      <th>4</th>\n",
       "      <td>NaN</td>\n",
       "      <td>None</td>\n",
       "      <td>2019-06-02 18:34:59+00:00</td>\n",
       "      <td>[0, 139]</td>\n",
       "      <td>{'hashtags': [], 'symbols': [], 'urls': [], 'u...</td>\n",
       "      <td>0</td>\n",
       "      <td>False</td>\n",
       "      <td>RT @realDonaldTrump: Mexico is sending a big d...</td>\n",
       "      <td>None</td>\n",
       "      <td>1135253494254858240</td>\n",
       "      <td>1135253494254858240</td>\n",
       "      <td>None</td>\n",
       "      <td>NaN</td>\n",
       "      <td>NaN</td>\n",
       "      <td>NaN</td>\n",
       "      <td>NaN</td>\n",
       "      <td>False</td>\n",
       "      <td>en</td>\n",
       "      <td>{'iso_language_code': 'en', 'result_type': 're...</td>\n",
       "      <td>None</td>\n",
       "      <td>3128</td>\n",
       "      <td>False</td>\n",
       "      <td>&lt;a href=\"http://twitter.com/download/android\" ...</td>\n",
       "      <td>False</td>\n",
       "      <td>{'contributors_enabled': False, 'created_at': ...</td>\n",
       "      <td>{'contributors': None, 'coordinates': None, 'c...</td>\n",
       "      <td>NaN</td>\n",
       "      <td>NaN</td>\n",
       "      <td>NaN</td>\n",
       "      <td>NaN</td>\n",
       "      <td>NaN</td>\n",
       "      <td>NaN</td>\n",
       "    </tr>\n",
       "  </tbody>\n",
       "</table>\n",
       "</div>"
      ],
      "text/plain": [
       "   contributors coordinates                created_at display_text_range  \\\n",
       "0           NaN        None 2019-06-02 18:34:59+00:00           [0, 202]   \n",
       "1           NaN        None 2019-06-02 18:34:59+00:00           [0, 139]   \n",
       "2           NaN        None 2019-06-02 18:34:59+00:00          [17, 207]   \n",
       "3           NaN        None 2019-06-02 18:34:59+00:00           [0, 139]   \n",
       "4           NaN        None 2019-06-02 18:34:59+00:00           [0, 139]   \n",
       "\n",
       "                                            entities  favorite_count  \\\n",
       "0  {'hashtags': [{'indices': [48, 66], 'text': 'd...               0   \n",
       "1  {'hashtags': [], 'symbols': [], 'urls': [], 'u...               0   \n",
       "2  {'hashtags': [], 'symbols': [], 'urls': [], 'u...               0   \n",
       "3  {'hashtags': [], 'symbols': [], 'urls': [], 'u...               0   \n",
       "4  {'hashtags': [], 'symbols': [], 'urls': [], 'u...               0   \n",
       "\n",
       "   favorited                                          full_text   geo  \\\n",
       "0      False  @realDonaldTrump it’s perfectly reasonable tha...  None   \n",
       "1      False  RT @BelkissObadia: BREAKING NEWS: \\n\\n@realDon...  None   \n",
       "2      False  @realDonaldTrump I thought you were supposed t...  None   \n",
       "3      False  RT @realDonaldTrump: Mexico is sending a big d...  None   \n",
       "4      False  RT @realDonaldTrump: Mexico is sending a big d...  None   \n",
       "\n",
       "                    id               id_str in_reply_to_screen_name  \\\n",
       "0  1135253495479537664  1135253495479537664         realDonaldTrump   \n",
       "1  1135253495303626753  1135253495303626752                    None   \n",
       "2  1135253494963888135  1135253494963888128         realDonaldTrump   \n",
       "3  1135253494523281409  1135253494523281408                    None   \n",
       "4  1135253494254858240  1135253494254858240                    None   \n",
       "\n",
       "   in_reply_to_status_id  in_reply_to_status_id_str  in_reply_to_user_id  \\\n",
       "0                    NaN                        NaN           25073877.0   \n",
       "1                    NaN                        NaN                  NaN   \n",
       "2           1.135250e+18               1.135250e+18           25073877.0   \n",
       "3                    NaN                        NaN                  NaN   \n",
       "4                    NaN                        NaN                  NaN   \n",
       "\n",
       "   in_reply_to_user_id_str  is_quote_status lang  \\\n",
       "0               25073877.0            False   en   \n",
       "1                      NaN            False   en   \n",
       "2               25073877.0            False   en   \n",
       "3                      NaN            False   en   \n",
       "4                      NaN            False   en   \n",
       "\n",
       "                                            metadata place  retweet_count  \\\n",
       "0  {'iso_language_code': 'en', 'result_type': 're...  None              0   \n",
       "1  {'iso_language_code': 'en', 'result_type': 're...  None            950   \n",
       "2  {'iso_language_code': 'en', 'result_type': 're...  None              0   \n",
       "3  {'iso_language_code': 'en', 'result_type': 're...  None           3128   \n",
       "4  {'iso_language_code': 'en', 'result_type': 're...  None           3128   \n",
       "\n",
       "   retweeted                                             source  truncated  \\\n",
       "0      False  <a href=\"http://twitter.com/download/iphone\" r...      False   \n",
       "1      False  <a href=\"http://twitter.com/download/android\" ...      False   \n",
       "2      False  <a href=\"http://twitter.com/download/android\" ...      False   \n",
       "3      False  <a href=\"http://twitter.com/#!/download/ipad\" ...      False   \n",
       "4      False  <a href=\"http://twitter.com/download/android\" ...      False   \n",
       "\n",
       "                                                user  \\\n",
       "0  {'contributors_enabled': False, 'created_at': ...   \n",
       "1  {'contributors_enabled': False, 'created_at': ...   \n",
       "2  {'contributors_enabled': False, 'created_at': ...   \n",
       "3  {'contributors_enabled': False, 'created_at': ...   \n",
       "4  {'contributors_enabled': False, 'created_at': ...   \n",
       "\n",
       "                                    retweeted_status  possibly_sensitive  \\\n",
       "0                                                NaN                 NaN   \n",
       "1  {'contributors': None, 'coordinates': None, 'c...                 NaN   \n",
       "2                                                NaN                 NaN   \n",
       "3  {'contributors': None, 'coordinates': None, 'c...                 NaN   \n",
       "4  {'contributors': None, 'coordinates': None, 'c...                 NaN   \n",
       "\n",
       "  extended_entities quoted_status  quoted_status_id  quoted_status_id_str  \\\n",
       "0               NaN           NaN               NaN                   NaN   \n",
       "1               NaN           NaN               NaN                   NaN   \n",
       "2               NaN           NaN               NaN                   NaN   \n",
       "3               NaN           NaN               NaN                   NaN   \n",
       "4               NaN           NaN               NaN                   NaN   \n",
       "\n",
       "  withheld_in_countries  \n",
       "0                   NaN  \n",
       "1                   NaN  \n",
       "2                   NaN  \n",
       "3                   NaN  \n",
       "4                   NaN  "
      ]
     },
     "execution_count": 43,
     "metadata": {},
     "output_type": "execute_result"
    }
   ],
   "source": [
    "df_ats = pd.read_json(top_mentions_filename, lines=True)\n",
    "df_ats.head()"
   ]
  },
  {
   "cell_type": "markdown",
   "metadata": {},
   "source": [
    "#### Tweets from Ats are Too Big for Repo"
   ]
  },
  {
   "cell_type": "code",
   "execution_count": 44,
   "metadata": {
    "execution": {
     "iopub.execute_input": "2024-05-22T00:17:20.547118Z",
     "iopub.status.busy": "2024-05-22T00:17:20.547029Z",
     "iopub.status.idle": "2024-05-22T00:17:25.769369Z",
     "shell.execute_reply": "2024-05-22T00:17:25.768950Z",
     "shell.execute_reply.started": "2024-05-22T00:17:20.547109Z"
    }
   },
   "outputs": [],
   "source": [
    "# Save as json.gz for repo\n",
    "fname = 'data/tweets_for_top40_ats.json.gz'\n",
    "df_ats.to_json(fname,compression=compression_kws )"
   ]
  },
  {
   "cell_type": "markdown",
   "metadata": {},
   "source": [
    "### Additional Files (Not yet re-created in updated notebook)"
   ]
  },
  {
   "cell_type": "code",
   "execution_count": 45,
   "metadata": {
    "execution": {
     "iopub.execute_input": "2024-05-22T00:17:25.770029Z",
     "iopub.status.busy": "2024-05-22T00:17:25.769920Z",
     "iopub.status.idle": "2024-05-22T00:17:25.775094Z",
     "shell.execute_reply": "2024-05-22T00:17:25.774452Z",
     "shell.execute_reply.started": "2024-05-22T00:17:25.770018Z"
    }
   },
   "outputs": [
    {
     "data": {
      "text/plain": [
       "['tweets_for_top40_ats.txt',\n",
       " '__df_full_tweets_all_text_processed__.csv',\n",
       " 'russian_troll_tweets_eng_only_date_pub_index.csv']"
      ]
     },
     "execution_count": 45,
     "metadata": {},
     "output_type": "execute_result"
    }
   ],
   "source": [
    "os.listdir('final_dataset/')"
   ]
  },
  {
   "cell_type": "code",
   "execution_count": 46,
   "metadata": {
    "execution": {
     "iopub.execute_input": "2024-05-22T00:17:25.776116Z",
     "iopub.status.busy": "2024-05-22T00:17:25.775947Z",
     "iopub.status.idle": "2024-05-22T00:17:25.778198Z",
     "shell.execute_reply": "2024-05-22T00:17:25.777771Z",
     "shell.execute_reply.started": "2024-05-22T00:17:25.776104Z"
    }
   },
   "outputs": [],
   "source": [
    "# fname_temp_in = 'final_dataset/__df_full_tweets_all_text_processed__.csv'\n",
    "# temp_df = pd.read_csv(fname_temp_in, low_memory=False)\n",
    "# temp_df"
   ]
  },
  {
   "cell_type": "code",
   "execution_count": 47,
   "metadata": {
    "execution": {
     "iopub.execute_input": "2024-05-22T00:17:25.778963Z",
     "iopub.status.busy": "2024-05-22T00:17:25.778781Z",
     "iopub.status.idle": "2024-05-22T00:17:25.780744Z",
     "shell.execute_reply": "2024-05-22T00:17:25.780431Z",
     "shell.execute_reply.started": "2024-05-22T00:17:25.778951Z"
    }
   },
   "outputs": [],
   "source": [
    "# memory = temp_df.memory_usage()\n",
    "# (memory/memory.sum()).round(2)"
   ]
  },
  {
   "cell_type": "code",
   "execution_count": 48,
   "metadata": {
    "execution": {
     "iopub.execute_input": "2024-05-22T00:17:25.781380Z",
     "iopub.status.busy": "2024-05-22T00:17:25.781259Z",
     "iopub.status.idle": "2024-05-22T00:17:25.783500Z",
     "shell.execute_reply": "2024-05-22T00:17:25.783124Z",
     "shell.execute_reply.started": "2024-05-22T00:17:25.781369Z"
    }
   },
   "outputs": [],
   "source": [
    "\n",
    "# # Save as json.gz for repo\n",
    "# fname_temp_out = fname_temp_in.replace('final_dataset/',folder).replace('.csv','.csv.gz')\n",
    "# print(fname_temp_out)\n",
    "# # temp_df.to_json(fname_temp,compression=compression_kws )\n",
    "# temp_df.to_csv(fname_temp_out, compression=compression_kws)"
   ]
  },
  {
   "cell_type": "markdown",
   "metadata": {},
   "source": [
    "## [ 📌Bookmark 05/21/24] EDA on Extracted Tweets"
   ]
  },
  {
   "cell_type": "markdown",
   "metadata": {},
   "source": [
    "> 🚨🤔 05/21/2024: Why remove RT here? I know its retweets, but...?"
   ]
  },
  {
   "cell_type": "code",
   "execution_count": 49,
   "metadata": {
    "execution": {
     "iopub.execute_input": "2024-05-22T00:17:25.784150Z",
     "iopub.status.busy": "2024-05-22T00:17:25.784045Z",
     "iopub.status.idle": "2024-05-22T00:17:26.629458Z",
     "shell.execute_reply": "2024-05-22T00:17:26.628678Z",
     "shell.execute_reply.started": "2024-05-22T00:17:25.784139Z"
    }
   },
   "outputs": [
    {
     "data": {
      "text/plain": [
       "<Axes: >"
      ]
     },
     "execution_count": 49,
     "metadata": {},
     "output_type": "execute_result"
    },
    {
     "data": {
      "image/png": "[encoded data removed]",
      "text/plain": [
       "<Figure size 2500x1000 with 2 Axes>"
      ]
     },
     "metadata": {},
     "output_type": "display_data"
    }
   ],
   "source": [
    "import missingno\n",
    "missingno.matrix(df_ats)"
   ]
  },
  {
   "cell_type": "code",
   "execution_count": 50,
   "metadata": {
    "execution": {
     "iopub.execute_input": "2024-05-22T00:17:26.631113Z",
     "iopub.status.busy": "2024-05-22T00:17:26.630692Z",
     "iopub.status.idle": "2024-05-22T00:17:26.676483Z",
     "shell.execute_reply": "2024-05-22T00:17:26.676120Z",
     "shell.execute_reply.started": "2024-05-22T00:17:26.631092Z"
    }
   },
   "outputs": [
    {
     "data": {
      "text/plain": [
       "contributors                 100.00\n",
       "coordinates                   99.99\n",
       "created_at                     0.00\n",
       "display_text_range             0.00\n",
       "entities                       0.00\n",
       "favorite_count                 0.00\n",
       "favorited                      0.00\n",
       "full_text                      0.00\n",
       "geo                           99.99\n",
       "id                             0.00\n",
       "id_str                         0.00\n",
       "in_reply_to_screen_name       53.27\n",
       "in_reply_to_status_id         56.14\n",
       "in_reply_to_status_id_str     56.14\n",
       "in_reply_to_user_id           53.27\n",
       "in_reply_to_user_id_str       53.27\n",
       "is_quote_status                0.00\n",
       "lang                           0.00\n",
       "metadata                       0.00\n",
       "place                         98.28\n",
       "retweet_count                  0.00\n",
       "retweeted                      0.00\n",
       "source                         0.00\n",
       "truncated                      0.00\n",
       "user                           0.00\n",
       "retweeted_status              52.35\n",
       "possibly_sensitive            78.59\n",
       "extended_entities             88.95\n",
       "quoted_status                 97.04\n",
       "quoted_status_id              93.04\n",
       "quoted_status_id_str          93.04\n",
       "withheld_in_countries        100.00\n",
       "dtype: float64"
      ]
     },
     "execution_count": 50,
     "metadata": {},
     "output_type": "execute_result"
    }
   ],
   "source": [
    "# Get % null for each column to drop high nulls\n",
    "perc_null = (df_ats.isna().sum()/len(df_ats) * 100).round(2)\n",
    "perc_null"
   ]
  },
  {
   "cell_type": "code",
   "execution_count": 51,
   "metadata": {
    "execution": {
     "iopub.execute_input": "2024-05-22T00:17:26.677242Z",
     "iopub.status.busy": "2024-05-22T00:17:26.677122Z",
     "iopub.status.idle": "2024-05-22T00:17:26.682589Z",
     "shell.execute_reply": "2024-05-22T00:17:26.681718Z",
     "shell.execute_reply.started": "2024-05-22T00:17:26.677230Z"
    }
   },
   "outputs": [
    {
     "data": {
      "text/plain": [
       "Index(['contributors', 'coordinates', 'geo', 'place', 'quoted_status',\n",
       "       'quoted_status_id', 'quoted_status_id_str', 'withheld_in_countries'],\n",
       "      dtype='object')"
      ]
     },
     "execution_count": 51,
     "metadata": {},
     "output_type": "execute_result"
    }
   ],
   "source": [
    "# Drop cols with >90% null\n",
    "high_nan_cols = perc_null[perc_null>90].index\n",
    "high_nan_cols"
   ]
  },
  {
   "cell_type": "code",
   "execution_count": 52,
   "metadata": {
    "execution": {
     "iopub.execute_input": "2024-05-22T00:17:26.684723Z",
     "iopub.status.busy": "2024-05-22T00:17:26.684583Z",
     "iopub.status.idle": "2024-05-22T00:17:26.688189Z",
     "shell.execute_reply": "2024-05-22T00:17:26.687730Z",
     "shell.execute_reply.started": "2024-05-22T00:17:26.684712Z"
    }
   },
   "outputs": [
    {
     "data": {
      "text/plain": [
       "['in_reply_to_screen_name',\n",
       " 'in_reply_to_status_id',\n",
       " 'in_reply_to_status_id_str',\n",
       " 'in_reply_to_user_id',\n",
       " 'in_reply_to_user_id_str']"
      ]
     },
     "execution_count": 52,
     "metadata": {},
     "output_type": "execute_result"
    }
   ],
   "source": [
    "in_reply_cols = [c for c in df_ats.columns if c.startswith('in_reply')]\n",
    "in_reply_cols"
   ]
  },
  {
   "cell_type": "code",
   "execution_count": 53,
   "metadata": {
    "execution": {
     "iopub.execute_input": "2024-05-22T00:17:26.689045Z",
     "iopub.status.busy": "2024-05-22T00:17:26.688826Z",
     "iopub.status.idle": "2024-05-22T00:17:26.733389Z",
     "shell.execute_reply": "2024-05-22T00:17:26.732852Z",
     "shell.execute_reply.started": "2024-05-22T00:17:26.689028Z"
    }
   },
   "outputs": [
    {
     "data": {
      "text/html": [
       "<div>\n",
       "<style scoped>\n",
       "    .dataframe tbody tr th:only-of-type {\n",
       "        vertical-align: middle;\n",
       "    }\n",
       "\n",
       "    .dataframe tbody tr th {\n",
       "        vertical-align: top;\n",
       "    }\n",
       "\n",
       "    .dataframe thead th {\n",
       "        text-align: right;\n",
       "    }\n",
       "</style>\n",
       "<table border=\"1\" class=\"dataframe\">\n",
       "  <thead>\n",
       "    <tr style=\"text-align: right;\">\n",
       "      <th></th>\n",
       "      <th>created_at</th>\n",
       "      <th>display_text_range</th>\n",
       "      <th>entities</th>\n",
       "      <th>favorite_count</th>\n",
       "      <th>favorited</th>\n",
       "      <th>full_text</th>\n",
       "      <th>id</th>\n",
       "      <th>id_str</th>\n",
       "      <th>is_quote_status</th>\n",
       "      <th>lang</th>\n",
       "      <th>metadata</th>\n",
       "      <th>retweet_count</th>\n",
       "      <th>retweeted</th>\n",
       "      <th>source</th>\n",
       "      <th>truncated</th>\n",
       "      <th>user</th>\n",
       "      <th>retweeted_status</th>\n",
       "      <th>possibly_sensitive</th>\n",
       "      <th>extended_entities</th>\n",
       "    </tr>\n",
       "  </thead>\n",
       "  <tbody>\n",
       "    <tr>\n",
       "      <th>0</th>\n",
       "      <td>2019-06-02 18:34:59+00:00</td>\n",
       "      <td>[0, 202]</td>\n",
       "      <td>{'hashtags': [{'indices': [48, 66], 'text': 'd...</td>\n",
       "      <td>0</td>\n",
       "      <td>False</td>\n",
       "      <td>@realDonaldTrump it’s perfectly reasonable tha...</td>\n",
       "      <td>1135253495479537664</td>\n",
       "      <td>1135253495479537664</td>\n",
       "      <td>False</td>\n",
       "      <td>en</td>\n",
       "      <td>{'iso_language_code': 'en', 'result_type': 're...</td>\n",
       "      <td>0</td>\n",
       "      <td>False</td>\n",
       "      <td>&lt;a href=\"http://twitter.com/download/iphone\" r...</td>\n",
       "      <td>False</td>\n",
       "      <td>{'contributors_enabled': False, 'created_at': ...</td>\n",
       "      <td>NaN</td>\n",
       "      <td>NaN</td>\n",
       "      <td>NaN</td>\n",
       "    </tr>\n",
       "    <tr>\n",
       "      <th>1</th>\n",
       "      <td>2019-06-02 18:34:59+00:00</td>\n",
       "      <td>[0, 139]</td>\n",
       "      <td>{'hashtags': [], 'symbols': [], 'urls': [], 'u...</td>\n",
       "      <td>0</td>\n",
       "      <td>False</td>\n",
       "      <td>RT @BelkissObadia: BREAKING NEWS: \\n\\n@realDon...</td>\n",
       "      <td>1135253495303626753</td>\n",
       "      <td>1135253495303626752</td>\n",
       "      <td>False</td>\n",
       "      <td>en</td>\n",
       "      <td>{'iso_language_code': 'en', 'result_type': 're...</td>\n",
       "      <td>950</td>\n",
       "      <td>False</td>\n",
       "      <td>&lt;a href=\"http://twitter.com/download/android\" ...</td>\n",
       "      <td>False</td>\n",
       "      <td>{'contributors_enabled': False, 'created_at': ...</td>\n",
       "      <td>{'contributors': None, 'coordinates': None, 'c...</td>\n",
       "      <td>NaN</td>\n",
       "      <td>NaN</td>\n",
       "    </tr>\n",
       "    <tr>\n",
       "      <th>2</th>\n",
       "      <td>2019-06-02 18:34:59+00:00</td>\n",
       "      <td>[17, 207]</td>\n",
       "      <td>{'hashtags': [], 'symbols': [], 'urls': [], 'u...</td>\n",
       "      <td>0</td>\n",
       "      <td>False</td>\n",
       "      <td>@realDonaldTrump I thought you were supposed t...</td>\n",
       "      <td>1135253494963888135</td>\n",
       "      <td>1135253494963888128</td>\n",
       "      <td>False</td>\n",
       "      <td>en</td>\n",
       "      <td>{'iso_language_code': 'en', 'result_type': 're...</td>\n",
       "      <td>0</td>\n",
       "      <td>False</td>\n",
       "      <td>&lt;a href=\"http://twitter.com/download/android\" ...</td>\n",
       "      <td>False</td>\n",
       "      <td>{'contributors_enabled': False, 'created_at': ...</td>\n",
       "      <td>NaN</td>\n",
       "      <td>NaN</td>\n",
       "      <td>NaN</td>\n",
       "    </tr>\n",
       "    <tr>\n",
       "      <th>3</th>\n",
       "      <td>2019-06-02 18:34:59+00:00</td>\n",
       "      <td>[0, 139]</td>\n",
       "      <td>{'hashtags': [], 'symbols': [], 'urls': [], 'u...</td>\n",
       "      <td>0</td>\n",
       "      <td>False</td>\n",
       "      <td>RT @realDonaldTrump: Mexico is sending a big d...</td>\n",
       "      <td>1135253494523281409</td>\n",
       "      <td>1135253494523281408</td>\n",
       "      <td>False</td>\n",
       "      <td>en</td>\n",
       "      <td>{'iso_language_code': 'en', 'result_type': 're...</td>\n",
       "      <td>3128</td>\n",
       "      <td>False</td>\n",
       "      <td>&lt;a href=\"http://twitter.com/#!/download/ipad\" ...</td>\n",
       "      <td>False</td>\n",
       "      <td>{'contributors_enabled': False, 'created_at': ...</td>\n",
       "      <td>{'contributors': None, 'coordinates': None, 'c...</td>\n",
       "      <td>NaN</td>\n",
       "      <td>NaN</td>\n",
       "    </tr>\n",
       "    <tr>\n",
       "      <th>4</th>\n",
       "      <td>2019-06-02 18:34:59+00:00</td>\n",
       "      <td>[0, 139]</td>\n",
       "      <td>{'hashtags': [], 'symbols': [], 'urls': [], 'u...</td>\n",
       "      <td>0</td>\n",
       "      <td>False</td>\n",
       "      <td>RT @realDonaldTrump: Mexico is sending a big d...</td>\n",
       "      <td>1135253494254858240</td>\n",
       "      <td>1135253494254858240</td>\n",
       "      <td>False</td>\n",
       "      <td>en</td>\n",
       "      <td>{'iso_language_code': 'en', 'result_type': 're...</td>\n",
       "      <td>3128</td>\n",
       "      <td>False</td>\n",
       "      <td>&lt;a href=\"http://twitter.com/download/android\" ...</td>\n",
       "      <td>False</td>\n",
       "      <td>{'contributors_enabled': False, 'created_at': ...</td>\n",
       "      <td>{'contributors': None, 'coordinates': None, 'c...</td>\n",
       "      <td>NaN</td>\n",
       "      <td>NaN</td>\n",
       "    </tr>\n",
       "    <tr>\n",
       "      <th>...</th>\n",
       "      <td>...</td>\n",
       "      <td>...</td>\n",
       "      <td>...</td>\n",
       "      <td>...</td>\n",
       "      <td>...</td>\n",
       "      <td>...</td>\n",
       "      <td>...</td>\n",
       "      <td>...</td>\n",
       "      <td>...</td>\n",
       "      <td>...</td>\n",
       "      <td>...</td>\n",
       "      <td>...</td>\n",
       "      <td>...</td>\n",
       "      <td>...</td>\n",
       "      <td>...</td>\n",
       "      <td>...</td>\n",
       "      <td>...</td>\n",
       "      <td>...</td>\n",
       "      <td>...</td>\n",
       "    </tr>\n",
       "    <tr>\n",
       "      <th>44122</th>\n",
       "      <td>2019-06-03 00:10:46+00:00</td>\n",
       "      <td>[8, 43]</td>\n",
       "      <td>{'hashtags': [], 'symbols': [], 'urls': [], 'u...</td>\n",
       "      <td>1</td>\n",
       "      <td>False</td>\n",
       "      <td>@cnnbrk Send them all over to the junk yard</td>\n",
       "      <td>1135337996050415618</td>\n",
       "      <td>1135337996050415616</td>\n",
       "      <td>False</td>\n",
       "      <td>en</td>\n",
       "      <td>{'iso_language_code': 'en', 'result_type': 're...</td>\n",
       "      <td>0</td>\n",
       "      <td>False</td>\n",
       "      <td>&lt;a href=\"http://twitter.com/download/android\" ...</td>\n",
       "      <td>False</td>\n",
       "      <td>{'contributors_enabled': False, 'created_at': ...</td>\n",
       "      <td>NaN</td>\n",
       "      <td>NaN</td>\n",
       "      <td>NaN</td>\n",
       "    </tr>\n",
       "    <tr>\n",
       "      <th>44123</th>\n",
       "      <td>2019-06-03 00:10:21+00:00</td>\n",
       "      <td>[0, 139]</td>\n",
       "      <td>{'hashtags': [], 'symbols': [], 'urls': [], 'u...</td>\n",
       "      <td>0</td>\n",
       "      <td>False</td>\n",
       "      <td>RT @cnnbrk: Boeing finds another issue with so...</td>\n",
       "      <td>1135337892484603905</td>\n",
       "      <td>1135337892484603904</td>\n",
       "      <td>False</td>\n",
       "      <td>en</td>\n",
       "      <td>{'iso_language_code': 'en', 'result_type': 're...</td>\n",
       "      <td>450</td>\n",
       "      <td>False</td>\n",
       "      <td>&lt;a href=\"http://twitter.com/download/android\" ...</td>\n",
       "      <td>False</td>\n",
       "      <td>{'contributors_enabled': False, 'created_at': ...</td>\n",
       "      <td>{'contributors': None, 'coordinates': None, 'c...</td>\n",
       "      <td>NaN</td>\n",
       "      <td>NaN</td>\n",
       "    </tr>\n",
       "    <tr>\n",
       "      <th>44124</th>\n",
       "      <td>2019-06-03 00:09:31+00:00</td>\n",
       "      <td>[0, 140]</td>\n",
       "      <td>{'hashtags': [], 'symbols': [], 'urls': [], 'u...</td>\n",
       "      <td>0</td>\n",
       "      <td>False</td>\n",
       "      <td>RT @MariaElenaLor12: We are a group of Cubans ...</td>\n",
       "      <td>1135337683654516736</td>\n",
       "      <td>1135337683654516736</td>\n",
       "      <td>False</td>\n",
       "      <td>en</td>\n",
       "      <td>{'iso_language_code': 'en', 'result_type': 're...</td>\n",
       "      <td>17</td>\n",
       "      <td>False</td>\n",
       "      <td>&lt;a href=\"http://twitter.com/download/iphone\" r...</td>\n",
       "      <td>False</td>\n",
       "      <td>{'contributors_enabled': False, 'created_at': ...</td>\n",
       "      <td>{'contributors': None, 'coordinates': None, 'c...</td>\n",
       "      <td>NaN</td>\n",
       "      <td>NaN</td>\n",
       "    </tr>\n",
       "    <tr>\n",
       "      <th>44125</th>\n",
       "      <td>2019-06-03 00:09:26+00:00</td>\n",
       "      <td>[0, 140]</td>\n",
       "      <td>{'hashtags': [{'indices': [17, 35], 'text': 'c...</td>\n",
       "      <td>0</td>\n",
       "      <td>False</td>\n",
       "      <td>RT @CarmenCundi: #continueCubanCFRP \\n@USEmbCu...</td>\n",
       "      <td>1135337661969965056</td>\n",
       "      <td>1135337661969965056</td>\n",
       "      <td>False</td>\n",
       "      <td>und</td>\n",
       "      <td>{'iso_language_code': 'und', 'result_type': 'r...</td>\n",
       "      <td>48</td>\n",
       "      <td>False</td>\n",
       "      <td>&lt;a href=\"http://twitter.com/download/iphone\" r...</td>\n",
       "      <td>False</td>\n",
       "      <td>{'contributors_enabled': False, 'created_at': ...</td>\n",
       "      <td>{'contributors': None, 'coordinates': None, 'c...</td>\n",
       "      <td>NaN</td>\n",
       "      <td>NaN</td>\n",
       "    </tr>\n",
       "    <tr>\n",
       "      <th>44126</th>\n",
       "      <td>2019-06-03 00:09:23+00:00</td>\n",
       "      <td>[0, 140]</td>\n",
       "      <td>{'hashtags': [], 'symbols': [], 'urls': [], 'u...</td>\n",
       "      <td>0</td>\n",
       "      <td>False</td>\n",
       "      <td>RT @davidja54683793: @CNNPolitics @CNN @maddow...</td>\n",
       "      <td>1135337648426373120</td>\n",
       "      <td>1135337648426373120</td>\n",
       "      <td>False</td>\n",
       "      <td>en</td>\n",
       "      <td>{'iso_language_code': 'en', 'result_type': 're...</td>\n",
       "      <td>1</td>\n",
       "      <td>False</td>\n",
       "      <td>&lt;a href=\"http://twitter.com/download/iphone\" r...</td>\n",
       "      <td>False</td>\n",
       "      <td>{'contributors_enabled': False, 'created_at': ...</td>\n",
       "      <td>{'contributors': None, 'coordinates': None, 'c...</td>\n",
       "      <td>NaN</td>\n",
       "      <td>NaN</td>\n",
       "    </tr>\n",
       "  </tbody>\n",
       "</table>\n",
       "<p>44127 rows × 19 columns</p>\n",
       "</div>"
      ],
      "text/plain": [
       "                     created_at display_text_range  \\\n",
       "0     2019-06-02 18:34:59+00:00           [0, 202]   \n",
       "1     2019-06-02 18:34:59+00:00           [0, 139]   \n",
       "2     2019-06-02 18:34:59+00:00          [17, 207]   \n",
       "3     2019-06-02 18:34:59+00:00           [0, 139]   \n",
       "4     2019-06-02 18:34:59+00:00           [0, 139]   \n",
       "...                         ...                ...   \n",
       "44122 2019-06-03 00:10:46+00:00            [8, 43]   \n",
       "44123 2019-06-03 00:10:21+00:00           [0, 139]   \n",
       "44124 2019-06-03 00:09:31+00:00           [0, 140]   \n",
       "44125 2019-06-03 00:09:26+00:00           [0, 140]   \n",
       "44126 2019-06-03 00:09:23+00:00           [0, 140]   \n",
       "\n",
       "                                                entities  favorite_count  \\\n",
       "0      {'hashtags': [{'indices': [48, 66], 'text': 'd...               0   \n",
       "1      {'hashtags': [], 'symbols': [], 'urls': [], 'u...               0   \n",
       "2      {'hashtags': [], 'symbols': [], 'urls': [], 'u...               0   \n",
       "3      {'hashtags': [], 'symbols': [], 'urls': [], 'u...               0   \n",
       "4      {'hashtags': [], 'symbols': [], 'urls': [], 'u...               0   \n",
       "...                                                  ...             ...   \n",
       "44122  {'hashtags': [], 'symbols': [], 'urls': [], 'u...               1   \n",
       "44123  {'hashtags': [], 'symbols': [], 'urls': [], 'u...               0   \n",
       "44124  {'hashtags': [], 'symbols': [], 'urls': [], 'u...               0   \n",
       "44125  {'hashtags': [{'indices': [17, 35], 'text': 'c...               0   \n",
       "44126  {'hashtags': [], 'symbols': [], 'urls': [], 'u...               0   \n",
       "\n",
       "       favorited                                          full_text  \\\n",
       "0          False  @realDonaldTrump it’s perfectly reasonable tha...   \n",
       "1          False  RT @BelkissObadia: BREAKING NEWS: \\n\\n@realDon...   \n",
       "2          False  @realDonaldTrump I thought you were supposed t...   \n",
       "3          False  RT @realDonaldTrump: Mexico is sending a big d...   \n",
       "4          False  RT @realDonaldTrump: Mexico is sending a big d...   \n",
       "...          ...                                                ...   \n",
       "44122      False        @cnnbrk Send them all over to the junk yard   \n",
       "44123      False  RT @cnnbrk: Boeing finds another issue with so...   \n",
       "44124      False  RT @MariaElenaLor12: We are a group of Cubans ...   \n",
       "44125      False  RT @CarmenCundi: #continueCubanCFRP \\n@USEmbCu...   \n",
       "44126      False  RT @davidja54683793: @CNNPolitics @CNN @maddow...   \n",
       "\n",
       "                        id               id_str  is_quote_status lang  \\\n",
       "0      1135253495479537664  1135253495479537664            False   en   \n",
       "1      1135253495303626753  1135253495303626752            False   en   \n",
       "2      1135253494963888135  1135253494963888128            False   en   \n",
       "3      1135253494523281409  1135253494523281408            False   en   \n",
       "4      1135253494254858240  1135253494254858240            False   en   \n",
       "...                    ...                  ...              ...  ...   \n",
       "44122  1135337996050415618  1135337996050415616            False   en   \n",
       "44123  1135337892484603905  1135337892484603904            False   en   \n",
       "44124  1135337683654516736  1135337683654516736            False   en   \n",
       "44125  1135337661969965056  1135337661969965056            False  und   \n",
       "44126  1135337648426373120  1135337648426373120            False   en   \n",
       "\n",
       "                                                metadata  retweet_count  \\\n",
       "0      {'iso_language_code': 'en', 'result_type': 're...              0   \n",
       "1      {'iso_language_code': 'en', 'result_type': 're...            950   \n",
       "2      {'iso_language_code': 'en', 'result_type': 're...              0   \n",
       "3      {'iso_language_code': 'en', 'result_type': 're...           3128   \n",
       "4      {'iso_language_code': 'en', 'result_type': 're...           3128   \n",
       "...                                                  ...            ...   \n",
       "44122  {'iso_language_code': 'en', 'result_type': 're...              0   \n",
       "44123  {'iso_language_code': 'en', 'result_type': 're...            450   \n",
       "44124  {'iso_language_code': 'en', 'result_type': 're...             17   \n",
       "44125  {'iso_language_code': 'und', 'result_type': 'r...             48   \n",
       "44126  {'iso_language_code': 'en', 'result_type': 're...              1   \n",
       "\n",
       "       retweeted                                             source  \\\n",
       "0          False  <a href=\"http://twitter.com/download/iphone\" r...   \n",
       "1          False  <a href=\"http://twitter.com/download/android\" ...   \n",
       "2          False  <a href=\"http://twitter.com/download/android\" ...   \n",
       "3          False  <a href=\"http://twitter.com/#!/download/ipad\" ...   \n",
       "4          False  <a href=\"http://twitter.com/download/android\" ...   \n",
       "...          ...                                                ...   \n",
       "44122      False  <a href=\"http://twitter.com/download/android\" ...   \n",
       "44123      False  <a href=\"http://twitter.com/download/android\" ...   \n",
       "44124      False  <a href=\"http://twitter.com/download/iphone\" r...   \n",
       "44125      False  <a href=\"http://twitter.com/download/iphone\" r...   \n",
       "44126      False  <a href=\"http://twitter.com/download/iphone\" r...   \n",
       "\n",
       "       truncated                                               user  \\\n",
       "0          False  {'contributors_enabled': False, 'created_at': ...   \n",
       "1          False  {'contributors_enabled': False, 'created_at': ...   \n",
       "2          False  {'contributors_enabled': False, 'created_at': ...   \n",
       "3          False  {'contributors_enabled': False, 'created_at': ...   \n",
       "4          False  {'contributors_enabled': False, 'created_at': ...   \n",
       "...          ...                                                ...   \n",
       "44122      False  {'contributors_enabled': False, 'created_at': ...   \n",
       "44123      False  {'contributors_enabled': False, 'created_at': ...   \n",
       "44124      False  {'contributors_enabled': False, 'created_at': ...   \n",
       "44125      False  {'contributors_enabled': False, 'created_at': ...   \n",
       "44126      False  {'contributors_enabled': False, 'created_at': ...   \n",
       "\n",
       "                                        retweeted_status  possibly_sensitive  \\\n",
       "0                                                    NaN                 NaN   \n",
       "1      {'contributors': None, 'coordinates': None, 'c...                 NaN   \n",
       "2                                                    NaN                 NaN   \n",
       "3      {'contributors': None, 'coordinates': None, 'c...                 NaN   \n",
       "4      {'contributors': None, 'coordinates': None, 'c...                 NaN   \n",
       "...                                                  ...                 ...   \n",
       "44122                                                NaN                 NaN   \n",
       "44123  {'contributors': None, 'coordinates': None, 'c...                 NaN   \n",
       "44124  {'contributors': None, 'coordinates': None, 'c...                 NaN   \n",
       "44125  {'contributors': None, 'coordinates': None, 'c...                 NaN   \n",
       "44126  {'contributors': None, 'coordinates': None, 'c...                 NaN   \n",
       "\n",
       "      extended_entities  \n",
       "0                   NaN  \n",
       "1                   NaN  \n",
       "2                   NaN  \n",
       "3                   NaN  \n",
       "4                   NaN  \n",
       "...                 ...  \n",
       "44122               NaN  \n",
       "44123               NaN  \n",
       "44124               NaN  \n",
       "44125               NaN  \n",
       "44126               NaN  \n",
       "\n",
       "[44127 rows x 19 columns]"
      ]
     },
     "execution_count": 53,
     "metadata": {},
     "output_type": "execute_result"
    }
   ],
   "source": [
    "df_ats = df_ats.drop(columns=[*high_nan_cols, *in_reply_cols])\n",
    "df_ats"
   ]
  },
  {
   "cell_type": "markdown",
   "metadata": {},
   "source": [
    "### Normalizing Feature Names"
   ]
  },
  {
   "cell_type": "code",
   "execution_count": 54,
   "metadata": {
    "execution": {
     "iopub.execute_input": "2024-05-22T00:17:26.734241Z",
     "iopub.status.busy": "2024-05-22T00:17:26.734113Z",
     "iopub.status.idle": "2024-05-22T00:17:26.737678Z",
     "shell.execute_reply": "2024-05-22T00:17:26.737255Z",
     "shell.execute_reply.started": "2024-05-22T00:17:26.734230Z"
    }
   },
   "outputs": [
    {
     "data": {
      "text/plain": [
       "Index(['external_author_id', 'author', 'content', 'region', 'language',\n",
       "       'publish_date', 'following', 'followers', 'updates', 'retweet',\n",
       "       'account_category', 'alt_external_id', 'tweet_id', 'article_url',\n",
       "       'date_published', 'hashtags', 'mentions', 'links'],\n",
       "      dtype='object')"
      ]
     },
     "execution_count": 54,
     "metadata": {},
     "output_type": "execute_result"
    }
   ],
   "source": [
    "df.columns"
   ]
  },
  {
   "cell_type": "code",
   "execution_count": 55,
   "metadata": {
    "execution": {
     "iopub.execute_input": "2024-05-22T00:17:26.738712Z",
     "iopub.status.busy": "2024-05-22T00:17:26.738573Z",
     "iopub.status.idle": "2024-05-22T00:17:26.741733Z",
     "shell.execute_reply": "2024-05-22T00:17:26.741359Z",
     "shell.execute_reply.started": "2024-05-22T00:17:26.738701Z"
    }
   },
   "outputs": [
    {
     "data": {
      "text/plain": [
       "Index(['created_at', 'display_text_range', 'entities', 'favorite_count',\n",
       "       'favorited', 'full_text', 'id', 'id_str', 'is_quote_status', 'lang',\n",
       "       'metadata', 'retweet_count', 'retweeted', 'source', 'truncated', 'user',\n",
       "       'retweeted_status', 'possibly_sensitive', 'extended_entities'],\n",
       "      dtype='object')"
      ]
     },
     "execution_count": 55,
     "metadata": {},
     "output_type": "execute_result"
    }
   ],
   "source": [
    "df_ats.columns"
   ]
  },
  {
   "cell_type": "code",
   "execution_count": 56,
   "metadata": {
    "execution": {
     "iopub.execute_input": "2024-05-22T00:17:26.742465Z",
     "iopub.status.busy": "2024-05-22T00:17:26.742333Z",
     "iopub.status.idle": "2024-05-22T00:17:26.786333Z",
     "shell.execute_reply": "2024-05-22T00:17:26.785578Z",
     "shell.execute_reply.started": "2024-05-22T00:17:26.742452Z"
    }
   },
   "outputs": [
    {
     "data": {
      "text/html": [
       "<div>\n",
       "<style scoped>\n",
       "    .dataframe tbody tr th:only-of-type {\n",
       "        vertical-align: middle;\n",
       "    }\n",
       "\n",
       "    .dataframe tbody tr th {\n",
       "        vertical-align: top;\n",
       "    }\n",
       "\n",
       "    .dataframe thead th {\n",
       "        text-align: right;\n",
       "    }\n",
       "</style>\n",
       "<table border=\"1\" class=\"dataframe\">\n",
       "  <thead>\n",
       "    <tr style=\"text-align: right;\">\n",
       "      <th></th>\n",
       "      <th>created_at</th>\n",
       "      <th>display_text_range</th>\n",
       "      <th>entities</th>\n",
       "      <th>favorite_count</th>\n",
       "      <th>favorited</th>\n",
       "      <th>full_text</th>\n",
       "      <th>id</th>\n",
       "      <th>id_str</th>\n",
       "      <th>is_quote_status</th>\n",
       "      <th>lang</th>\n",
       "      <th>metadata</th>\n",
       "      <th>retweet_count</th>\n",
       "      <th>retweeted</th>\n",
       "      <th>source</th>\n",
       "      <th>truncated</th>\n",
       "      <th>user</th>\n",
       "      <th>retweeted_status</th>\n",
       "      <th>possibly_sensitive</th>\n",
       "      <th>extended_entities</th>\n",
       "    </tr>\n",
       "  </thead>\n",
       "  <tbody>\n",
       "    <tr>\n",
       "      <th>41184</th>\n",
       "      <td>2019-06-02 10:41:25+00:00</td>\n",
       "      <td>[0, 140]</td>\n",
       "      <td>{'hashtags': [], 'symbols': [], 'urls': [], 'u...</td>\n",
       "      <td>0</td>\n",
       "      <td>False</td>\n",
       "      <td>RT @jstines3: Conservative PATRIOTS strike bac...</td>\n",
       "      <td>1135134318567809024</td>\n",
       "      <td>1135134318567809024</td>\n",
       "      <td>False</td>\n",
       "      <td>en</td>\n",
       "      <td>{'iso_language_code': 'en', 'result_type': 're...</td>\n",
       "      <td>23</td>\n",
       "      <td>False</td>\n",
       "      <td>&lt;a href=\"http://twitter.com\" rel=\"nofollow\"&gt;Tw...</td>\n",
       "      <td>False</td>\n",
       "      <td>{'contributors_enabled': False, 'created_at': ...</td>\n",
       "      <td>{'contributors': None, 'coordinates': None, 'c...</td>\n",
       "      <td>NaN</td>\n",
       "      <td>NaN</td>\n",
       "    </tr>\n",
       "    <tr>\n",
       "      <th>6938</th>\n",
       "      <td>2019-06-02 18:26:12+00:00</td>\n",
       "      <td>[0, 140]</td>\n",
       "      <td>{'hashtags': [{'indices': [48, 55], 'text': 'A...</td>\n",
       "      <td>0</td>\n",
       "      <td>False</td>\n",
       "      <td>RT @sstrople: @DeepStateExpose @realDonaldTrum...</td>\n",
       "      <td>1135251283823214592</td>\n",
       "      <td>1135251283823214592</td>\n",
       "      <td>False</td>\n",
       "      <td>en</td>\n",
       "      <td>{'iso_language_code': 'en', 'result_type': 're...</td>\n",
       "      <td>1</td>\n",
       "      <td>False</td>\n",
       "      <td>&lt;a href=\"http://twitter.com/download/iphone\" r...</td>\n",
       "      <td>False</td>\n",
       "      <td>{'contributors_enabled': False, 'created_at': ...</td>\n",
       "      <td>{'contributors': None, 'coordinates': None, 'c...</td>\n",
       "      <td>NaN</td>\n",
       "      <td>NaN</td>\n",
       "    </tr>\n",
       "  </tbody>\n",
       "</table>\n",
       "</div>"
      ],
      "text/plain": [
       "                     created_at display_text_range  \\\n",
       "41184 2019-06-02 10:41:25+00:00           [0, 140]   \n",
       "6938  2019-06-02 18:26:12+00:00           [0, 140]   \n",
       "\n",
       "                                                entities  favorite_count  \\\n",
       "41184  {'hashtags': [], 'symbols': [], 'urls': [], 'u...               0   \n",
       "6938   {'hashtags': [{'indices': [48, 55], 'text': 'A...               0   \n",
       "\n",
       "       favorited                                          full_text  \\\n",
       "41184      False  RT @jstines3: Conservative PATRIOTS strike bac...   \n",
       "6938       False  RT @sstrople: @DeepStateExpose @realDonaldTrum...   \n",
       "\n",
       "                        id               id_str  is_quote_status lang  \\\n",
       "41184  1135134318567809024  1135134318567809024            False   en   \n",
       "6938   1135251283823214592  1135251283823214592            False   en   \n",
       "\n",
       "                                                metadata  retweet_count  \\\n",
       "41184  {'iso_language_code': 'en', 'result_type': 're...             23   \n",
       "6938   {'iso_language_code': 'en', 'result_type': 're...              1   \n",
       "\n",
       "       retweeted                                             source  \\\n",
       "41184      False  <a href=\"http://twitter.com\" rel=\"nofollow\">Tw...   \n",
       "6938       False  <a href=\"http://twitter.com/download/iphone\" r...   \n",
       "\n",
       "       truncated                                               user  \\\n",
       "41184      False  {'contributors_enabled': False, 'created_at': ...   \n",
       "6938       False  {'contributors_enabled': False, 'created_at': ...   \n",
       "\n",
       "                                        retweeted_status  possibly_sensitive  \\\n",
       "41184  {'contributors': None, 'coordinates': None, 'c...                 NaN   \n",
       "6938   {'contributors': None, 'coordinates': None, 'c...                 NaN   \n",
       "\n",
       "      extended_entities  \n",
       "41184               NaN  \n",
       "6938                NaN  "
      ]
     },
     "metadata": {},
     "output_type": "display_data"
    },
    {
     "data": {
      "text/html": [
       "<div>\n",
       "<style scoped>\n",
       "    .dataframe tbody tr th:only-of-type {\n",
       "        vertical-align: middle;\n",
       "    }\n",
       "\n",
       "    .dataframe tbody tr th {\n",
       "        vertical-align: top;\n",
       "    }\n",
       "\n",
       "    .dataframe thead th {\n",
       "        text-align: right;\n",
       "    }\n",
       "</style>\n",
       "<table border=\"1\" class=\"dataframe\">\n",
       "  <thead>\n",
       "    <tr style=\"text-align: right;\">\n",
       "      <th></th>\n",
       "      <th>external_author_id</th>\n",
       "      <th>author</th>\n",
       "      <th>content</th>\n",
       "      <th>region</th>\n",
       "      <th>language</th>\n",
       "      <th>publish_date</th>\n",
       "      <th>following</th>\n",
       "      <th>followers</th>\n",
       "      <th>updates</th>\n",
       "      <th>retweet</th>\n",
       "      <th>account_category</th>\n",
       "      <th>alt_external_id</th>\n",
       "      <th>tweet_id</th>\n",
       "      <th>article_url</th>\n",
       "      <th>date_published</th>\n",
       "      <th>hashtags</th>\n",
       "      <th>mentions</th>\n",
       "      <th>links</th>\n",
       "    </tr>\n",
       "  </thead>\n",
       "  <tbody>\n",
       "    <tr>\n",
       "      <th>1184606</th>\n",
       "      <td>3074013672</td>\n",
       "      <td>OAKLANDONLINE</td>\n",
       "      <td>Wildfire smoke from Monterey County drifts int...</td>\n",
       "      <td>United States</td>\n",
       "      <td>English</td>\n",
       "      <td>7/26/2016 2:57</td>\n",
       "      <td>13324</td>\n",
       "      <td>12151</td>\n",
       "      <td>14358</td>\n",
       "      <td>0</td>\n",
       "      <td>NewsFeed</td>\n",
       "      <td>3074013672</td>\n",
       "      <td>757771810398097408</td>\n",
       "      <td>http://twitter.com/OaklandOnline/statuses/7577...</td>\n",
       "      <td>2016-07-26 02:57:00</td>\n",
       "      <td>[#news]</td>\n",
       "      <td>[]</td>\n",
       "      <td>[]</td>\n",
       "    </tr>\n",
       "    <tr>\n",
       "      <th>877179</th>\n",
       "      <td>3272640600</td>\n",
       "      <td>EXQUOTE</td>\n",
       "      <td>http://t.co/t4tj9coEmY I'll start workout next...</td>\n",
       "      <td>United States</td>\n",
       "      <td>English</td>\n",
       "      <td>7/31/2015 20:15</td>\n",
       "      <td>2</td>\n",
       "      <td>349</td>\n",
       "      <td>27425</td>\n",
       "      <td>0</td>\n",
       "      <td>Commercial</td>\n",
       "      <td>3272640600</td>\n",
       "      <td>627210905361592320</td>\n",
       "      <td>http://twitter.com/ExQuote/statuses/6272109053...</td>\n",
       "      <td>2015-07-31 20:15:00</td>\n",
       "      <td>[]</td>\n",
       "      <td>[@poppy_brady, @c_garcia713, @Jonathanthekid_,...</td>\n",
       "      <td>[http://t.co/t4tj9coEmY]</td>\n",
       "    </tr>\n",
       "  </tbody>\n",
       "</table>\n",
       "</div>"
      ],
      "text/plain": [
       "         external_author_id         author  \\\n",
       "1184606          3074013672  OAKLANDONLINE   \n",
       "877179           3272640600        EXQUOTE   \n",
       "\n",
       "                                                   content         region  \\\n",
       "1184606  Wildfire smoke from Monterey County drifts int...  United States   \n",
       "877179   http://t.co/t4tj9coEmY I'll start workout next...  United States   \n",
       "\n",
       "        language     publish_date  following  followers  updates  retweet  \\\n",
       "1184606  English   7/26/2016 2:57      13324      12151    14358        0   \n",
       "877179   English  7/31/2015 20:15          2        349    27425        0   \n",
       "\n",
       "        account_category  alt_external_id            tweet_id  \\\n",
       "1184606         NewsFeed       3074013672  757771810398097408   \n",
       "877179        Commercial       3272640600  627210905361592320   \n",
       "\n",
       "                                               article_url  \\\n",
       "1184606  http://twitter.com/OaklandOnline/statuses/7577...   \n",
       "877179   http://twitter.com/ExQuote/statuses/6272109053...   \n",
       "\n",
       "             date_published hashtags  \\\n",
       "1184606 2016-07-26 02:57:00  [#news]   \n",
       "877179  2015-07-31 20:15:00       []   \n",
       "\n",
       "                                                  mentions  \\\n",
       "1184606                                                 []   \n",
       "877179   [@poppy_brady, @c_garcia713, @Jonathanthekid_,...   \n",
       "\n",
       "                            links  \n",
       "1184606                        []  \n",
       "877179   [http://t.co/t4tj9coEmY]  "
      ]
     },
     "metadata": {},
     "output_type": "display_data"
    }
   ],
   "source": [
    "# previewing values from both\n",
    "display( df_ats.sample(10).head(2),df.sample(10).head(2))"
   ]
  },
  {
   "cell_type": "code",
   "execution_count": 57,
   "metadata": {
    "execution": {
     "iopub.execute_input": "2024-05-22T00:17:26.787188Z",
     "iopub.status.busy": "2024-05-22T00:17:26.786935Z",
     "iopub.status.idle": "2024-05-22T00:17:26.796715Z",
     "shell.execute_reply": "2024-05-22T00:17:26.796165Z",
     "shell.execute_reply.started": "2024-05-22T00:17:26.787171Z"
    }
   },
   "outputs": [
    {
     "data": {
      "text/plain": [
       "array(['en', 'es', 'und', 'pl', 'fa', 'in', 'de', 'ht', 'zh', 'eu', 'nl',\n",
       "       'fr', 'tr', 'ca', 'pt', 'hu', 'it', 'my', 'hi', 'da', 'tl', 'no',\n",
       "       'et', 'ja', 'sv', 'fi', 'ur', 'ro', 'lv', 'ko', 'cy', 'cs', 'ru',\n",
       "       'ar', 'lt', 'vi', 'th', 'is', 'si', 'ne', 'bn'], dtype=object)"
      ]
     },
     "execution_count": 57,
     "metadata": {},
     "output_type": "execute_result"
    }
   ],
   "source": [
    "df_ats['lang'].unique()"
   ]
  },
  {
   "cell_type": "code",
   "execution_count": 58,
   "metadata": {
    "execution": {
     "iopub.execute_input": "2024-05-22T00:17:26.798305Z",
     "iopub.status.busy": "2024-05-22T00:17:26.798053Z",
     "iopub.status.idle": "2024-05-22T00:17:26.809353Z",
     "shell.execute_reply": "2024-05-22T00:17:26.808861Z",
     "shell.execute_reply.started": "2024-05-22T00:17:26.798291Z"
    }
   },
   "outputs": [
    {
     "data": {
      "text/plain": [
       "0.8857615518843338"
      ]
     },
     "execution_count": 58,
     "metadata": {},
     "output_type": "execute_result"
    }
   ],
   "source": [
    "# Filter for english-only \n",
    "is_english = df_ats['lang'] == 'en'\n",
    "is_english.sum() /len(is_english)"
   ]
  },
  {
   "cell_type": "code",
   "execution_count": 59,
   "metadata": {
    "execution": {
     "iopub.execute_input": "2024-05-22T00:17:26.810181Z",
     "iopub.status.busy": "2024-05-22T00:17:26.810061Z",
     "iopub.status.idle": "2024-05-22T00:17:26.813539Z",
     "shell.execute_reply": "2024-05-22T00:17:26.813070Z",
     "shell.execute_reply.started": "2024-05-22T00:17:26.810170Z"
    }
   },
   "outputs": [
    {
     "data": {
      "text/plain": [
       "0"
      ]
     },
     "execution_count": 59,
     "metadata": {},
     "output_type": "execute_result"
    }
   ],
   "source": [
    "df_ats['retweeted'].sum()"
   ]
  },
  {
   "cell_type": "code",
   "execution_count": 60,
   "metadata": {
    "execution": {
     "iopub.execute_input": "2024-05-22T00:17:26.814475Z",
     "iopub.status.busy": "2024-05-22T00:17:26.814312Z",
     "iopub.status.idle": "2024-05-22T00:17:26.819783Z",
     "shell.execute_reply": "2024-05-22T00:17:26.819300Z",
     "shell.execute_reply.started": "2024-05-22T00:17:26.814461Z"
    }
   },
   "outputs": [
    {
     "data": {
      "text/plain": [
       "0"
      ]
     },
     "execution_count": 60,
     "metadata": {},
     "output_type": "execute_result"
    }
   ],
   "source": [
    "df['retweet'].sum()"
   ]
  },
  {
   "cell_type": "code",
   "execution_count": null,
   "metadata": {},
   "outputs": [],
   "source": []
  },
  {
   "cell_type": "code",
   "execution_count": 61,
   "metadata": {
    "execution": {
     "iopub.execute_input": "2024-05-22T00:17:26.820482Z",
     "iopub.status.busy": "2024-05-22T00:17:26.820356Z",
     "iopub.status.idle": "2024-05-22T00:17:26.842353Z",
     "shell.execute_reply": "2024-05-22T00:17:26.841721Z",
     "shell.execute_reply.started": "2024-05-22T00:17:26.820471Z"
    }
   },
   "outputs": [
    {
     "data": {
      "text/plain": [
       "0.4765109796723095"
      ]
     },
     "execution_count": 61,
     "metadata": {},
     "output_type": "execute_result"
    }
   ],
   "source": [
    "# Filter manual retweets\n",
    "is_manual_RT = df_ats['full_text'].str.startswith('RT')\n",
    "is_manual_RT.sum() / len(is_manual_RT)"
   ]
  },
  {
   "cell_type": "code",
   "execution_count": 62,
   "metadata": {
    "execution": {
     "iopub.execute_input": "2024-05-22T00:17:26.843259Z",
     "iopub.status.busy": "2024-05-22T00:17:26.843053Z",
     "iopub.status.idle": "2024-05-22T00:17:27.093214Z",
     "shell.execute_reply": "2024-05-22T00:17:27.092728Z",
     "shell.execute_reply.started": "2024-05-22T00:17:26.843247Z"
    }
   },
   "outputs": [
    {
     "data": {
      "text/plain": [
       "0.04423525168646501"
      ]
     },
     "execution_count": 62,
     "metadata": {},
     "output_type": "execute_result"
    }
   ],
   "source": [
    "# Checking original troll tweets for manual RT\n",
    "df['content'].str.startswith(\"RT\").sum() / len(df)"
   ]
  },
  {
   "cell_type": "code",
   "execution_count": 63,
   "metadata": {
    "execution": {
     "iopub.execute_input": "2024-05-22T00:17:27.094191Z",
     "iopub.status.busy": "2024-05-22T00:17:27.094054Z",
     "iopub.status.idle": "2024-05-22T00:17:27.100040Z",
     "shell.execute_reply": "2024-05-22T00:17:27.099137Z",
     "shell.execute_reply.started": "2024-05-22T00:17:27.094180Z"
    }
   },
   "outputs": [
    {
     "data": {
      "text/plain": [
       "19096"
      ]
     },
     "execution_count": 63,
     "metadata": {},
     "output_type": "execute_result"
    }
   ],
   "source": [
    "# Keep rows that are not retweets and are in english\n",
    "keep_rows_ats = ~is_manual_RT & is_english\n",
    "keep_rows_ats.sum()"
   ]
  },
  {
   "cell_type": "code",
   "execution_count": 64,
   "metadata": {
    "execution": {
     "iopub.execute_input": "2024-05-22T00:17:27.101505Z",
     "iopub.status.busy": "2024-05-22T00:17:27.101340Z",
     "iopub.status.idle": "2024-05-22T00:17:27.126109Z",
     "shell.execute_reply": "2024-05-22T00:17:27.125591Z",
     "shell.execute_reply.started": "2024-05-22T00:17:27.101492Z"
    }
   },
   "outputs": [
    {
     "data": {
      "text/plain": [
       "account_category\n",
       "NewsFeed        595561\n",
       "RightTroll      399850\n",
       "Commercial      105928\n",
       "LeftTroll        76365\n",
       "HashtagGamer     67387\n",
       "Fearmonger        9549\n",
       "NonEnglish        5768\n",
       "Unknown           3923\n",
       "Name: count, dtype: int64"
      ]
     },
     "execution_count": 64,
     "metadata": {},
     "output_type": "execute_result"
    }
   ],
   "source": [
    "df['account_category'].value_counts(dropna=False)"
   ]
  },
  {
   "cell_type": "code",
   "execution_count": 65,
   "metadata": {
    "execution": {
     "iopub.execute_input": "2024-05-22T00:17:27.127510Z",
     "iopub.status.busy": "2024-05-22T00:17:27.126802Z",
     "iopub.status.idle": "2024-05-22T00:17:27.142993Z",
     "shell.execute_reply": "2024-05-22T00:17:27.142529Z",
     "shell.execute_reply.started": "2024-05-22T00:17:27.127455Z"
    }
   },
   "outputs": [
    {
     "data": {
      "text/html": [
       "<div>\n",
       "<style scoped>\n",
       "    .dataframe tbody tr th:only-of-type {\n",
       "        vertical-align: middle;\n",
       "    }\n",
       "\n",
       "    .dataframe tbody tr th {\n",
       "        vertical-align: top;\n",
       "    }\n",
       "\n",
       "    .dataframe thead th {\n",
       "        text-align: right;\n",
       "    }\n",
       "</style>\n",
       "<table border=\"1\" class=\"dataframe\">\n",
       "  <thead>\n",
       "    <tr style=\"text-align: right;\">\n",
       "      <th></th>\n",
       "      <th>publish_date</th>\n",
       "      <th>display_text_range</th>\n",
       "      <th>entities</th>\n",
       "      <th>favorite_count</th>\n",
       "      <th>favorited</th>\n",
       "      <th>content</th>\n",
       "      <th>tweet_id</th>\n",
       "      <th>id_str</th>\n",
       "      <th>is_quote_status</th>\n",
       "      <th>lang</th>\n",
       "      <th>metadata</th>\n",
       "      <th>retweet_count</th>\n",
       "      <th>retweeted</th>\n",
       "      <th>source</th>\n",
       "      <th>truncated</th>\n",
       "      <th>user</th>\n",
       "      <th>retweeted_status</th>\n",
       "      <th>possibly_sensitive</th>\n",
       "      <th>extended_entities</th>\n",
       "    </tr>\n",
       "  </thead>\n",
       "  <tbody>\n",
       "    <tr>\n",
       "      <th>0</th>\n",
       "      <td>2019-06-02 18:34:59+00:00</td>\n",
       "      <td>[0, 202]</td>\n",
       "      <td>{'hashtags': [{'indices': [48, 66], 'text': 'd...</td>\n",
       "      <td>0</td>\n",
       "      <td>False</td>\n",
       "      <td>@realDonaldTrump it’s perfectly reasonable tha...</td>\n",
       "      <td>1135253495479537664</td>\n",
       "      <td>1135253495479537664</td>\n",
       "      <td>False</td>\n",
       "      <td>en</td>\n",
       "      <td>{'iso_language_code': 'en', 'result_type': 're...</td>\n",
       "      <td>0</td>\n",
       "      <td>False</td>\n",
       "      <td>&lt;a href=\"http://twitter.com/download/iphone\" r...</td>\n",
       "      <td>False</td>\n",
       "      <td>{'contributors_enabled': False, 'created_at': ...</td>\n",
       "      <td>NaN</td>\n",
       "      <td>NaN</td>\n",
       "      <td>NaN</td>\n",
       "    </tr>\n",
       "  </tbody>\n",
       "</table>\n",
       "</div>"
      ],
      "text/plain": [
       "               publish_date display_text_range  \\\n",
       "0 2019-06-02 18:34:59+00:00           [0, 202]   \n",
       "\n",
       "                                            entities  favorite_count  \\\n",
       "0  {'hashtags': [{'indices': [48, 66], 'text': 'd...               0   \n",
       "\n",
       "   favorited                                            content  \\\n",
       "0      False  @realDonaldTrump it’s perfectly reasonable tha...   \n",
       "\n",
       "              tweet_id               id_str  is_quote_status lang  \\\n",
       "0  1135253495479537664  1135253495479537664            False   en   \n",
       "\n",
       "                                            metadata  retweet_count  \\\n",
       "0  {'iso_language_code': 'en', 'result_type': 're...              0   \n",
       "\n",
       "   retweeted                                             source  truncated  \\\n",
       "0      False  <a href=\"http://twitter.com/download/iphone\" r...      False   \n",
       "\n",
       "                                                user retweeted_status  \\\n",
       "0  {'contributors_enabled': False, 'created_at': ...              NaN   \n",
       "\n",
       "   possibly_sensitive extended_entities  \n",
       "0                 NaN               NaN  "
      ]
     },
     "execution_count": 65,
     "metadata": {},
     "output_type": "execute_result"
    }
   ],
   "source": [
    "## Rename columns to match FiveThirtyEight data\n",
    "# df_ats col:df col\n",
    "rename_api_cols = {'created_at':'publish_date',\n",
    "                    'full_text':'content',\n",
    "                    'id':'tweet_id'\n",
    "                   }\n",
    "df_api = df_ats.rename(rename_api_cols,axis=1)\n",
    "df_api.head(1)"
   ]
  },
  {
   "cell_type": "code",
   "execution_count": 66,
   "metadata": {
    "execution": {
     "iopub.execute_input": "2024-05-22T00:17:27.144035Z",
     "iopub.status.busy": "2024-05-22T00:17:27.143895Z",
     "iopub.status.idle": "2024-05-22T00:17:27.734726Z",
     "shell.execute_reply": "2024-05-22T00:17:27.733907Z",
     "shell.execute_reply.started": "2024-05-22T00:17:27.144024Z"
    }
   },
   "outputs": [
    {
     "ename": "Exception",
     "evalue": "stop here",
     "output_type": "error",
     "traceback": [
      "\u001b[0;31m---------------------------------------------------------------------------\u001b[0m",
      "\u001b[0;31mException\u001b[0m                                 Traceback (most recent call last)",
      "Cell \u001b[0;32mIn[66], line 1\u001b[0m\n\u001b[0;32m----> 1\u001b[0m \u001b[38;5;28;01mraise\u001b[39;00m \u001b[38;5;167;01mException\u001b[39;00m(\u001b[38;5;124m\"\u001b[39m\u001b[38;5;124mstop here\u001b[39m\u001b[38;5;124m\"\u001b[39m)\n",
      "\u001b[0;31mException\u001b[0m: stop here"
     ]
    }
   ],
   "source": [
    "raise Exception(\"stop here\")"
   ]
  },
  {
   "cell_type": "code",
   "execution_count": null,
   "metadata": {},
   "outputs": [],
   "source": []
  },
  {
   "cell_type": "code",
   "execution_count": null,
   "metadata": {},
   "outputs": [],
   "source": []
  },
  {
   "cell_type": "code",
   "execution_count": null,
   "metadata": {
    "execution": {
     "iopub.status.busy": "2024-05-22T00:17:27.735075Z",
     "iopub.status.idle": "2024-05-22T00:17:27.735231Z",
     "shell.execute_reply": "2024-05-22T00:17:27.735151Z",
     "shell.execute_reply.started": "2024-05-22T00:17:27.735145Z"
    }
   },
   "outputs": [],
   "source": [
    "df_ats['entities'][1]"
   ]
  },
  {
   "cell_type": "code",
   "execution_count": null,
   "metadata": {
    "execution": {
     "iopub.status.busy": "2024-05-22T00:17:27.735902Z",
     "iopub.status.idle": "2024-05-22T00:17:27.736192Z",
     "shell.execute_reply": "2024-05-22T00:17:27.736099Z",
     "shell.execute_reply.started": "2024-05-22T00:17:27.736091Z"
    }
   },
   "outputs": [],
   "source": [
    "df.head(1)"
   ]
  },
  {
   "cell_type": "code",
   "execution_count": null,
   "metadata": {},
   "outputs": [],
   "source": []
  },
  {
   "cell_type": "code",
   "execution_count": null,
   "metadata": {
    "execution": {
     "iopub.status.busy": "2024-05-22T00:17:27.736705Z",
     "iopub.status.idle": "2024-05-22T00:17:27.736881Z",
     "shell.execute_reply": "2024-05-22T00:17:27.736801Z",
     "shell.execute_reply.started": "2024-05-22T00:17:27.736795Z"
    }
   },
   "outputs": [],
   "source": [
    "raise Exception(\"still reassessing the workflow below (2024)\")"
   ]
  },
  {
   "cell_type": "code",
   "execution_count": null,
   "metadata": {
    "execution": {
     "iopub.status.busy": "2024-05-22T00:17:27.737886Z",
     "iopub.status.idle": "2024-05-22T00:17:27.738065Z",
     "shell.execute_reply": "2024-05-22T00:17:27.737981Z",
     "shell.execute_reply.started": "2024-05-22T00:17:27.737975Z"
    }
   },
   "outputs": [],
   "source": [
    "df = df_ats.loc[df_ats['full_text'].str.contains('RT')]\n",
    "\n",
    "df.head()"
   ]
  },
  {
   "cell_type": "code",
   "execution_count": null,
   "metadata": {
    "execution": {
     "iopub.status.busy": "2024-05-22T00:17:27.739302Z",
     "iopub.status.idle": "2024-05-22T00:17:27.739609Z",
     "shell.execute_reply": "2024-05-22T00:17:27.739516Z",
     "shell.execute_reply.started": "2024-05-22T00:17:27.739509Z"
    }
   },
   "outputs": [],
   "source": [
    "import re\n",
    "re_RT=re.compile('RT \\@\\w*\\:')"
   ]
  },
  {
   "cell_type": "code",
   "execution_count": null,
   "metadata": {
    "execution": {
     "iopub.status.busy": "2024-05-22T00:17:27.741163Z",
     "iopub.status.idle": "2024-05-22T00:17:27.741380Z",
     "shell.execute_reply": "2024-05-22T00:17:27.741275Z",
     "shell.execute_reply.started": "2024-05-22T00:17:27.741269Z"
    }
   },
   "outputs": [],
   "source": [
    "example_rt_tweets = df['full_text'][:10]\n",
    "example_rt_tweets"
   ]
  },
  {
   "cell_type": "code",
   "execution_count": null,
   "metadata": {
    "execution": {
     "iopub.status.busy": "2024-05-22T00:17:27.742299Z",
     "iopub.status.idle": "2024-05-22T00:17:27.742491Z",
     "shell.execute_reply": "2024-05-22T00:17:27.742392Z",
     "shell.execute_reply.started": "2024-05-22T00:17:27.742387Z"
    }
   },
   "outputs": [],
   "source": [
    "example_rt_tweets.apply(lambda x: re_RT.sub('',x))"
   ]
  },
  {
   "cell_type": "code",
   "execution_count": null,
   "metadata": {
    "execution": {
     "iopub.status.busy": "2024-05-22T00:17:27.743801Z",
     "iopub.status.idle": "2024-05-22T00:17:27.744171Z",
     "shell.execute_reply": "2024-05-22T00:17:27.743959Z",
     "shell.execute_reply.started": "2024-05-22T00:17:27.743952Z"
    }
   },
   "outputs": [],
   "source": [
    "quote_list = (['idx','quoted_status'])\n",
    "for k,v in df['quoted_status'].items()[:10]:\n",
    "    print\n",
    "    quote_list.append([k,v])"
   ]
  },
  {
   "cell_type": "code",
   "execution_count": null,
   "metadata": {
    "execution": {
     "iopub.status.busy": "2024-05-22T00:17:27.746307Z",
     "iopub.status.idle": "2024-05-22T00:17:27.746911Z",
     "shell.execute_reply": "2024-05-22T00:17:27.746731Z",
     "shell.execute_reply.started": "2024-05-22T00:17:27.746721Z"
    }
   },
   "outputs": [],
   "source": [
    "df['retweeted_status'][1]"
   ]
  },
  {
   "cell_type": "code",
   "execution_count": null,
   "metadata": {
    "execution": {
     "iopub.status.busy": "2024-05-22T00:17:27.749255Z",
     "iopub.status.idle": "2024-05-22T00:17:27.749691Z",
     "shell.execute_reply": "2024-05-22T00:17:27.749372Z",
     "shell.execute_reply.started": "2024-05-22T00:17:27.749365Z"
    }
   },
   "outputs": [],
   "source": [
    "df_ats.info()"
   ]
  },
  {
   "cell_type": "code",
   "execution_count": null,
   "metadata": {
    "execution": {
     "iopub.status.busy": "2024-05-22T00:17:27.751814Z",
     "iopub.status.idle": "2024-05-22T00:17:27.752137Z",
     "shell.execute_reply": "2024-05-22T00:17:27.752017Z",
     "shell.execute_reply.started": "2024-05-22T00:17:27.752005Z"
    }
   },
   "outputs": [],
   "source": [
    "pause"
   ]
  },
  {
   "cell_type": "markdown",
   "metadata": {},
   "source": [
    "### Notes on Making New Extracted Tweets Match Russian Troll Tweet Database\n",
    "\n",
    "- Columns to be renamed/reformatted to match troll tweets:\n",
    "    - `created_at` -> `date_published`-> index\n",
    "    - `full_text` -> `content`\n",
    "    - `df['user']`\n",
    "        - `.['followers_count']` -> `'following'`\n",
    "        - `.['followers_count']` -> `'followers'`\n",
    "\n",
    "- Columns missing from original troll tweets (to be removed).\n",
    "    -coordinates, favorited, favorite_count, display_text_range, withheld_in_countries    "
   ]
  },
  {
   "cell_type": "code",
   "execution_count": null,
   "metadata": {
    "execution": {
     "iopub.status.busy": "2024-05-22T00:17:27.753290Z",
     "iopub.status.idle": "2024-05-22T00:17:27.753880Z",
     "shell.execute_reply": "2024-05-22T00:17:27.753474Z",
     "shell.execute_reply.started": "2024-05-22T00:17:27.753463Z"
    }
   },
   "outputs": [],
   "source": [
    "df_ats['lang'][1]"
   ]
  },
  {
   "cell_type": "code",
   "execution_count": null,
   "metadata": {
    "execution": {
     "iopub.status.busy": "2024-05-22T00:17:27.754856Z",
     "iopub.status.idle": "2024-05-22T00:17:27.755095Z",
     "shell.execute_reply": "2024-05-22T00:17:27.754958Z",
     "shell.execute_reply.started": "2024-05-22T00:17:27.754952Z"
    }
   },
   "outputs": [],
   "source": [
    "df_ats.user[10]"
   ]
  },
  {
   "cell_type": "code",
   "execution_count": null,
   "metadata": {
    "execution": {
     "iopub.status.busy": "2024-05-22T00:17:27.756330Z",
     "iopub.status.idle": "2024-05-22T00:17:27.757616Z",
     "shell.execute_reply": "2024-05-22T00:17:27.757286Z",
     "shell.execute_reply.started": "2024-05-22T00:17:27.757272Z"
    }
   },
   "outputs": [],
   "source": [
    "df_ats.entities[0]"
   ]
  },
  {
   "cell_type": "code",
   "execution_count": null,
   "metadata": {
    "execution": {
     "iopub.status.busy": "2024-05-22T00:17:27.759257Z",
     "iopub.status.idle": "2024-05-22T00:17:27.759481Z",
     "shell.execute_reply": "2024-05-22T00:17:27.759366Z",
     "shell.execute_reply.started": "2024-05-22T00:17:27.759359Z"
    }
   },
   "outputs": [],
   "source": [
    "print(df_ats['user'][1]['location'])"
   ]
  },
  {
   "cell_type": "code",
   "execution_count": null,
   "metadata": {
    "execution": {
     "iopub.status.busy": "2024-05-22T00:17:27.761260Z",
     "iopub.status.idle": "2024-05-22T00:17:27.761678Z",
     "shell.execute_reply": "2024-05-22T00:17:27.761409Z",
     "shell.execute_reply.started": "2024-05-22T00:17:27.761402Z"
    }
   },
   "outputs": [],
   "source": [
    "print(df_ats['user'][0]['id'])\n",
    "print(df_ats['user'][0]['screen_name'])\n",
    "print(df_ats['user'][0]['followers_count'])\n",
    "print(df_ats['user'][0]['following'])"
   ]
  },
  {
   "cell_type": "code",
   "execution_count": null,
   "metadata": {
    "execution": {
     "iopub.status.busy": "2024-05-22T00:17:27.762561Z",
     "iopub.status.idle": "2024-05-22T00:17:27.762824Z",
     "shell.execute_reply": "2024-05-22T00:17:27.762741Z",
     "shell.execute_reply.started": "2024-05-22T00:17:27.762731Z"
    }
   },
   "outputs": [],
   "source": [
    "df_test=pd.DataFrame()"
   ]
  },
  {
   "cell_type": "code",
   "execution_count": null,
   "metadata": {
    "execution": {
     "iopub.status.busy": "2024-05-22T00:17:27.763763Z",
     "iopub.status.idle": "2024-05-22T00:17:27.763928Z",
     "shell.execute_reply": "2024-05-22T00:17:27.763847Z",
     "shell.execute_reply.started": "2024-05-22T00:17:27.763841Z"
    }
   },
   "outputs": [],
   "source": [
    "idx_row = df_ats.index[2]\n",
    "curr_row = df_ats.loc[df_ats.index==idx_row]\n",
    "curr_author = curr_row['user']\n",
    "curr_author"
   ]
  },
  {
   "cell_type": "code",
   "execution_count": null,
   "metadata": {
    "execution": {
     "iopub.status.busy": "2024-05-22T00:17:27.764469Z",
     "iopub.status.idle": "2024-05-22T00:17:27.764843Z",
     "shell.execute_reply": "2024-05-22T00:17:27.764603Z",
     "shell.execute_reply.started": "2024-05-22T00:17:27.764588Z"
    }
   },
   "outputs": [],
   "source": [
    "df_columns_list =['external_author_id', 'author', 'content', 'region', 'following', 'followers', 'updates', 'post_type',\n",
    " 'account_type', 'retweet', 'account_category']\n",
    "df_export = pd.DataFrame(columns=df_columns_list)"
   ]
  },
  {
   "cell_type": "code",
   "execution_count": null,
   "metadata": {
    "execution": {
     "iopub.status.busy": "2024-05-22T00:17:27.765887Z",
     "iopub.status.idle": "2024-05-22T00:17:27.766600Z",
     "shell.execute_reply": "2024-05-22T00:17:27.766166Z",
     "shell.execute_reply.started": "2024-05-22T00:17:27.766154Z"
    }
   },
   "outputs": [],
   "source": [
    "df_export.loc[0,'external_author_id']='test'\n",
    "df_export"
   ]
  },
  {
   "cell_type": "code",
   "execution_count": null,
   "metadata": {
    "execution": {
     "iopub.status.busy": "2024-05-22T00:17:27.767407Z",
     "iopub.status.idle": "2024-05-22T00:17:27.767715Z",
     "shell.execute_reply": "2024-05-22T00:17:27.767492Z",
     "shell.execute_reply.started": "2024-05-22T00:17:27.767486Z"
    }
   },
   "outputs": [],
   "source": [
    "curr_author[0]"
   ]
  },
  {
   "cell_type": "code",
   "execution_count": null,
   "metadata": {
    "execution": {
     "iopub.status.busy": "2024-05-22T00:17:27.768966Z",
     "iopub.status.idle": "2024-05-22T00:17:27.769271Z",
     "shell.execute_reply": "2024-05-22T00:17:27.769154Z",
     "shell.execute_reply.started": "2024-05-22T00:17:27.769146Z"
    }
   },
   "outputs": [],
   "source": [
    "full_text=curr_row['ret']\n",
    "full_text"
   ]
  },
  {
   "cell_type": "code",
   "execution_count": null,
   "metadata": {
    "execution": {
     "iopub.status.busy": "2024-05-22T00:17:27.769912Z",
     "iopub.status.idle": "2024-05-22T00:17:27.770149Z",
     "shell.execute_reply": "2024-05-22T00:17:27.769990Z",
     "shell.execute_reply.started": "2024-05-22T00:17:27.769985Z"
    }
   },
   "outputs": [],
   "source": [
    "curr_row['user']\n",
    "row"
   ]
  },
  {
   "cell_type": "code",
   "execution_count": null,
   "metadata": {
    "execution": {
     "iopub.status.busy": "2024-05-22T00:17:27.772388Z",
     "iopub.status.idle": "2024-05-22T00:17:27.772673Z",
     "shell.execute_reply": "2024-05-22T00:17:27.772555Z",
     "shell.execute_reply.started": "2024-05-22T00:17:27.772544Z"
    }
   },
   "outputs": [],
   "source": [
    "df_export=pd.DataFrame()\n",
    "df_columns_list =['external_author_id', 'author', 'content', 'region', 'following', 'followers', 'updates', 'post_type',\n",
    " 'account_type', 'retweet', 'account_category']\n",
    "\n",
    "df_export = pd.DataFrame(columns=df_columns_list)\n",
    "\n",
    "for row in df_ats.index:\n",
    "    \n",
    "    curr_row = df_ats.loc[df_ats.index==row]\n",
    "    curr_author = curr_row['user'][row]\n",
    "    external_author_id = curr_author['id']\n",
    "    author =  curr_author['screen_name']\n",
    "    following = curr_author['following']\n",
    "    followers = curr_author['followers_count']\n",
    "    region = curr_author['location']\n",
    "    full_text = curr_row['full_text'][row]\n",
    "    \n",
    "    df_export.loc[row, 'external_author_id'] = external_author_id\n",
    "    df_export.loc[row, 'author'] = author\n",
    "    df_export.loc[row, 'content'] = full_text\n",
    "    df_export.loc[row, 'region'] = region\n",
    "    df_export.loc[row, 'following'] = following\n",
    "    df_export.loc[row, 'followers'] = followers\n",
    "    df_export.loc[row, 'updates'] = np.nan\n",
    "    df_export.loc[row, 'post_type'] = 'control'\n",
    "    df_export.loc[row, 'account_type'] = 'control'\n",
    "    df_export.loc[row, 'retweet'] = curr_row['retweeted'][row]\n",
    "    df_export.loc[row, 'account_category'] = 'control' \n",
    "    df_export.loc[row, 'publish_date'] = curr_row['created_at'][row]\n",
    "    df_export.loc[row, 'language'] = curr_row['lang'][row]"
   ]
  },
  {
   "cell_type": "code",
   "execution_count": null,
   "metadata": {
    "execution": {
     "iopub.status.busy": "2024-05-22T00:17:27.773061Z",
     "iopub.status.idle": "2024-05-22T00:17:27.773351Z",
     "shell.execute_reply": "2024-05-22T00:17:27.773125Z",
     "shell.execute_reply.started": "2024-05-22T00:17:27.773120Z"
    }
   },
   "outputs": [],
   "source": [
    "df_export.head()"
   ]
  },
  {
   "cell_type": "code",
   "execution_count": null,
   "metadata": {
    "execution": {
     "iopub.status.busy": "2024-05-22T00:17:27.775822Z",
     "iopub.status.idle": "2024-05-22T00:17:27.776175Z",
     "shell.execute_reply": "2024-05-22T00:17:27.775999Z",
     "shell.execute_reply.started": "2024-05-22T00:17:27.775990Z"
    }
   },
   "outputs": [],
   "source": [
    "df_export.to_csv('newly_extracted_control_tweets.csv')"
   ]
  }
 ],
 "metadata": {
  "kernelspec": {
   "display_name": "Python (dojo-env)",
   "language": "python",
   "name": "dojo-env"
  },
  "language_info": {
   "codemirror_mode": {
    "name": "ipython",
    "version": 3
   },
   "file_extension": ".py",
   "mimetype": "text/x-python",
   "name": "python",
   "nbconvert_exporter": "python",
   "pygments_lexer": "ipython3",
   "version": "3.10.10"
  },
  "toc": {
   "base_numbering": 1,
   "nav_menu": {},
   "number_sections": false,
   "sideBar": true,
   "skip_h1_title": false,
   "title_cell": "Table of Contents",
   "title_sidebar": "Contents",
   "toc_cell": false,
   "toc_position": {},
   "toc_section_display": true,
   "toc_window_display": true
  }
 },
 "nbformat": 4,
 "nbformat_minor": 4
}
